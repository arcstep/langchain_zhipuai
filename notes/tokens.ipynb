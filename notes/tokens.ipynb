{
 "cells": [
  {
   "cell_type": "code",
   "execution_count": 1,
   "metadata": {},
   "outputs": [],
   "source": [
    "from dotenv import load_dotenv, find_dotenv\n",
    "load_dotenv(find_dotenv(), override=True)\n",
    "import os\n",
    "os.chdir('..')"
   ]
  },
  {
   "cell_type": "markdown",
   "metadata": {},
   "source": [
    "# invoke方法和stream方法中的Token统计支持"
   ]
  },
  {
   "cell_type": "code",
   "execution_count": 2,
   "metadata": {},
   "outputs": [],
   "source": [
    "from langchain_zhipu import ChatZhipuAI\n",
    "from langchain_core.callbacks import BaseCallbackHandler\n",
    "\n",
    "class CountTokenCallbackHandler(BaseCallbackHandler):\n",
    "\tdef on_llm_end(self, response, **kwargs):\n",
    "\t\tprint(\"-\"*20, \"Token统计\", \"-\"*20)\n",
    "\t\tprint(response)\n",
    "\t\tprint(\"-\"*20, \"--------\", \"-\"*20)"
   ]
  },
  {
   "cell_type": "code",
   "execution_count": 3,
   "metadata": {},
   "outputs": [],
   "source": [
    "from langchain_zhipu import ChatZhipuAI\n",
    "llm_glm = ChatZhipuAI(callbacks=[CountTokenCallbackHandler()])"
   ]
  },
  {
   "cell_type": "markdown",
   "metadata": {},
   "source": [
    "**支持invoke的token统计：**"
   ]
  },
  {
   "cell_type": "code",
   "execution_count": 4,
   "metadata": {},
   "outputs": [
    {
     "name": "stdout",
     "output_type": "stream",
     "text": [
      "-------------------- Token统计 --------------------\n",
      "generations=[[ChatGeneration(text='我是一个基于语言的人工智能模型，名为 ChatGLM，现在又名智谱清言。我是由清华大学 KEG 实验室和智谱 AI 公司于 2023 年共同训练的语言模型 GLM-130B 开发的，我的任务是针对用户的问题和要求提供适当的答复和支持。我是一种大规模预训练语言模型，基于 Transformer 架构，使用了千亿个参数进行训练，能够进行自然语言处理和生成。', generation_info={'finish_reason': 'stop'}, message=AIMessage(content='我是一个基于语言的人工智能模型，名为 ChatGLM，现在又名智谱清言。我是由清华大学 KEG 实验室和智谱 AI 公司于 2023 年共同训练的语言模型 GLM-130B 开发的，我的任务是针对用户的问题和要求提供适当的答复和支持。我是一种大规模预训练语言模型，基于 Transformer 架构，使用了千亿个参数进行训练，能够进行自然语言处理和生成。'))]] llm_output={'id': '8563447219556116499', 'created': 1712989026, 'token_usage': {'completion_tokens': 92, 'prompt_tokens': 9, 'total_tokens': 101}, 'model_name': 'glm-4'} run=None\n",
      "-------------------- -------- --------------------\n"
     ]
    },
    {
     "data": {
      "text/plain": [
       "AIMessage(content='我是一个基于语言的人工智能模型，名为 ChatGLM，现在又名智谱清言。我是由清华大学 KEG 实验室和智谱 AI 公司于 2023 年共同训练的语言模型 GLM-130B 开发的，我的任务是针对用户的问题和要求提供适当的答复和支持。我是一种大规模预训练语言模型，基于 Transformer 架构，使用了千亿个参数进行训练，能够进行自然语言处理和生成。')"
      ]
     },
     "execution_count": 4,
     "metadata": {},
     "output_type": "execute_result"
    }
   ],
   "source": [
    "llm_glm.invoke(\"你是什么模型？\")"
   ]
  },
  {
   "cell_type": "markdown",
   "metadata": {},
   "source": [
    "**支持stream方法的token统计：**"
   ]
  },
  {
   "cell_type": "code",
   "execution_count": 5,
   "metadata": {},
   "outputs": [
    {
     "name": "stdout",
     "output_type": "stream",
     "text": [
      "content='我' id='8561159891771758252'\n",
      "content='使用的' id='8561159891771758252'\n",
      "content='模型' id='8561159891771758252'\n",
      "content='是' id='8561159891771758252'\n",
      "content='清华大学' id='8561159891771758252'\n",
      "content=' K' id='8561159891771758252'\n",
      "content='EG' id='8561159891771758252'\n",
      "content=' 实' id='8561159891771758252'\n",
      "content='验' id='8561159891771758252'\n",
      "content='室' id='8561159891771758252'\n",
      "content='和' id='8561159891771758252'\n",
      "content='智' id='8561159891771758252'\n",
      "content='谱' id='8561159891771758252'\n",
      "content='AI' id='8561159891771758252'\n",
      "content='共同' id='8561159891771758252'\n",
      "content='训练' id='8561159891771758252'\n",
      "content='的' id='8561159891771758252'\n",
      "content=' GL' id='8561159891771758252'\n",
      "content='M' id='8561159891771758252'\n",
      "content=' 模' id='8561159891771758252'\n",
      "content='型' id='8561159891771758252'\n",
      "content='，' id='8561159891771758252'\n",
      "content='一种' id='8561159891771758252'\n",
      "content='基于' id='8561159891771758252'\n",
      "content=' Transformer' id='8561159891771758252'\n",
      "content=' 的' id='8561159891771758252'\n",
      "content='通用' id='8561159891771758252'\n",
      "content='预' id='8561159891771758252'\n",
      "content='训练' id='8561159891771758252'\n",
      "content='语言' id='8561159891771758252'\n",
      "content='模型' id='8561159891771758252'\n",
      "content='。' id='8561159891771758252'\n",
      "content='Transformer' id='8561159891771758252'\n",
      "content=' 模' id='8561159891771758252'\n",
      "content='型' id='8561159891771758252'\n",
      "content='是一种' id='8561159891771758252'\n",
      "content='基于' id='8561159891771758252'\n",
      "content='自' id='8561159891771758252'\n",
      "content='注意力' id='8561159891771758252'\n",
      "content='机制的' id='8561159891771758252'\n",
      "content='深度' id='8561159891771758252'\n",
      "content='神经网络' id='8561159891771758252'\n",
      "content='模型' id='8561159891771758252'\n",
      "content='，' id='8561159891771758252'\n",
      "content='经常' id='8561159891771758252'\n",
      "content='用于' id='8561159891771758252'\n",
      "content='处理' id='8561159891771758252'\n",
      "content='序列' id='8561159891771758252'\n",
      "content='数据' id='8561159891771758252'\n",
      "content='。\\n\\n我' id='8561159891771758252'\n",
      "content='可能' id='8561159891771758252'\n",
      "content='用到' id='8561159891771758252'\n",
      "content='最大的' id='8561159891771758252'\n",
      "content='模型' id='8561159891771758252'\n",
      "content='是' id='8561159891771758252'\n",
      "content=' GL' id='8561159891771758252'\n",
      "content='M' id='8561159891771758252'\n",
      "content='-' id='8561159891771758252'\n",
      "content='130' id='8561159891771758252'\n",
      "content='B' id='8561159891771758252'\n",
      "content='，' id='8561159891771758252'\n",
      "content='具有' id='8561159891771758252'\n",
      "content=' ' id='8561159891771758252'\n",
      "content='130' id='8561159891771758252'\n",
      "content='0' id='8561159891771758252'\n",
      "content=' 亿' id='8561159891771758252'\n",
      "content='参数' id='8561159891771758252'\n",
      "content='，' id='8561159891771758252'\n",
      "content='支持' id='8561159891771758252'\n",
      "content='中' id='8561159891771758252'\n",
      "content='英' id='8561159891771758252'\n",
      "content='双语' id='8561159891771758252'\n",
      "content='。' id='8561159891771758252'\n",
      "content='我' id='8561159891771758252'\n",
      "content='具体' id='8561159891771758252'\n",
      "content='使用的' id='8561159891771758252'\n",
      "content='模型' id='8561159891771758252'\n",
      "content='规模' id='8561159891771758252'\n",
      "content='视' id='8561159891771758252'\n",
      "content='应用' id='8561159891771758252'\n",
      "content='场景' id='8561159891771758252'\n",
      "content='可能会有' id='8561159891771758252'\n",
      "content='所' id='8561159891771758252'\n",
      "content='变化' id='8561159891771758252'\n",
      "content='。' id='8561159891771758252'\n",
      "content='' id='8561159891771758252'\n",
      "-------------------- Token统计 --------------------\n",
      "generations=[[ChatGenerationChunk(text='我使用的模型是清华大学 KEG 实验室和智谱AI共同训练的 GLM 模型，一种基于 Transformer 的通用预训练语言模型。Transformer 模型是一种基于自注意力机制的深度神经网络模型，经常用于处理序列数据。\\n\\n我可能用到最大的模型是 GLM-130B，具有 1300 亿参数，支持中英双语。我具体使用的模型规模视应用场景可能会有所变化。', generation_info={'finish_reason': 'stop', 'model': 'glm-4', 'created': 1712989028, 'index': 0, 'usage': {'prompt_tokens': 9, 'completion_tokens': 91, 'total_tokens': 100}}, message=AIMessageChunk(content='我使用的模型是清华大学 KEG 实验室和智谱AI共同训练的 GLM 模型，一种基于 Transformer 的通用预训练语言模型。Transformer 模型是一种基于自注意力机制的深度神经网络模型，经常用于处理序列数据。\\n\\n我可能用到最大的模型是 GLM-130B，具有 1300 亿参数，支持中英双语。我具体使用的模型规模视应用场景可能会有所变化。'))]] llm_output=None run=None\n",
      "-------------------- -------- --------------------\n"
     ]
    }
   ],
   "source": [
    "for s in llm_glm.stream([{\"role\": \"user\", \"content\": \"你是什么模型？\"}]):\n",
    "  print(s)"
   ]
  },
  {
   "cell_type": "code",
   "execution_count": 6,
   "metadata": {},
   "outputs": [
    {
     "name": "stdout",
     "output_type": "stream",
     "text": [
      "content='我' id='8563446566721082204'\n",
      "content='使用的' id='8563446566721082204'\n",
      "content='模型' id='8563446566721082204'\n",
      "content='是' id='8563446566721082204'\n",
      "content='清华大学' id='8563446566721082204'\n",
      "content=' K' id='8563446566721082204'\n",
      "content='EG' id='8563446566721082204'\n",
      "content=' 实' id='8563446566721082204'\n",
      "content='验' id='8563446566721082204'\n",
      "content='室' id='8563446566721082204'\n",
      "content='和' id='8563446566721082204'\n",
      "content='智' id='8563446566721082204'\n",
      "content='谱' id='8563446566721082204'\n",
      "content='AI' id='8563446566721082204'\n",
      "content='共同' id='8563446566721082204'\n",
      "content='训练' id='8563446566721082204'\n",
      "content='的' id='8563446566721082204'\n",
      "content=' GL' id='8563446566721082204'\n",
      "content='M' id='8563446566721082204'\n",
      "content=' 模' id='8563446566721082204'\n",
      "content='型' id='8563446566721082204'\n",
      "content='，' id='8563446566721082204'\n",
      "content='一种' id='8563446566721082204'\n",
      "content='基于' id='8563446566721082204'\n",
      "content=' Transformer' id='8563446566721082204'\n",
      "content=' 的' id='8563446566721082204'\n",
      "content='通用' id='8563446566721082204'\n",
      "content='预' id='8563446566721082204'\n",
      "content='训练' id='8563446566721082204'\n",
      "content='语言' id='8563446566721082204'\n",
      "content='模型' id='8563446566721082204'\n",
      "content='。' id='8563446566721082204'\n",
      "content='Transformer' id='8563446566721082204'\n",
      "content=' 模' id='8563446566721082204'\n",
      "content='型' id='8563446566721082204'\n",
      "content='是一种' id='8563446566721082204'\n",
      "content='基于' id='8563446566721082204'\n",
      "content='自' id='8563446566721082204'\n",
      "content='注意力' id='8563446566721082204'\n",
      "content='机制的' id='8563446566721082204'\n",
      "content='深度' id='8563446566721082204'\n",
      "content='神经网络' id='8563446566721082204'\n",
      "content='模型' id='8563446566721082204'\n",
      "content='，' id='8563446566721082204'\n",
      "content='经常' id='8563446566721082204'\n",
      "content='用于' id='8563446566721082204'\n",
      "content='处理' id='8563446566721082204'\n",
      "content='序列' id='8563446566721082204'\n",
      "content='数据' id='8563446566721082204'\n",
      "content='。\\n\\n我' id='8563446566721082204'\n",
      "content='可能' id='8563446566721082204'\n",
      "content='用到' id='8563446566721082204'\n",
      "content='最大的' id='8563446566721082204'\n",
      "content='模型' id='8563446566721082204'\n",
      "content='是' id='8563446566721082204'\n",
      "content=' GL' id='8563446566721082204'\n",
      "content='M' id='8563446566721082204'\n",
      "content='-' id='8563446566721082204'\n",
      "content='130' id='8563446566721082204'\n",
      "content='B' id='8563446566721082204'\n",
      "content='，' id='8563446566721082204'\n",
      "content='具有' id='8563446566721082204'\n",
      "content=' ' id='8563446566721082204'\n",
      "content='130' id='8563446566721082204'\n",
      "content='0' id='8563446566721082204'\n",
      "content=' 亿' id='8563446566721082204'\n",
      "content='参数' id='8563446566721082204'\n",
      "content='，' id='8563446566721082204'\n",
      "content='支持' id='8563446566721082204'\n",
      "content='中' id='8563446566721082204'\n",
      "content='英' id='8563446566721082204'\n",
      "content='双语' id='8563446566721082204'\n",
      "content='。' id='8563446566721082204'\n",
      "content='我' id='8563446566721082204'\n",
      "content='具体' id='8563446566721082204'\n",
      "content='使用的' id='8563446566721082204'\n",
      "content='模型' id='8563446566721082204'\n",
      "content='规模' id='8563446566721082204'\n",
      "content='视' id='8563446566721082204'\n",
      "content='应用' id='8563446566721082204'\n",
      "content='场景' id='8563446566721082204'\n",
      "content='可能会有' id='8563446566721082204'\n",
      "content='所' id='8563446566721082204'\n",
      "content='变化' id='8563446566721082204'\n",
      "content='。' id='8563446566721082204'\n",
      "content='' id='8563446566721082204'\n",
      "-------------------- Token统计 --------------------\n",
      "generations=[[ChatGenerationChunk(text='我使用的模型是清华大学 KEG 实验室和智谱AI共同训练的 GLM 模型，一种基于 Transformer 的通用预训练语言模型。Transformer 模型是一种基于自注意力机制的深度神经网络模型，经常用于处理序列数据。\\n\\n我可能用到最大的模型是 GLM-130B，具有 1300 亿参数，支持中英双语。我具体使用的模型规模视应用场景可能会有所变化。', generation_info={'model': 'glm-4', 'created': 1712936231, 'index': 0, 'finish_reason': 'stop', 'usage': {'prompt_tokens': 9, 'completion_tokens': 91, 'total_tokens': 100}}, message=AIMessageChunk(content='我使用的模型是清华大学 KEG 实验室和智谱AI共同训练的 GLM 模型，一种基于 Transformer 的通用预训练语言模型。Transformer 模型是一种基于自注意力机制的深度神经网络模型，经常用于处理序列数据。\\n\\n我可能用到最大的模型是 GLM-130B，具有 1300 亿参数，支持中英双语。我具体使用的模型规模视应用场景可能会有所变化。'))]] llm_output=None run=None\n",
      "-------------------- -------- --------------------\n"
     ]
    }
   ],
   "source": [
    "async for s in llm_glm.astream([{\"role\": \"user\", \"content\": \"你是什么模型？\"}]):\n",
    "  print(s)"
   ]
  },
  {
   "cell_type": "markdown",
   "metadata": {},
   "source": [
    "# 智能体中的Token统计"
   ]
  },
  {
   "cell_type": "code",
   "execution_count": 12,
   "metadata": {},
   "outputs": [
    {
     "name": "stderr",
     "output_type": "stream",
     "text": [
      "/Users/xuehongwei/Library/Caches/pypoetry/virtualenvs/langchain-zhipu-Ddey8KS3-py3.9/lib/python3.9/site-packages/langchain_core/_api/beta_decorator.py:86: LangChainBetaWarning: This API is in beta and may change in the future.\n",
      "  warn_beta(\n"
     ]
    },
    {
     "name": "stdout",
     "output_type": "stream",
     "text": [
      "\n",
      "\n",
      "\u001b[1m> Entering new AgentExecutor chain...\u001b[0m\n",
      "{'event': 'on_chain_start', 'run_id': 'b5ee86af-083e-42c0-8247-5ccb96ba6467', 'name': 'AgentExecutor', 'tags': [], 'metadata': {}, 'data': {'input': {'input': '你好'}}}\n",
      "{'event': 'on_chain_start', 'name': 'RunnableSequence', 'run_id': 'fdb8797b-5432-47a2-a422-27ff020c69ef', 'tags': [], 'metadata': {}, 'data': {}}\n",
      "{'event': 'on_chain_start', 'name': 'RunnableAssign<agent_scratchpad>', 'run_id': 'c28385b0-744b-4d5f-a9e2-67319c7438dc', 'tags': ['seq:step:1'], 'metadata': {}, 'data': {}}\n",
      "{'event': 'on_chain_stream', 'name': 'RunnableAssign<agent_scratchpad>', 'run_id': 'c28385b0-744b-4d5f-a9e2-67319c7438dc', 'tags': ['seq:step:1'], 'metadata': {}, 'data': {'chunk': {'input': '你好', 'intermediate_steps': []}}}\n",
      "{'event': 'on_chain_start', 'name': 'RunnableParallel<agent_scratchpad>', 'run_id': '62bdeaa7-e1d2-4f88-8993-d1370b02e99c', 'tags': [], 'metadata': {}, 'data': {}}\n",
      "{'event': 'on_chain_start', 'name': 'RunnableLambda', 'run_id': '20bfd19d-015b-4de5-8463-9315ea9b4691', 'tags': ['map:key:agent_scratchpad'], 'metadata': {}, 'data': {}}\n",
      "{'event': 'on_chain_stream', 'name': 'RunnableLambda', 'run_id': '20bfd19d-015b-4de5-8463-9315ea9b4691', 'tags': ['map:key:agent_scratchpad'], 'metadata': {}, 'data': {'chunk': []}}\n",
      "{'event': 'on_chain_stream', 'name': 'RunnableParallel<agent_scratchpad>', 'run_id': '62bdeaa7-e1d2-4f88-8993-d1370b02e99c', 'tags': [], 'metadata': {}, 'data': {'chunk': {'agent_scratchpad': []}}}\n",
      "{'event': 'on_chain_stream', 'name': 'RunnableAssign<agent_scratchpad>', 'run_id': 'c28385b0-744b-4d5f-a9e2-67319c7438dc', 'tags': ['seq:step:1'], 'metadata': {}, 'data': {'chunk': {'agent_scratchpad': []}}}\n",
      "{'event': 'on_chain_end', 'name': 'RunnableLambda', 'run_id': '20bfd19d-015b-4de5-8463-9315ea9b4691', 'tags': ['map:key:agent_scratchpad'], 'metadata': {}, 'data': {'input': {'input': '你好', 'intermediate_steps': []}, 'output': []}}\n",
      "{'event': 'on_chain_end', 'name': 'RunnableParallel<agent_scratchpad>', 'run_id': '62bdeaa7-e1d2-4f88-8993-d1370b02e99c', 'tags': [], 'metadata': {}, 'data': {'input': {'input': '你好', 'intermediate_steps': []}, 'output': {'agent_scratchpad': []}}}\n",
      "{'event': 'on_chain_end', 'name': 'RunnableAssign<agent_scratchpad>', 'run_id': 'c28385b0-744b-4d5f-a9e2-67319c7438dc', 'tags': ['seq:step:1'], 'metadata': {}, 'data': {'input': {'input': '你好', 'intermediate_steps': []}, 'output': {'input': '你好', 'intermediate_steps': [], 'agent_scratchpad': []}}}\n",
      "{'event': 'on_prompt_start', 'name': 'ChatPromptTemplate', 'run_id': '4bcc7c25-c857-4bc5-8c97-2f7ae4d398e0', 'tags': ['seq:step:2'], 'metadata': {}, 'data': {'input': {'input': '你好', 'intermediate_steps': [], 'agent_scratchpad': []}}}\n",
      "{'event': 'on_prompt_end', 'name': 'ChatPromptTemplate', 'run_id': '4bcc7c25-c857-4bc5-8c97-2f7ae4d398e0', 'tags': ['seq:step:2'], 'metadata': {}, 'data': {'input': {'input': '你好', 'intermediate_steps': [], 'agent_scratchpad': []}, 'output': ChatPromptValue(messages=[SystemMessage(content='You are a helpful assistant'), HumanMessage(content='你好')])}}\n",
      "{'event': 'on_chat_model_start', 'name': 'ChatZhipuAI', 'run_id': '7a9f070a-2122-4aac-bd4b-596cb54887c3', 'tags': ['seq:step:3'], 'metadata': {}, 'data': {'input': {'messages': [[SystemMessage(content='You are a helpful assistant'), HumanMessage(content='你好')]]}}}\n",
      "{'event': 'on_chat_model_stream', 'name': 'ChatZhipuAI', 'run_id': '7a9f070a-2122-4aac-bd4b-596cb54887c3', 'tags': ['seq:step:3'], 'metadata': {}, 'data': {'chunk': AIMessageChunk(content='你好', id='8561160853844506890')}}\n",
      "{'event': 'on_chat_model_stream', 'name': 'ChatZhipuAI', 'run_id': '7a9f070a-2122-4aac-bd4b-596cb54887c3', 'tags': ['seq:step:3'], 'metadata': {}, 'data': {'chunk': AIMessageChunk(content='👋！', id='8561160853844506890')}}\n",
      "{'event': 'on_chat_model_stream', 'name': 'ChatZhipuAI', 'run_id': '7a9f070a-2122-4aac-bd4b-596cb54887c3', 'tags': ['seq:step:3'], 'metadata': {}, 'data': {'chunk': AIMessageChunk(content='我是', id='8561160853844506890')}}\n",
      "{'event': 'on_chat_model_stream', 'name': 'ChatZhipuAI', 'run_id': '7a9f070a-2122-4aac-bd4b-596cb54887c3', 'tags': ['seq:step:3'], 'metadata': {}, 'data': {'chunk': AIMessageChunk(content='人工智能', id='8561160853844506890')}}\n",
      "{'event': 'on_chat_model_stream', 'name': 'ChatZhipuAI', 'run_id': '7a9f070a-2122-4aac-bd4b-596cb54887c3', 'tags': ['seq:step:3'], 'metadata': {}, 'data': {'chunk': AIMessageChunk(content='助手', id='8561160853844506890')}}\n",
      "{'event': 'on_chat_model_stream', 'name': 'ChatZhipuAI', 'run_id': '7a9f070a-2122-4aac-bd4b-596cb54887c3', 'tags': ['seq:step:3'], 'metadata': {}, 'data': {'chunk': AIMessageChunk(content='智', id='8561160853844506890')}}\n",
      "{'event': 'on_chat_model_stream', 'name': 'ChatZhipuAI', 'run_id': '7a9f070a-2122-4aac-bd4b-596cb54887c3', 'tags': ['seq:step:3'], 'metadata': {}, 'data': {'chunk': AIMessageChunk(content='谱', id='8561160853844506890')}}\n",
      "{'event': 'on_chat_model_stream', 'name': 'ChatZhipuAI', 'run_id': '7a9f070a-2122-4aac-bd4b-596cb54887c3', 'tags': ['seq:step:3'], 'metadata': {}, 'data': {'chunk': AIMessageChunk(content='清', id='8561160853844506890')}}\n",
      "{'event': 'on_chat_model_stream', 'name': 'ChatZhipuAI', 'run_id': '7a9f070a-2122-4aac-bd4b-596cb54887c3', 'tags': ['seq:step:3'], 'metadata': {}, 'data': {'chunk': AIMessageChunk(content='言', id='8561160853844506890')}}\n",
      "{'event': 'on_chat_model_stream', 'name': 'ChatZhipuAI', 'run_id': '7a9f070a-2122-4aac-bd4b-596cb54887c3', 'tags': ['seq:step:3'], 'metadata': {}, 'data': {'chunk': AIMessageChunk(content='（', id='8561160853844506890')}}\n",
      "{'event': 'on_chat_model_stream', 'name': 'ChatZhipuAI', 'run_id': '7a9f070a-2122-4aac-bd4b-596cb54887c3', 'tags': ['seq:step:3'], 'metadata': {}, 'data': {'chunk': AIMessageChunk(content='C', id='8561160853844506890')}}\n",
      "{'event': 'on_chat_model_stream', 'name': 'ChatZhipuAI', 'run_id': '7a9f070a-2122-4aac-bd4b-596cb54887c3', 'tags': ['seq:step:3'], 'metadata': {}, 'data': {'chunk': AIMessageChunk(content='hat', id='8561160853844506890')}}\n",
      "{'event': 'on_chat_model_stream', 'name': 'ChatZhipuAI', 'run_id': '7a9f070a-2122-4aac-bd4b-596cb54887c3', 'tags': ['seq:step:3'], 'metadata': {}, 'data': {'chunk': AIMessageChunk(content='GL', id='8561160853844506890')}}\n",
      "{'event': 'on_chat_model_stream', 'name': 'ChatZhipuAI', 'run_id': '7a9f070a-2122-4aac-bd4b-596cb54887c3', 'tags': ['seq:step:3'], 'metadata': {}, 'data': {'chunk': AIMessageChunk(content='M', id='8561160853844506890')}}\n",
      "{'event': 'on_chat_model_stream', 'name': 'ChatZhipuAI', 'run_id': '7a9f070a-2122-4aac-bd4b-596cb54887c3', 'tags': ['seq:step:3'], 'metadata': {}, 'data': {'chunk': AIMessageChunk(content='），', id='8561160853844506890')}}\n",
      "{'event': 'on_chat_model_stream', 'name': 'ChatZhipuAI', 'run_id': '7a9f070a-2122-4aac-bd4b-596cb54887c3', 'tags': ['seq:step:3'], 'metadata': {}, 'data': {'chunk': AIMessageChunk(content='可以', id='8561160853844506890')}}\n",
      "{'event': 'on_chat_model_stream', 'name': 'ChatZhipuAI', 'run_id': '7a9f070a-2122-4aac-bd4b-596cb54887c3', 'tags': ['seq:step:3'], 'metadata': {}, 'data': {'chunk': AIMessageChunk(content='叫我', id='8561160853844506890')}}\n",
      "{'event': 'on_chat_model_stream', 'name': 'ChatZhipuAI', 'run_id': '7a9f070a-2122-4aac-bd4b-596cb54887c3', 'tags': ['seq:step:3'], 'metadata': {}, 'data': {'chunk': AIMessageChunk(content='小', id='8561160853844506890')}}\n",
      "{'event': 'on_chat_model_stream', 'name': 'ChatZhipuAI', 'run_id': '7a9f070a-2122-4aac-bd4b-596cb54887c3', 'tags': ['seq:step:3'], 'metadata': {}, 'data': {'chunk': AIMessageChunk(content='智', id='8561160853844506890')}}\n",
      "{'event': 'on_chat_model_stream', 'name': 'ChatZhipuAI', 'run_id': '7a9f070a-2122-4aac-bd4b-596cb54887c3', 'tags': ['seq:step:3'], 'metadata': {}, 'data': {'chunk': AIMessageChunk(content='🤖，', id='8561160853844506890')}}\n",
      "{'event': 'on_chat_model_stream', 'name': 'ChatZhipuAI', 'run_id': '7a9f070a-2122-4aac-bd4b-596cb54887c3', 'tags': ['seq:step:3'], 'metadata': {}, 'data': {'chunk': AIMessageChunk(content='很高兴', id='8561160853844506890')}}\n",
      "{'event': 'on_chat_model_stream', 'name': 'ChatZhipuAI', 'run_id': '7a9f070a-2122-4aac-bd4b-596cb54887c3', 'tags': ['seq:step:3'], 'metadata': {}, 'data': {'chunk': AIMessageChunk(content='见到', id='8561160853844506890')}}\n",
      "{'event': 'on_chat_model_stream', 'name': 'ChatZhipuAI', 'run_id': '7a9f070a-2122-4aac-bd4b-596cb54887c3', 'tags': ['seq:step:3'], 'metadata': {}, 'data': {'chunk': AIMessageChunk(content='你', id='8561160853844506890')}}\n",
      "{'event': 'on_chat_model_stream', 'name': 'ChatZhipuAI', 'run_id': '7a9f070a-2122-4aac-bd4b-596cb54887c3', 'tags': ['seq:step:3'], 'metadata': {}, 'data': {'chunk': AIMessageChunk(content='，', id='8561160853844506890')}}\n",
      "{'event': 'on_chat_model_stream', 'name': 'ChatZhipuAI', 'run_id': '7a9f070a-2122-4aac-bd4b-596cb54887c3', 'tags': ['seq:step:3'], 'metadata': {}, 'data': {'chunk': AIMessageChunk(content='欢迎', id='8561160853844506890')}}\n",
      "{'event': 'on_chat_model_stream', 'name': 'ChatZhipuAI', 'run_id': '7a9f070a-2122-4aac-bd4b-596cb54887c3', 'tags': ['seq:step:3'], 'metadata': {}, 'data': {'chunk': AIMessageChunk(content='问我', id='8561160853844506890')}}\n",
      "{'event': 'on_chat_model_stream', 'name': 'ChatZhipuAI', 'run_id': '7a9f070a-2122-4aac-bd4b-596cb54887c3', 'tags': ['seq:step:3'], 'metadata': {}, 'data': {'chunk': AIMessageChunk(content='任何', id='8561160853844506890')}}\n",
      "{'event': 'on_chat_model_stream', 'name': 'ChatZhipuAI', 'run_id': '7a9f070a-2122-4aac-bd4b-596cb54887c3', 'tags': ['seq:step:3'], 'metadata': {}, 'data': {'chunk': AIMessageChunk(content='问题', id='8561160853844506890')}}\n",
      "{'event': 'on_chat_model_stream', 'name': 'ChatZhipuAI', 'run_id': '7a9f070a-2122-4aac-bd4b-596cb54887c3', 'tags': ['seq:step:3'], 'metadata': {}, 'data': {'chunk': AIMessageChunk(content='。', id='8561160853844506890')}}\n",
      "{'event': 'on_chat_model_stream', 'name': 'ChatZhipuAI', 'run_id': '7a9f070a-2122-4aac-bd4b-596cb54887c3', 'tags': ['seq:step:3'], 'metadata': {}, 'data': {'chunk': AIMessageChunk(content='', id='8561160853844506890')}}\n",
      "-------------------- Token统计 --------------------\n",
      "generations=[[ChatGenerationChunk(text='你好👋！我是人工智能助手智谱清言（ChatGLM），可以叫我小智🤖，很高兴见到你，欢迎问我任何问题。', generation_info={'model': 'glm-3-turbo', 'created': 1712979172, 'index': 0, 'finish_reason': 'stop', 'usage': {'prompt_tokens': 13, 'completion_tokens': 39, 'total_tokens': 52}}, message=AIMessageChunk(content='你好👋！我是人工智能助手智谱清言（ChatGLM），可以叫我小智🤖，很高兴见到你，欢迎问我任何问题。'))]] llm_output=None run=None\n",
      "-------------------- -------- --------------------\n",
      "{'event': 'on_chat_model_end', 'name': 'ChatZhipuAI', 'run_id': '7a9f070a-2122-4aac-bd4b-596cb54887c3', 'tags': ['seq:step:3'], 'metadata': {}, 'data': {'input': {'messages': [[SystemMessage(content='You are a helpful assistant'), HumanMessage(content='你好')]]}, 'output': {'generations': [[{'text': '你好👋！我是人工智能助手智谱清言（ChatGLM），可以叫我小智🤖，很高兴见到你，欢迎问我任何问题。', 'generation_info': {'model': 'glm-3-turbo', 'created': 1712979172, 'index': 0, 'finish_reason': 'stop', 'usage': {'prompt_tokens': 13, 'completion_tokens': 39, 'total_tokens': 52}}, 'type': 'ChatGenerationChunk', 'message': AIMessageChunk(content='你好👋！我是人工智能助手智谱清言（ChatGLM），可以叫我小智🤖，很高兴见到你，欢迎问我任何问题。')}]], 'llm_output': None, 'run': None}}}\n",
      "{'event': 'on_parser_start', 'name': 'OpenAIToolsAgentOutputParser', 'run_id': 'b0e21593-e0ea-40f2-ae79-be3fa4bcdbed', 'tags': ['seq:step:4'], 'metadata': {}, 'data': {'input': AIMessageChunk(content='你好👋！我是人工智能助手智谱清言（ChatGLM），可以叫我小智🤖，很高兴见到你，欢迎问我任何问题。')}}\n",
      "{'event': 'on_parser_end', 'name': 'OpenAIToolsAgentOutputParser', 'run_id': 'b0e21593-e0ea-40f2-ae79-be3fa4bcdbed', 'tags': ['seq:step:4'], 'metadata': {}, 'data': {'input': AIMessageChunk(content='你好👋！我是人工智能助手智谱清言（ChatGLM），可以叫我小智🤖，很高兴见到你，欢迎问我任何问题。'), 'output': AgentFinish(return_values={'output': '你好👋！我是人工智能助手智谱清言（ChatGLM），可以叫我小智🤖，很高兴见到你，欢迎问我任何问题。'}, log='你好👋！我是人工智能助手智谱清言（ChatGLM），可以叫我小智🤖，很高兴见到你，欢迎问我任何问题。')}}\n",
      "{'event': 'on_chain_stream', 'name': 'RunnableSequence', 'run_id': 'fdb8797b-5432-47a2-a422-27ff020c69ef', 'tags': [], 'metadata': {}, 'data': {'chunk': AgentFinish(return_values={'output': '你好👋！我是人工智能助手智谱清言（ChatGLM），可以叫我小智🤖，很高兴见到你，欢迎问我任何问题。'}, log='你好👋！我是人工智能助手智谱清言（ChatGLM），可以叫我小智🤖，很高兴见到你，欢迎问我任何问题。')}}\n",
      "{'event': 'on_chain_end', 'name': 'RunnableSequence', 'run_id': 'fdb8797b-5432-47a2-a422-27ff020c69ef', 'tags': [], 'metadata': {}, 'data': {'input': {'input': '你好', 'intermediate_steps': []}, 'output': AgentFinish(return_values={'output': '你好👋！我是人工智能助手智谱清言（ChatGLM），可以叫我小智🤖，很高兴见到你，欢迎问我任何问题。'}, log='你好👋！我是人工智能助手智谱清言（ChatGLM），可以叫我小智🤖，很高兴见到你，欢迎问我任何问题。')}}\n",
      "\u001b[32;1m\u001b[1;3m你好👋！我是人工智能助手智谱清言（ChatGLM），可以叫我小智🤖，很高兴见到你，欢迎问我任何问题。\u001b[0m\n",
      "\n",
      "\u001b[1m> Finished chain.\u001b[0m\n",
      "{'event': 'on_chain_stream', 'run_id': 'b5ee86af-083e-42c0-8247-5ccb96ba6467', 'tags': [], 'metadata': {}, 'name': 'AgentExecutor', 'data': {'chunk': {'output': '你好👋！我是人工智能助手智谱清言（ChatGLM），可以叫我小智🤖，很高兴见到你，欢迎问我任何问题。', 'messages': [AIMessage(content='你好👋！我是人工智能助手智谱清言（ChatGLM），可以叫我小智🤖，很高兴见到你，欢迎问我任何问题。')]}}}\n",
      "{'event': 'on_chain_end', 'name': 'AgentExecutor', 'run_id': 'b5ee86af-083e-42c0-8247-5ccb96ba6467', 'tags': [], 'metadata': {}, 'data': {'output': {'output': '你好👋！我是人工智能助手智谱清言（ChatGLM），可以叫我小智🤖，很高兴见到你，欢迎问我任何问题。', 'messages': [AIMessage(content='你好👋！我是人工智能助手智谱清言（ChatGLM），可以叫我小智🤖，很高兴见到你，欢迎问我任何问题。')]}}}\n"
     ]
    }
   ],
   "source": [
    "from langchain.agents import AgentExecutor, Tool, create_openai_tools_agent\n",
    "from langchain import hub\n",
    "from langchain_zhipu import ChatZhipuAI\n",
    "\n",
    "from langchain_core.callbacks import BaseCallbackHandler\n",
    "\n",
    "class CountTokenCallbackHandler(BaseCallbackHandler):\n",
    "\tdef on_llm_end(self, response, **kwargs):\n",
    "\t\tprint(\"-\"*20, \"Token统计\", \"-\"*20)\n",
    "\t\tprint(response)\n",
    "\t\tprint(\"-\"*20, \"--------\", \"-\"*20)\n",
    "\n",
    "tools = []\n",
    "prompt = hub.pull(\"hwchase17/openai-tools-agent\")\n",
    "llm = ChatZhipuAI(model=\"glm-3-turbo\", temperature=0.1, callbacks=[CountTokenCallbackHandler()])\n",
    "agent = create_openai_tools_agent(llm, tools, prompt)\n",
    "agent_executor = AgentExecutor(agent=agent, tools=tools, verbose=True)\n",
    "\n",
    "async for chunk in agent_executor.astream_events({\"input\": \"你好\"}, version=\"v1\"):\n",
    "    print(chunk)"
   ]
  },
  {
   "cell_type": "code",
   "execution_count": 16,
   "metadata": {},
   "outputs": [
    {
     "name": "stdout",
     "output_type": "stream",
     "text": [
      "\n",
      "\n",
      "\u001b[1m> Entering new AgentExecutor chain...\u001b[0m\n",
      "{'event': 'on_chain_start', 'run_id': '386293b6-71e8-4bd3-a4d0-2d7aa3a77eaa', 'name': 'AgentExecutor', 'tags': [], 'metadata': {}, 'data': {'input': {'input': '你好'}}}\n",
      "{'event': 'on_chain_start', 'name': 'RunnableSequence', 'run_id': 'd1b1ac7c-23ed-42ea-b20b-e2e2b211755b', 'tags': [], 'metadata': {}, 'data': {}}\n",
      "{'event': 'on_chain_start', 'name': 'RunnableAssign<agent_scratchpad>', 'run_id': '15a37c33-efc2-4315-a6a4-beef5a24482b', 'tags': ['seq:step:1'], 'metadata': {}, 'data': {}}\n",
      "{'event': 'on_chain_stream', 'name': 'RunnableAssign<agent_scratchpad>', 'run_id': '15a37c33-efc2-4315-a6a4-beef5a24482b', 'tags': ['seq:step:1'], 'metadata': {}, 'data': {'chunk': {'input': '你好', 'intermediate_steps': []}}}\n",
      "{'event': 'on_chain_start', 'name': 'RunnableParallel<agent_scratchpad>', 'run_id': '25db4c3a-e86f-4235-ada9-5d805ed471e7', 'tags': [], 'metadata': {}, 'data': {}}\n",
      "{'event': 'on_chain_start', 'name': 'RunnableLambda', 'run_id': '3e8821ef-829f-4bc3-8633-53930817a7e1', 'tags': ['map:key:agent_scratchpad'], 'metadata': {}, 'data': {}}\n",
      "{'event': 'on_chain_stream', 'name': 'RunnableLambda', 'run_id': '3e8821ef-829f-4bc3-8633-53930817a7e1', 'tags': ['map:key:agent_scratchpad'], 'metadata': {}, 'data': {'chunk': []}}\n",
      "{'event': 'on_chain_stream', 'name': 'RunnableParallel<agent_scratchpad>', 'run_id': '25db4c3a-e86f-4235-ada9-5d805ed471e7', 'tags': [], 'metadata': {}, 'data': {'chunk': {'agent_scratchpad': []}}}\n",
      "{'event': 'on_chain_stream', 'name': 'RunnableAssign<agent_scratchpad>', 'run_id': '15a37c33-efc2-4315-a6a4-beef5a24482b', 'tags': ['seq:step:1'], 'metadata': {}, 'data': {'chunk': {'agent_scratchpad': []}}}\n",
      "{'event': 'on_chain_end', 'name': 'RunnableLambda', 'run_id': '3e8821ef-829f-4bc3-8633-53930817a7e1', 'tags': ['map:key:agent_scratchpad'], 'metadata': {}, 'data': {'input': {'input': '你好', 'intermediate_steps': []}, 'output': []}}\n",
      "{'event': 'on_chain_end', 'name': 'RunnableParallel<agent_scratchpad>', 'run_id': '25db4c3a-e86f-4235-ada9-5d805ed471e7', 'tags': [], 'metadata': {}, 'data': {'input': {'input': '你好', 'intermediate_steps': []}, 'output': {'agent_scratchpad': []}}}\n",
      "{'event': 'on_chain_end', 'name': 'RunnableAssign<agent_scratchpad>', 'run_id': '15a37c33-efc2-4315-a6a4-beef5a24482b', 'tags': ['seq:step:1'], 'metadata': {}, 'data': {'input': {'input': '你好', 'intermediate_steps': []}, 'output': {'input': '你好', 'intermediate_steps': [], 'agent_scratchpad': []}}}\n",
      "{'event': 'on_prompt_start', 'name': 'ChatPromptTemplate', 'run_id': '830b551d-d9dc-4f59-8f2d-f8857c67899a', 'tags': ['seq:step:2'], 'metadata': {}, 'data': {'input': {'input': '你好', 'intermediate_steps': [], 'agent_scratchpad': []}}}\n",
      "{'event': 'on_prompt_end', 'name': 'ChatPromptTemplate', 'run_id': '830b551d-d9dc-4f59-8f2d-f8857c67899a', 'tags': ['seq:step:2'], 'metadata': {}, 'data': {'input': {'input': '你好', 'intermediate_steps': [], 'agent_scratchpad': []}, 'output': ChatPromptValue(messages=[SystemMessage(content='You are a helpful assistant'), HumanMessage(content='你好')])}}\n",
      "{'event': 'on_chat_model_start', 'name': 'ChatZhipuAI', 'run_id': '5fd18494-431d-4266-8ce6-d6d5dbcfff47', 'tags': ['seq:step:3'], 'metadata': {}, 'data': {'input': {'messages': [[SystemMessage(content='You are a helpful assistant'), HumanMessage(content='你好')]]}}}\n",
      "{'event': 'on_chat_model_stream', 'name': 'ChatZhipuAI', 'run_id': '5fd18494-431d-4266-8ce6-d6d5dbcfff47', 'tags': ['seq:step:3'], 'metadata': {}, 'data': {'chunk': AIMessageChunk(content='Yes', id='8563375235904176417')}}\n",
      "{'event': 'on_chat_model_stream', 'name': 'ChatZhipuAI', 'run_id': '5fd18494-431d-4266-8ce6-d6d5dbcfff47', 'tags': ['seq:step:3'], 'metadata': {}, 'data': {'chunk': AIMessageChunk(content=',', id='8563375235904176417')}}\n",
      "{'event': 'on_chat_model_stream', 'name': 'ChatZhipuAI', 'run_id': '5fd18494-431d-4266-8ce6-d6d5dbcfff47', 'tags': ['seq:step:3'], 'metadata': {}, 'data': {'chunk': AIMessageChunk(content=' how', id='8563375235904176417')}}\n",
      "{'event': 'on_chat_model_stream', 'name': 'ChatZhipuAI', 'run_id': '5fd18494-431d-4266-8ce6-d6d5dbcfff47', 'tags': ['seq:step:3'], 'metadata': {}, 'data': {'chunk': AIMessageChunk(content=' can', id='8563375235904176417')}}\n",
      "{'event': 'on_chat_model_stream', 'name': 'ChatZhipuAI', 'run_id': '5fd18494-431d-4266-8ce6-d6d5dbcfff47', 'tags': ['seq:step:3'], 'metadata': {}, 'data': {'chunk': AIMessageChunk(content=' I', id='8563375235904176417')}}\n",
      "{'event': 'on_chat_model_stream', 'name': 'ChatZhipuAI', 'run_id': '5fd18494-431d-4266-8ce6-d6d5dbcfff47', 'tags': ['seq:step:3'], 'metadata': {}, 'data': {'chunk': AIMessageChunk(content=' assist', id='8563375235904176417')}}\n",
      "{'event': 'on_chat_model_stream', 'name': 'ChatZhipuAI', 'run_id': '5fd18494-431d-4266-8ce6-d6d5dbcfff47', 'tags': ['seq:step:3'], 'metadata': {}, 'data': {'chunk': AIMessageChunk(content=' you', id='8563375235904176417')}}\n",
      "{'event': 'on_chat_model_stream', 'name': 'ChatZhipuAI', 'run_id': '5fd18494-431d-4266-8ce6-d6d5dbcfff47', 'tags': ['seq:step:3'], 'metadata': {}, 'data': {'chunk': AIMessageChunk(content=' today', id='8563375235904176417')}}\n",
      "{'event': 'on_chat_model_stream', 'name': 'ChatZhipuAI', 'run_id': '5fd18494-431d-4266-8ce6-d6d5dbcfff47', 'tags': ['seq:step:3'], 'metadata': {}, 'data': {'chunk': AIMessageChunk(content='?', id='8563375235904176417')}}\n",
      "{'event': 'on_chat_model_stream', 'name': 'ChatZhipuAI', 'run_id': '5fd18494-431d-4266-8ce6-d6d5dbcfff47', 'tags': ['seq:step:3'], 'metadata': {}, 'data': {'chunk': AIMessageChunk(content=' If', id='8563375235904176417')}}\n",
      "{'event': 'on_chat_model_stream', 'name': 'ChatZhipuAI', 'run_id': '5fd18494-431d-4266-8ce6-d6d5dbcfff47', 'tags': ['seq:step:3'], 'metadata': {}, 'data': {'chunk': AIMessageChunk(content=' you', id='8563375235904176417')}}\n",
      "{'event': 'on_chat_model_stream', 'name': 'ChatZhipuAI', 'run_id': '5fd18494-431d-4266-8ce6-d6d5dbcfff47', 'tags': ['seq:step:3'], 'metadata': {}, 'data': {'chunk': AIMessageChunk(content=' have', id='8563375235904176417')}}\n",
      "{'event': 'on_chat_model_stream', 'name': 'ChatZhipuAI', 'run_id': '5fd18494-431d-4266-8ce6-d6d5dbcfff47', 'tags': ['seq:step:3'], 'metadata': {}, 'data': {'chunk': AIMessageChunk(content=' any', id='8563375235904176417')}}\n",
      "{'event': 'on_chat_model_stream', 'name': 'ChatZhipuAI', 'run_id': '5fd18494-431d-4266-8ce6-d6d5dbcfff47', 'tags': ['seq:step:3'], 'metadata': {}, 'data': {'chunk': AIMessageChunk(content=' questions', id='8563375235904176417')}}\n",
      "{'event': 'on_chat_model_stream', 'name': 'ChatZhipuAI', 'run_id': '5fd18494-431d-4266-8ce6-d6d5dbcfff47', 'tags': ['seq:step:3'], 'metadata': {}, 'data': {'chunk': AIMessageChunk(content=' or', id='8563375235904176417')}}\n",
      "{'event': 'on_chat_model_stream', 'name': 'ChatZhipuAI', 'run_id': '5fd18494-431d-4266-8ce6-d6d5dbcfff47', 'tags': ['seq:step:3'], 'metadata': {}, 'data': {'chunk': AIMessageChunk(content=' need', id='8563375235904176417')}}\n",
      "{'event': 'on_chat_model_stream', 'name': 'ChatZhipuAI', 'run_id': '5fd18494-431d-4266-8ce6-d6d5dbcfff47', 'tags': ['seq:step:3'], 'metadata': {}, 'data': {'chunk': AIMessageChunk(content=' help', id='8563375235904176417')}}\n",
      "{'event': 'on_chat_model_stream', 'name': 'ChatZhipuAI', 'run_id': '5fd18494-431d-4266-8ce6-d6d5dbcfff47', 'tags': ['seq:step:3'], 'metadata': {}, 'data': {'chunk': AIMessageChunk(content=' with', id='8563375235904176417')}}\n",
      "{'event': 'on_chat_model_stream', 'name': 'ChatZhipuAI', 'run_id': '5fd18494-431d-4266-8ce6-d6d5dbcfff47', 'tags': ['seq:step:3'], 'metadata': {}, 'data': {'chunk': AIMessageChunk(content=' something', id='8563375235904176417')}}\n",
      "{'event': 'on_chat_model_stream', 'name': 'ChatZhipuAI', 'run_id': '5fd18494-431d-4266-8ce6-d6d5dbcfff47', 'tags': ['seq:step:3'], 'metadata': {}, 'data': {'chunk': AIMessageChunk(content=',', id='8563375235904176417')}}\n",
      "{'event': 'on_chat_model_stream', 'name': 'ChatZhipuAI', 'run_id': '5fd18494-431d-4266-8ce6-d6d5dbcfff47', 'tags': ['seq:step:3'], 'metadata': {}, 'data': {'chunk': AIMessageChunk(content=' feel', id='8563375235904176417')}}\n",
      "{'event': 'on_chat_model_stream', 'name': 'ChatZhipuAI', 'run_id': '5fd18494-431d-4266-8ce6-d6d5dbcfff47', 'tags': ['seq:step:3'], 'metadata': {}, 'data': {'chunk': AIMessageChunk(content=' free', id='8563375235904176417')}}\n",
      "{'event': 'on_chat_model_stream', 'name': 'ChatZhipuAI', 'run_id': '5fd18494-431d-4266-8ce6-d6d5dbcfff47', 'tags': ['seq:step:3'], 'metadata': {}, 'data': {'chunk': AIMessageChunk(content=' to', id='8563375235904176417')}}\n",
      "{'event': 'on_chat_model_stream', 'name': 'ChatZhipuAI', 'run_id': '5fd18494-431d-4266-8ce6-d6d5dbcfff47', 'tags': ['seq:step:3'], 'metadata': {}, 'data': {'chunk': AIMessageChunk(content=' let', id='8563375235904176417')}}\n",
      "{'event': 'on_chat_model_stream', 'name': 'ChatZhipuAI', 'run_id': '5fd18494-431d-4266-8ce6-d6d5dbcfff47', 'tags': ['seq:step:3'], 'metadata': {}, 'data': {'chunk': AIMessageChunk(content=' me', id='8563375235904176417')}}\n",
      "{'event': 'on_chat_model_stream', 'name': 'ChatZhipuAI', 'run_id': '5fd18494-431d-4266-8ce6-d6d5dbcfff47', 'tags': ['seq:step:3'], 'metadata': {}, 'data': {'chunk': AIMessageChunk(content=' know', id='8563375235904176417')}}\n",
      "{'event': 'on_chat_model_stream', 'name': 'ChatZhipuAI', 'run_id': '5fd18494-431d-4266-8ce6-d6d5dbcfff47', 'tags': ['seq:step:3'], 'metadata': {}, 'data': {'chunk': AIMessageChunk(content='!', id='8563375235904176417')}}\n",
      "{'event': 'on_chat_model_stream', 'name': 'ChatZhipuAI', 'run_id': '5fd18494-431d-4266-8ce6-d6d5dbcfff47', 'tags': ['seq:step:3'], 'metadata': {}, 'data': {'chunk': AIMessageChunk(content='', id='8563375235904176417')}}\n",
      "-------------------- Token统计 --------------------\n",
      "generations=[[ChatGenerationChunk(text='Yes, how can I assist you today? If you have any questions or need help with something, feel free to let me know!', generation_info={'model': 'glm-4', 'created': 1712979408, 'index': 0, 'finish_reason': 'stop', 'usage': {'prompt_tokens': 13, 'completion_tokens': 29, 'total_tokens': 42}}, message=AIMessageChunk(content='Yes, how can I assist you today? If you have any questions or need help with something, feel free to let me know!'))]] llm_output=None run=None\n",
      "-------------------- -------- --------------------\n",
      "{'event': 'on_chat_model_end', 'name': 'ChatZhipuAI', 'run_id': '5fd18494-431d-4266-8ce6-d6d5dbcfff47', 'tags': ['seq:step:3'], 'metadata': {}, 'data': {'input': {'messages': [[SystemMessage(content='You are a helpful assistant'), HumanMessage(content='你好')]]}, 'output': {'generations': [[{'text': 'Yes, how can I assist you today? If you have any questions or need help with something, feel free to let me know!', 'generation_info': {'model': 'glm-4', 'created': 1712979408, 'index': 0, 'finish_reason': 'stop', 'usage': {'prompt_tokens': 13, 'completion_tokens': 29, 'total_tokens': 42}}, 'type': 'ChatGenerationChunk', 'message': AIMessageChunk(content='Yes, how can I assist you today? If you have any questions or need help with something, feel free to let me know!')}]], 'llm_output': None, 'run': None}}}\n",
      "{'event': 'on_parser_start', 'name': 'OpenAIToolsAgentOutputParser', 'run_id': '4949b988-5614-4278-b5f2-b7a9b04fe2d4', 'tags': ['seq:step:4'], 'metadata': {}, 'data': {'input': AIMessageChunk(content='Yes, how can I assist you today? If you have any questions or need help with something, feel free to let me know!')}}\n",
      "{'event': 'on_parser_end', 'name': 'OpenAIToolsAgentOutputParser', 'run_id': '4949b988-5614-4278-b5f2-b7a9b04fe2d4', 'tags': ['seq:step:4'], 'metadata': {}, 'data': {'input': AIMessageChunk(content='Yes, how can I assist you today? If you have any questions or need help with something, feel free to let me know!'), 'output': AgentFinish(return_values={'output': 'Yes, how can I assist you today? If you have any questions or need help with something, feel free to let me know!'}, log='Yes, how can I assist you today? If you have any questions or need help with something, feel free to let me know!')}}\n",
      "{'event': 'on_chain_stream', 'name': 'RunnableSequence', 'run_id': 'd1b1ac7c-23ed-42ea-b20b-e2e2b211755b', 'tags': [], 'metadata': {}, 'data': {'chunk': AgentFinish(return_values={'output': 'Yes, how can I assist you today? If you have any questions or need help with something, feel free to let me know!'}, log='Yes, how can I assist you today? If you have any questions or need help with something, feel free to let me know!')}}\n",
      "{'event': 'on_chain_end', 'name': 'RunnableSequence', 'run_id': 'd1b1ac7c-23ed-42ea-b20b-e2e2b211755b', 'tags': [], 'metadata': {}, 'data': {'input': {'input': '你好', 'intermediate_steps': []}, 'output': AgentFinish(return_values={'output': 'Yes, how can I assist you today? If you have any questions or need help with something, feel free to let me know!'}, log='Yes, how can I assist you today? If you have any questions or need help with something, feel free to let me know!')}}\n",
      "\u001b[32;1m\u001b[1;3mYes, how can I assist you today? If you have any questions or need help with something, feel free to let me know!\u001b[0m\n",
      "\n",
      "\u001b[1m> Finished chain.\u001b[0m\n",
      "{'event': 'on_chain_stream', 'run_id': '386293b6-71e8-4bd3-a4d0-2d7aa3a77eaa', 'tags': [], 'metadata': {}, 'name': 'AgentExecutor', 'data': {'chunk': {'output': 'Yes, how can I assist you today? If you have any questions or need help with something, feel free to let me know!', 'messages': [AIMessage(content='Yes, how can I assist you today? If you have any questions or need help with something, feel free to let me know!')]}}}\n",
      "{'event': 'on_chain_end', 'name': 'AgentExecutor', 'run_id': '386293b6-71e8-4bd3-a4d0-2d7aa3a77eaa', 'tags': [], 'metadata': {}, 'data': {'output': {'output': 'Yes, how can I assist you today? If you have any questions or need help with something, feel free to let me know!', 'messages': [AIMessage(content='Yes, how can I assist you today? If you have any questions or need help with something, feel free to let me know!')]}}}\n"
     ]
    }
   ],
   "source": [
    "from langchain.agents import AgentExecutor, Tool, create_openai_tools_agent\n",
    "from langchain import hub\n",
    "from langchain_zhipu import ChatZhipuAI\n",
    "\n",
    "from langchain_core.callbacks import BaseCallbackHandler\n",
    "\n",
    "class CountTokenCallbackHandler(BaseCallbackHandler):\n",
    "\tdef on_llm_end(self, response, **kwargs):\n",
    "\t\tprint(\"-\"*20, \"Token统计\", \"-\"*20)\n",
    "\t\tprint(response)\n",
    "\t\tprint(\"-\"*20, \"--------\", \"-\"*20)\n",
    "\n",
    "tools = []\n",
    "prompt = hub.pull(\"hwchase17/openai-tools-agent\")\n",
    "llm = ChatZhipuAI(temperature=0.1, callbacks=[CountTokenCallbackHandler()])\n",
    "agent = create_openai_tools_agent(llm, tools, prompt)\n",
    "agent_executor = AgentExecutor(agent=agent, tools=tools, verbose=True)\n",
    "\n",
    "async for chunk in agent_executor.astream_events({\"input\": \"你好\"}, version=\"v1\"):\n",
    "    print(chunk)"
   ]
  },
  {
   "cell_type": "markdown",
   "metadata": {},
   "source": [
    "# ChatOpenAI的Token统计支持"
   ]
  },
  {
   "cell_type": "code",
   "execution_count": null,
   "metadata": {},
   "outputs": [],
   "source": [
    "from langchain_openai import ChatOpenAI\n",
    "\n",
    "llm_gpt = ChatOpenAI(callbacks=[CountTokenCallbackHandler()])"
   ]
  },
  {
   "cell_type": "markdown",
   "metadata": {},
   "source": [
    "**ChatOpenAI支持invoke方法的token统计：**"
   ]
  },
  {
   "cell_type": "code",
   "execution_count": null,
   "metadata": {},
   "outputs": [
    {
     "name": "stdout",
     "output_type": "stream",
     "text": [
      "-------------------- Token统计 --------------------\n",
      "generations=[[ChatGeneration(text='我是一个基于人工智能技术的语言模型，用于回答用户提出的问题和进行对话。', generation_info={'finish_reason': 'stop', 'logprobs': None}, message=AIMessage(content='我是一个基于人工智能技术的语言模型，用于回答用户提出的问题和进行对话。'))]] llm_output={'token_usage': {'completion_tokens': 34, 'prompt_tokens': 15, 'total_tokens': 49}, 'model_name': 'gpt-3.5-turbo', 'system_fingerprint': None} run=None\n",
      "-------------------- -------- --------------------\n"
     ]
    },
    {
     "data": {
      "text/plain": [
       "AIMessage(content='我是一个基于人工智能技术的语言模型，用于回答用户提出的问题和进行对话。')"
      ]
     },
     "metadata": {},
     "output_type": "display_data"
    }
   ],
   "source": [
    "llm_gpt.invoke(\"你是什么模型？\")"
   ]
  },
  {
   "cell_type": "markdown",
   "metadata": {},
   "source": [
    "**但并不支持stream方法的token统计：**"
   ]
  },
  {
   "cell_type": "code",
   "execution_count": null,
   "metadata": {},
   "outputs": [
    {
     "name": "stdout",
     "output_type": "stream",
     "text": [
      "content=''\n",
      "content='我'\n",
      "content='是'\n",
      "content='一个'\n",
      "content='基'\n",
      "content='于'\n",
      "content='人'\n",
      "content='工'\n",
      "content='智'\n",
      "content='能'\n",
      "content='的'\n",
      "content='聊'\n",
      "content='天'\n",
      "content='机'\n",
      "content='器'\n",
      "content='人'\n",
      "content='模'\n",
      "content='型'\n",
      "content='。'\n",
      "content=''\n",
      "-------------------- Token统计 --------------------\n",
      "generations=[[ChatGenerationChunk(text='我是一个基于人工智能的聊天机器人模型。', generation_info={'finish_reason': 'stop'}, message=AIMessageChunk(content='我是一个基于人工智能的聊天机器人模型。'))]] llm_output=None run=None\n",
      "-------------------- -------- --------------------\n"
     ]
    }
   ],
   "source": [
    "for chunk in llm_gpt.stream(\"你是什么模型？\"):\n",
    "    print(chunk)"
   ]
  }
 ],
 "metadata": {
  "kernelspec": {
   "display_name": "langchain-zhipu-Ddey8KS3-py3.9",
   "language": "python",
   "name": "python3"
  },
  "language_info": {
   "codemirror_mode": {
    "name": "ipython",
    "version": 3
   },
   "file_extension": ".py",
   "mimetype": "text/x-python",
   "name": "python",
   "nbconvert_exporter": "python",
   "pygments_lexer": "ipython3",
   "version": "3.9.18"
  }
 },
 "nbformat": 4,
 "nbformat_minor": 2
}

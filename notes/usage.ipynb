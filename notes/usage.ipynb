{
 "cells": [
  {
   "cell_type": "code",
   "execution_count": null,
   "metadata": {},
   "outputs": [],
   "source": [
    "# !pip install pydantic==1.10.13\n",
    "# !pip install pydantic==2.6.2"
   ]
  },
  {
   "cell_type": "code",
   "execution_count": 2,
   "metadata": {},
   "outputs": [],
   "source": [
    "from dotenv import load_dotenv, find_dotenv\n",
    "load_dotenv(find_dotenv(), override=True)\n",
    "import os\n",
    "os.chdir('..')"
   ]
  },
  {
   "cell_type": "markdown",
   "metadata": {},
   "source": [
    "# Basic Usage"
   ]
  },
  {
   "cell_type": "code",
   "execution_count": 3,
   "metadata": {},
   "outputs": [],
   "source": [
    "from langchain_zhipu import ChatZhipuAI\n",
    "from langchain_core.callbacks import BaseCallbackHandler\n",
    "\n",
    "llm = ChatZhipuAI()\n"
   ]
  },
  {
   "cell_type": "code",
   "execution_count": 3,
   "metadata": {},
   "outputs": [],
   "source": [
    "# 或者你想自己临时指定API_KEY\n",
    "import os\n",
    "llm = ChatZhipuAI(api_key=os.getenv('ZHIPUAI_API_KEY'))"
   ]
  },
  {
   "cell_type": "markdown",
   "metadata": {},
   "source": [
    "## invoke"
   ]
  },
  {
   "cell_type": "code",
   "execution_count": 4,
   "metadata": {},
   "outputs": [
    {
     "data": {
      "text/plain": [
       "AIMessage(content='我是一名人工智能助手，基于清华大学 KEG 实验室和智谱 AI 公司于 2023 年共同训练的语言模型 GLM-130B 开发而成。我的任务是针对用户的问题和要求提供适当的答复和支持。')"
      ]
     },
     "execution_count": 4,
     "metadata": {},
     "output_type": "execute_result"
    }
   ],
   "source": [
    "llm.invoke(\"你是什么模型？\")"
   ]
  },
  {
   "cell_type": "markdown",
   "metadata": {},
   "source": [
    "## stream"
   ]
  },
  {
   "cell_type": "code",
   "execution_count": 5,
   "metadata": {},
   "outputs": [
    {
     "name": "stdout",
     "output_type": "stream",
     "text": [
      "{'id': '8563374926666551443', 'created': 1712936869, 'model': 'glm-4', 'choices': [{'index': 0, 'delta': {'role': 'assistant', 'content': '我'}}]}\n",
      "{'id': '8563374926666551443', 'created': 1712936869, 'model': 'glm-4', 'choices': [{'index': 0, 'delta': {'role': 'assistant', 'content': '使用的'}}]}\n",
      "{'id': '8563374926666551443', 'created': 1712936869, 'model': 'glm-4', 'choices': [{'index': 0, 'delta': {'role': 'assistant', 'content': '模型'}}]}\n",
      "{'id': '8563374926666551443', 'created': 1712936869, 'model': 'glm-4', 'choices': [{'index': 0, 'delta': {'role': 'assistant', 'content': '是'}}]}\n",
      "{'id': '8563374926666551443', 'created': 1712936869, 'model': 'glm-4', 'choices': [{'index': 0, 'delta': {'role': 'assistant', 'content': '清华大学'}}]}\n",
      "{'id': '8563374926666551443', 'created': 1712936869, 'model': 'glm-4', 'choices': [{'index': 0, 'delta': {'role': 'assistant', 'content': ' K'}}]}\n",
      "{'id': '8563374926666551443', 'created': 1712936869, 'model': 'glm-4', 'choices': [{'index': 0, 'delta': {'role': 'assistant', 'content': 'EG'}}]}\n",
      "{'id': '8563374926666551443', 'created': 1712936869, 'model': 'glm-4', 'choices': [{'index': 0, 'delta': {'role': 'assistant', 'content': ' 实'}}]}\n",
      "{'id': '8563374926666551443', 'created': 1712936869, 'model': 'glm-4', 'choices': [{'index': 0, 'delta': {'role': 'assistant', 'content': '验'}}]}\n",
      "{'id': '8563374926666551443', 'created': 1712936869, 'model': 'glm-4', 'choices': [{'index': 0, 'delta': {'role': 'assistant', 'content': '室'}}]}\n",
      "{'id': '8563374926666551443', 'created': 1712936869, 'model': 'glm-4', 'choices': [{'index': 0, 'delta': {'role': 'assistant', 'content': '和'}}]}\n",
      "{'id': '8563374926666551443', 'created': 1712936869, 'model': 'glm-4', 'choices': [{'index': 0, 'delta': {'role': 'assistant', 'content': '智'}}]}\n",
      "{'id': '8563374926666551443', 'created': 1712936869, 'model': 'glm-4', 'choices': [{'index': 0, 'delta': {'role': 'assistant', 'content': '谱'}}]}\n",
      "{'id': '8563374926666551443', 'created': 1712936869, 'model': 'glm-4', 'choices': [{'index': 0, 'delta': {'role': 'assistant', 'content': 'AI'}}]}\n",
      "{'id': '8563374926666551443', 'created': 1712936869, 'model': 'glm-4', 'choices': [{'index': 0, 'delta': {'role': 'assistant', 'content': '共同'}}]}\n",
      "{'id': '8563374926666551443', 'created': 1712936869, 'model': 'glm-4', 'choices': [{'index': 0, 'delta': {'role': 'assistant', 'content': '训练'}}]}\n",
      "{'id': '8563374926666551443', 'created': 1712936869, 'model': 'glm-4', 'choices': [{'index': 0, 'delta': {'role': 'assistant', 'content': '的'}}]}\n",
      "{'id': '8563374926666551443', 'created': 1712936869, 'model': 'glm-4', 'choices': [{'index': 0, 'delta': {'role': 'assistant', 'content': ' GL'}}]}\n",
      "{'id': '8563374926666551443', 'created': 1712936869, 'model': 'glm-4', 'choices': [{'index': 0, 'delta': {'role': 'assistant', 'content': 'M'}}]}\n",
      "{'id': '8563374926666551443', 'created': 1712936869, 'model': 'glm-4', 'choices': [{'index': 0, 'delta': {'role': 'assistant', 'content': ' 模'}}]}\n",
      "{'id': '8563374926666551443', 'created': 1712936869, 'model': 'glm-4', 'choices': [{'index': 0, 'delta': {'role': 'assistant', 'content': '型'}}]}\n",
      "{'id': '8563374926666551443', 'created': 1712936869, 'model': 'glm-4', 'choices': [{'index': 0, 'delta': {'role': 'assistant', 'content': '，'}}]}\n",
      "{'id': '8563374926666551443', 'created': 1712936869, 'model': 'glm-4', 'choices': [{'index': 0, 'delta': {'role': 'assistant', 'content': '一种'}}]}\n",
      "{'id': '8563374926666551443', 'created': 1712936869, 'model': 'glm-4', 'choices': [{'index': 0, 'delta': {'role': 'assistant', 'content': '基于'}}]}\n",
      "{'id': '8563374926666551443', 'created': 1712936869, 'model': 'glm-4', 'choices': [{'index': 0, 'delta': {'role': 'assistant', 'content': ' Transformer'}}]}\n",
      "{'id': '8563374926666551443', 'created': 1712936869, 'model': 'glm-4', 'choices': [{'index': 0, 'delta': {'role': 'assistant', 'content': ' 的'}}]}\n",
      "{'id': '8563374926666551443', 'created': 1712936869, 'model': 'glm-4', 'choices': [{'index': 0, 'delta': {'role': 'assistant', 'content': '通用'}}]}\n",
      "{'id': '8563374926666551443', 'created': 1712936869, 'model': 'glm-4', 'choices': [{'index': 0, 'delta': {'role': 'assistant', 'content': '预'}}]}\n",
      "{'id': '8563374926666551443', 'created': 1712936869, 'model': 'glm-4', 'choices': [{'index': 0, 'delta': {'role': 'assistant', 'content': '训练'}}]}\n",
      "{'id': '8563374926666551443', 'created': 1712936869, 'model': 'glm-4', 'choices': [{'index': 0, 'delta': {'role': 'assistant', 'content': '语言'}}]}\n",
      "{'id': '8563374926666551443', 'created': 1712936869, 'model': 'glm-4', 'choices': [{'index': 0, 'delta': {'role': 'assistant', 'content': '模型'}}]}\n",
      "{'id': '8563374926666551443', 'created': 1712936869, 'model': 'glm-4', 'choices': [{'index': 0, 'delta': {'role': 'assistant', 'content': '。'}}]}\n",
      "{'id': '8563374926666551443', 'created': 1712936869, 'model': 'glm-4', 'choices': [{'index': 0, 'delta': {'role': 'assistant', 'content': 'Transformer'}}]}\n",
      "{'id': '8563374926666551443', 'created': 1712936869, 'model': 'glm-4', 'choices': [{'index': 0, 'delta': {'role': 'assistant', 'content': ' 模'}}]}\n",
      "{'id': '8563374926666551443', 'created': 1712936869, 'model': 'glm-4', 'choices': [{'index': 0, 'delta': {'role': 'assistant', 'content': '型'}}]}\n",
      "{'id': '8563374926666551443', 'created': 1712936869, 'model': 'glm-4', 'choices': [{'index': 0, 'delta': {'role': 'assistant', 'content': '是一种'}}]}\n",
      "{'id': '8563374926666551443', 'created': 1712936869, 'model': 'glm-4', 'choices': [{'index': 0, 'delta': {'role': 'assistant', 'content': '基于'}}]}\n",
      "{'id': '8563374926666551443', 'created': 1712936869, 'model': 'glm-4', 'choices': [{'index': 0, 'delta': {'role': 'assistant', 'content': '自'}}]}\n",
      "{'id': '8563374926666551443', 'created': 1712936869, 'model': 'glm-4', 'choices': [{'index': 0, 'delta': {'role': 'assistant', 'content': '注意力'}}]}\n",
      "{'id': '8563374926666551443', 'created': 1712936869, 'model': 'glm-4', 'choices': [{'index': 0, 'delta': {'role': 'assistant', 'content': '机制的'}}]}\n",
      "{'id': '8563374926666551443', 'created': 1712936869, 'model': 'glm-4', 'choices': [{'index': 0, 'delta': {'role': 'assistant', 'content': '深度'}}]}\n",
      "{'id': '8563374926666551443', 'created': 1712936869, 'model': 'glm-4', 'choices': [{'index': 0, 'delta': {'role': 'assistant', 'content': '神经网络'}}]}\n",
      "{'id': '8563374926666551443', 'created': 1712936869, 'model': 'glm-4', 'choices': [{'index': 0, 'delta': {'role': 'assistant', 'content': '模型'}}]}\n",
      "{'id': '8563374926666551443', 'created': 1712936869, 'model': 'glm-4', 'choices': [{'index': 0, 'delta': {'role': 'assistant', 'content': '，'}}]}\n",
      "{'id': '8563374926666551443', 'created': 1712936869, 'model': 'glm-4', 'choices': [{'index': 0, 'delta': {'role': 'assistant', 'content': '经常'}}]}\n",
      "{'id': '8563374926666551443', 'created': 1712936869, 'model': 'glm-4', 'choices': [{'index': 0, 'delta': {'role': 'assistant', 'content': '用于'}}]}\n",
      "{'id': '8563374926666551443', 'created': 1712936869, 'model': 'glm-4', 'choices': [{'index': 0, 'delta': {'role': 'assistant', 'content': '处理'}}]}\n",
      "{'id': '8563374926666551443', 'created': 1712936869, 'model': 'glm-4', 'choices': [{'index': 0, 'delta': {'role': 'assistant', 'content': '序列'}}]}\n",
      "{'id': '8563374926666551443', 'created': 1712936869, 'model': 'glm-4', 'choices': [{'index': 0, 'delta': {'role': 'assistant', 'content': '数据'}}]}\n",
      "{'id': '8563374926666551443', 'created': 1712936869, 'model': 'glm-4', 'choices': [{'index': 0, 'delta': {'role': 'assistant', 'content': '。\\n\\n我'}}]}\n",
      "{'id': '8563374926666551443', 'created': 1712936869, 'model': 'glm-4', 'choices': [{'index': 0, 'delta': {'role': 'assistant', 'content': '可能'}}]}\n",
      "{'id': '8563374926666551443', 'created': 1712936869, 'model': 'glm-4', 'choices': [{'index': 0, 'delta': {'role': 'assistant', 'content': '用到'}}]}\n",
      "{'id': '8563374926666551443', 'created': 1712936869, 'model': 'glm-4', 'choices': [{'index': 0, 'delta': {'role': 'assistant', 'content': '最大的'}}]}\n",
      "{'id': '8563374926666551443', 'created': 1712936869, 'model': 'glm-4', 'choices': [{'index': 0, 'delta': {'role': 'assistant', 'content': '模型'}}]}\n",
      "{'id': '8563374926666551443', 'created': 1712936869, 'model': 'glm-4', 'choices': [{'index': 0, 'delta': {'role': 'assistant', 'content': '是'}}]}\n",
      "{'id': '8563374926666551443', 'created': 1712936869, 'model': 'glm-4', 'choices': [{'index': 0, 'delta': {'role': 'assistant', 'content': ' GL'}}]}\n",
      "{'id': '8563374926666551443', 'created': 1712936869, 'model': 'glm-4', 'choices': [{'index': 0, 'delta': {'role': 'assistant', 'content': 'M'}}]}\n",
      "{'id': '8563374926666551443', 'created': 1712936869, 'model': 'glm-4', 'choices': [{'index': 0, 'delta': {'role': 'assistant', 'content': '-'}}]}\n",
      "{'id': '8563374926666551443', 'created': 1712936869, 'model': 'glm-4', 'choices': [{'index': 0, 'delta': {'role': 'assistant', 'content': '130'}}]}\n",
      "{'id': '8563374926666551443', 'created': 1712936869, 'model': 'glm-4', 'choices': [{'index': 0, 'delta': {'role': 'assistant', 'content': 'B'}}]}\n",
      "{'id': '8563374926666551443', 'created': 1712936869, 'model': 'glm-4', 'choices': [{'index': 0, 'delta': {'role': 'assistant', 'content': '，'}}]}\n",
      "{'id': '8563374926666551443', 'created': 1712936869, 'model': 'glm-4', 'choices': [{'index': 0, 'delta': {'role': 'assistant', 'content': '具有'}}]}\n",
      "{'id': '8563374926666551443', 'created': 1712936869, 'model': 'glm-4', 'choices': [{'index': 0, 'delta': {'role': 'assistant', 'content': ' '}}]}\n",
      "{'id': '8563374926666551443', 'created': 1712936869, 'model': 'glm-4', 'choices': [{'index': 0, 'delta': {'role': 'assistant', 'content': '130'}}]}\n",
      "{'id': '8563374926666551443', 'created': 1712936869, 'model': 'glm-4', 'choices': [{'index': 0, 'delta': {'role': 'assistant', 'content': '0'}}]}\n",
      "{'id': '8563374926666551443', 'created': 1712936869, 'model': 'glm-4', 'choices': [{'index': 0, 'delta': {'role': 'assistant', 'content': ' 亿'}}]}\n",
      "{'id': '8563374926666551443', 'created': 1712936869, 'model': 'glm-4', 'choices': [{'index': 0, 'delta': {'role': 'assistant', 'content': '参数'}}]}\n",
      "{'id': '8563374926666551443', 'created': 1712936869, 'model': 'glm-4', 'choices': [{'index': 0, 'delta': {'role': 'assistant', 'content': '，'}}]}\n",
      "{'id': '8563374926666551443', 'created': 1712936869, 'model': 'glm-4', 'choices': [{'index': 0, 'delta': {'role': 'assistant', 'content': '支持'}}]}\n",
      "{'id': '8563374926666551443', 'created': 1712936869, 'model': 'glm-4', 'choices': [{'index': 0, 'delta': {'role': 'assistant', 'content': '中'}}]}\n",
      "{'id': '8563374926666551443', 'created': 1712936869, 'model': 'glm-4', 'choices': [{'index': 0, 'delta': {'role': 'assistant', 'content': '英'}}]}\n",
      "{'id': '8563374926666551443', 'created': 1712936869, 'model': 'glm-4', 'choices': [{'index': 0, 'delta': {'role': 'assistant', 'content': '双语'}}]}\n",
      "{'id': '8563374926666551443', 'created': 1712936869, 'model': 'glm-4', 'choices': [{'index': 0, 'delta': {'role': 'assistant', 'content': '。'}}]}\n",
      "{'id': '8563374926666551443', 'created': 1712936869, 'model': 'glm-4', 'choices': [{'index': 0, 'delta': {'role': 'assistant', 'content': '我'}}]}\n",
      "{'id': '8563374926666551443', 'created': 1712936869, 'model': 'glm-4', 'choices': [{'index': 0, 'delta': {'role': 'assistant', 'content': '具体'}}]}\n",
      "{'id': '8563374926666551443', 'created': 1712936869, 'model': 'glm-4', 'choices': [{'index': 0, 'delta': {'role': 'assistant', 'content': '使用的'}}]}\n",
      "{'id': '8563374926666551443', 'created': 1712936869, 'model': 'glm-4', 'choices': [{'index': 0, 'delta': {'role': 'assistant', 'content': '模型'}}]}\n",
      "{'id': '8563374926666551443', 'created': 1712936869, 'model': 'glm-4', 'choices': [{'index': 0, 'delta': {'role': 'assistant', 'content': '规模'}}]}\n",
      "{'id': '8563374926666551443', 'created': 1712936869, 'model': 'glm-4', 'choices': [{'index': 0, 'delta': {'role': 'assistant', 'content': '视'}}]}\n",
      "{'id': '8563374926666551443', 'created': 1712936869, 'model': 'glm-4', 'choices': [{'index': 0, 'delta': {'role': 'assistant', 'content': '应用'}}]}\n",
      "{'id': '8563374926666551443', 'created': 1712936869, 'model': 'glm-4', 'choices': [{'index': 0, 'delta': {'role': 'assistant', 'content': '场景'}}]}\n",
      "{'id': '8563374926666551443', 'created': 1712936869, 'model': 'glm-4', 'choices': [{'index': 0, 'delta': {'role': 'assistant', 'content': '可能会有'}}]}\n",
      "{'id': '8563374926666551443', 'created': 1712936869, 'model': 'glm-4', 'choices': [{'index': 0, 'delta': {'role': 'assistant', 'content': '所'}}]}\n",
      "{'id': '8563374926666551443', 'created': 1712936869, 'model': 'glm-4', 'choices': [{'index': 0, 'delta': {'role': 'assistant', 'content': '变化'}}]}\n",
      "{'id': '8563374926666551443', 'created': 1712936869, 'model': 'glm-4', 'choices': [{'index': 0, 'delta': {'role': 'assistant', 'content': '。'}}]}\n",
      "{'id': '8563374926666551443', 'created': 1712936869, 'model': 'glm-4', 'choices': [{'index': 0, 'finish_reason': 'stop', 'delta': {'role': 'assistant', 'content': ''}}], 'usage': {'prompt_tokens': 9, 'completion_tokens': 91, 'total_tokens': 100}}\n"
     ]
    }
   ],
   "source": [
    "for s in llm._ask_remote_sse([{\"role\": \"user\", \"content\": \"你是什么模型？\"}]):\n",
    "  print(s)"
   ]
  },
  {
   "cell_type": "code",
   "execution_count": 6,
   "metadata": {},
   "outputs": [
    {
     "name": "stdout",
     "output_type": "stream",
     "text": [
      "content='我' id='8561159135857479317'\n",
      "content='是一名' id='8561159135857479317'\n",
      "content='人工智能' id='8561159135857479317'\n",
      "content='助手' id='8561159135857479317'\n",
      "content='，' id='8561159135857479317'\n",
      "content='基于' id='8561159135857479317'\n",
      "content='清华大学' id='8561159135857479317'\n",
      "content=' K' id='8561159135857479317'\n",
      "content='EG' id='8561159135857479317'\n",
      "content=' 实' id='8561159135857479317'\n",
      "content='验' id='8561159135857479317'\n",
      "content='室' id='8561159135857479317'\n",
      "content='和' id='8561159135857479317'\n",
      "content='智' id='8561159135857479317'\n",
      "content='谱' id='8561159135857479317'\n",
      "content='AI' id='8561159135857479317'\n",
      "content='共同' id='8561159135857479317'\n",
      "content='训练' id='8561159135857479317'\n",
      "content='的' id='8561159135857479317'\n",
      "content=' GL' id='8561159135857479317'\n",
      "content='M' id='8561159135857479317'\n",
      "content=' 模' id='8561159135857479317'\n",
      "content='型' id='8561159135857479317'\n",
      "content='。' id='8561159135857479317'\n",
      "content='GL' id='8561159135857479317'\n",
      "content='M' id='8561159135857479317'\n",
      "content=' 是' id='8561159135857479317'\n",
      "content='一种' id='8561159135857479317'\n",
      "content='基于' id='8561159135857479317'\n",
      "content=' Transformer' id='8561159135857479317'\n",
      "content=' 的' id='8561159135857479317'\n",
      "content='通用' id='8561159135857479317'\n",
      "content='预' id='8561159135857479317'\n",
      "content='训练' id='8561159135857479317'\n",
      "content='语言' id='8561159135857479317'\n",
      "content='模型' id='8561159135857479317'\n",
      "content='，' id='8561159135857479317'\n",
      "content='它' id='8561159135857479317'\n",
      "content='可以在' id='8561159135857479317'\n",
      "content='多种' id='8561159135857479317'\n",
      "content='任务' id='8561159135857479317'\n",
      "content='中' id='8561159135857479317'\n",
      "content='处理' id='8561159135857479317'\n",
      "content='文本' id='8561159135857479317'\n",
      "content='、' id='8561159135857479317'\n",
      "content='图像' id='8561159135857479317'\n",
      "content='等' id='8561159135857479317'\n",
      "content='不同' id='8561159135857479317'\n",
      "content='类型' id='8561159135857479317'\n",
      "content='的数据' id='8561159135857479317'\n",
      "content='。' id='8561159135857479317'\n",
      "content='我的' id='8561159135857479317'\n",
      "content='任务是' id='8561159135857479317'\n",
      "content='针对' id='8561159135857479317'\n",
      "content='用户' id='8561159135857479317'\n",
      "content='的问题' id='8561159135857479317'\n",
      "content='和要求' id='8561159135857479317'\n",
      "content='提供' id='8561159135857479317'\n",
      "content='适当的' id='8561159135857479317'\n",
      "content='答复' id='8561159135857479317'\n",
      "content='和支持' id='8561159135857479317'\n",
      "content='。' id='8561159135857479317'\n",
      "content='' id='8561159135857479317'\n"
     ]
    }
   ],
   "source": [
    "for s in llm.stream([{\"role\": \"user\", \"content\": \"你是什么模型？\"}]):\n",
    "  print(s)"
   ]
  },
  {
   "cell_type": "code",
   "execution_count": 7,
   "metadata": {},
   "outputs": [
    {
     "name": "stdout",
     "output_type": "stream",
     "text": [
      "content='我' id='8563446635440577900'\n",
      "content='是一名' id='8563446635440577900'\n",
      "content='人工智能' id='8563446635440577900'\n",
      "content='助手' id='8563446635440577900'\n",
      "content='，' id='8563446635440577900'\n",
      "content='基于' id='8563446635440577900'\n",
      "content='清华大学' id='8563446635440577900'\n",
      "content=' K' id='8563446635440577900'\n",
      "content='EG' id='8563446635440577900'\n",
      "content=' 实' id='8563446635440577900'\n",
      "content='验' id='8563446635440577900'\n",
      "content='室' id='8563446635440577900'\n",
      "content='和' id='8563446635440577900'\n",
      "content='智' id='8563446635440577900'\n",
      "content='谱' id='8563446635440577900'\n",
      "content=' AI' id='8563446635440577900'\n",
      "content=' 公司' id='8563446635440577900'\n",
      "content='于' id='8563446635440577900'\n",
      "content=' ' id='8563446635440577900'\n",
      "content='202' id='8563446635440577900'\n",
      "content='3' id='8563446635440577900'\n",
      "content=' 年' id='8563446635440577900'\n",
      "content='共同' id='8563446635440577900'\n",
      "content='训练' id='8563446635440577900'\n",
      "content='的语言' id='8563446635440577900'\n",
      "content='模型' id='8563446635440577900'\n",
      "content=' GL' id='8563446635440577900'\n",
      "content='M' id='8563446635440577900'\n",
      "content='2' id='8563446635440577900'\n",
      "content=' 开' id='8563446635440577900'\n",
      "content='发' id='8563446635440577900'\n",
      "content='而成' id='8563446635440577900'\n",
      "content='。' id='8563446635440577900'\n",
      "content='我的' id='8563446635440577900'\n",
      "content='任务是' id='8563446635440577900'\n",
      "content='针对' id='8563446635440577900'\n",
      "content='用户' id='8563446635440577900'\n",
      "content='的问题' id='8563446635440577900'\n",
      "content='和要求' id='8563446635440577900'\n",
      "content='提供' id='8563446635440577900'\n",
      "content='适当的' id='8563446635440577900'\n",
      "content='答复' id='8563446635440577900'\n",
      "content='和支持' id='8563446635440577900'\n",
      "content='。' id='8563446635440577900'\n",
      "content='' id='8563446635440577900'\n"
     ]
    }
   ],
   "source": [
    "async for s in llm.astream([{\"role\": \"user\", \"content\": \"你是什么模型？\"}]):\n",
    "  print(s)"
   ]
  },
  {
   "cell_type": "markdown",
   "metadata": {},
   "source": [
    "## batch"
   ]
  },
  {
   "cell_type": "code",
   "execution_count": 8,
   "metadata": {},
   "outputs": [
    {
     "data": {
      "text/plain": [
       "[AIMessage(content='我是一个人工智能助手，基于清华大学 KEG 实验室和智谱 AI 公司于 2023 年共同训练的语言模型 GLM2 开发而成。我的任务是针对用户的问题和要求提供适当的答复和支持。'),\n",
       " AIMessage(content='我使用的模型是清华大学 KEG 实验室和智谱AI共同训练的 GLM 模型，一种基于 Transformer 的通用预训练语言模型。Transformer 模型是一种基于自注意力机制的深度神经网络模型，经常用于处理序列数据。\\n\\n我可能用到最大的模型是 GLM-130B，具有 1300 亿参数，支持中英双语。我具体使用的模型规模视应用场景可能会有所变化。'),\n",
       " AIMessage(content='我使用的模型是清华大学 KEG 实验室和智谱AI共同训练的 GLM 模型，一种基于 Transformer 的通用预训练语言模型。Transformer 模型是一种基于自注意力机制的深度神经网络模型，经常用于处理序列数据。\\n\\n我可能用到最大的模型是 GLM-130B，具有 1300 亿参数，支持中英双语。我具体使用的模型规模视应用场景可能会有所变化。'),\n",
       " AIMessage(content='我是一名人工智能助手，基于清华大学 KEG 实验室和智谱 AI 公司于 2023 年共同训练的语言模型 GLM2 开发而成。我的任务是针对用户的问题和要求提供适当的答复和支持。'),\n",
       " AIMessage(content='我使用的模型是清华大学 KEG 实验室和智谱AI共同训练的 GLM 模型，一种基于 Transformer 的通用预训练语言模型。Transformer 模型是一种基于自注意力机制的深度神经网络模型，经常用于处理序列数据。\\n\\n我可能用到最大的模型是 GLM-130B，具有 1300 亿参数，支持中英双语。我具体使用的模型规模视应用场景可能会有所变化。'),\n",
       " AIMessage(content='我是一个基于语言的人工智能模型，名为 ChatGLM，现在又名智谱清言。我是由清华大学 KEG 实验室和智谱 AI 公司于 2023 年共同训练的语言模型 GLM-130B 开发的，我的任务是针对用户的问题和要求提供适当的答复和支持。我是一种大型语言模型，具有亿级参数，可以进行自然语言处理和生成。'),\n",
       " AIMessage(content='我是一个人工智能助手模型，基于清华大学 KEG 实验室和智谱 AI 公司于 2023 年共同训练的语言模型 GLM2 开发而成。我的任务是针对用户的问题和要求提供适当的答复和支持。'),\n",
       " AIMessage(content='我使用的模型是清华大学 KEG 实验室和智谱AI共同训练的 GLM 模型，一种基于 Transformer 的通用预训练语言模型。Transformer 模型是一种基于自注意力机制的深度神经网络模型，经常用于处理序列数据。\\n\\n我可能用到最大的模型是 GLM-130B，具有 1300 亿参数，支持中英双语。我具体使用的模型规模视应用场景可能会有所变化。'),\n",
       " AIMessage(content='我是一个名为智谱清言的人工智能助手，是基于清华大学 KEG 实验室和智谱 AI 公司于 2023 年共同训练的语言模型开发的。我的任务是针对用户的问题和要求提供适当的答复和支持。我是一种基于 Transformer 的通用预训练语言模型，可以通过学习大量的文本数据来掌握自然语言中的语法、语义和上下文信息，从而能够为用户提供高质量的回答和交互体验。\\n \\nTransformer 模型是一种基于自注意力机制的深度神经网络模型，经常用于处理序列数据。它是目前最先进的语言模型之一，被广泛应用于自然语言处理、机器翻译、文本生成等任务中。'),\n",
       " AIMessage(content='我是一个人工智能助手模型，基于清华大学 KEG 实验室和智谱AI共同训练的 GLM-130B 模型。我的任务是针对用户的问题和要求提供适当的答复和支持。'),\n",
       " AIMessage(content='我是一名人工智能助手，基于清华大学 KEG 实验室和智谱 AI 公司于 2023 年共同训练的语言模型 GLM-130B 开发而成。我的任务是针对用户的问题和要求提供适当的答复和支持。'),\n",
       " AIMessage(content='我使用的模型是清华大学 KEG 实验室和智谱AI共同训练的 GLM 模型，一种基于 Transformer 的通用预训练语言模型。Transformer 模型是一种基于自注意力机制的深度神经网络模型，经常用于处理序列数据。\\n\\n我可能用到最大的模型是 GLM-130B，具有 1300 亿参数，支持中英双语。我具体使用的模型规模视应用场景可能会有所变化。'),\n",
       " AIMessage(content='我使用的模型是清华大学 KEG 实验室和智谱AI共同训练的 GLM 模型，一种基于 Transformer 的通用预训练语言模型。Transformer 模型是一种基于自注意力机制的深度神经网络模型，经常用于处理序列数据。\\n\\n我可能用到最大的模型是 GLM-130B，具有 1300 亿参数，支持中英双语。我具体使用的模型规模视应用场景可能会有所变化。'),\n",
       " AIMessage(content='我是一名人工智能助手，基于清华大学 KEG 实验室和智谱 AI 公司于 2023 年共同训练的语言模型 GLM-130B 开发而成。我的任务是针对用户的问题和要求提供适当的答复和支持。')]"
      ]
     },
     "execution_count": 8,
     "metadata": {},
     "output_type": "execute_result"
    }
   ],
   "source": [
    "llm.batch([\n",
    "    \"你是什么模型？\",\n",
    "    \"你是什么模型？\",\n",
    "    \"你是什么模型？\",\n",
    "    \"你是什么模型？\",\n",
    "    \"你是什么模型？\",\n",
    "    \"你是什么模型？\",\n",
    "    \"你是什么模型？\",\n",
    "    \"你是什么模型？\",\n",
    "    \"你是什么模型？\",\n",
    "    \"你是什么模型？\",\n",
    "    \"你是什么模型？\",\n",
    "    \"你是什么模型？\",\n",
    "    \"你是什么模型？\",\n",
    "    \"你是什么模型？\"\n",
    "])"
   ]
  },
  {
   "cell_type": "markdown",
   "metadata": {},
   "source": [
    "# Tools-Calling"
   ]
  },
  {
   "cell_type": "markdown",
   "metadata": {},
   "source": [
    "## function"
   ]
  },
  {
   "cell_type": "code",
   "execution_count": 9,
   "metadata": {},
   "outputs": [
    {
     "data": {
      "text/plain": [
       "AIMessage(content='', additional_kwargs={'tool_calls': [{'function': {'arguments': '{\"query\":\"langchain_chinese是啥？\"}', 'name': 'search'}, 'id': 'call_8561160647686099148', 'index': 0, 'type': 'function'}]})"
      ]
     },
     "execution_count": 9,
     "metadata": {},
     "output_type": "execute_result"
    }
   ],
   "source": [
    "from langchain_core.utils.function_calling import convert_to_openai_tool\n",
    "from langchain.tools import tool\n",
    "\n",
    "@tool\n",
    "def search(query: str) -> str:\n",
    "    \"\"\"查询 langchan 资料; args: query 类型为字符串，描述用户的问题.\"\"\"\n",
    "    return \"langchain_chinese 是一个为中国大模型优化的langchain模块\"\n",
    "\n",
    "llm.bind(tools=[convert_to_openai_tool(search)]).invoke(\"langchain_chinese是啥？请查询本地资料回答。\")\n"
   ]
  },
  {
   "cell_type": "markdown",
   "metadata": {},
   "source": [
    "## web_search"
   ]
  },
  {
   "cell_type": "code",
   "execution_count": 10,
   "metadata": {},
   "outputs": [
    {
     "data": {
      "text/plain": [
       "AIMessage(content='这个问题很难有一个客观的答案，因为每个人的口味和喜好都不同。但是，如果我们根据周星驰的电影作品来推荐，可以从他的票房成绩和影响力来考虑。\\n\\n周星驰先生是华语影坛的喜剧之王，他的电影深受广大观众喜爱。从您提供的参考信息来看，以下是几部值得推荐的电影：\\n\\n1. 《大话西游》：这部电影是周星驰的代表作之一，它结合了爱情、喜剧、奇幻多种元素，是许多人心中的经典之作。\\n\\n2. 《喜剧之王》：这部电影不仅充满幽默，还包含了对演艺事业的深刻理解和对梦想的执着追求，非常感人。\\n\\n3. 《功夫》：这部电影展示了周星驰先生对于功夫电影的热爱，结合了动作、喜剧、以及特效，是一部视觉与情感并重的作品。\\n\\n4. 《食神》：这部电影以美食为线索，融入了周星驰先生特有的幽默风格，同时也是他与吴孟达先生的又一次精彩合作。\\n\\n如果您喜欢奇幻题材，可以选择《大话西游》；如果您喜欢关于梦想和奋斗的故事，那么《喜剧之王》会是不错的选择；如果您偏好动作和视觉冲击，那么《功夫》也许更能满足您的口味。\\n\\n最终，哪部电影“好看”还是要看个人的兴趣和喜好。建议您可以依据自己的喜好和心情来选择观看。')"
      ]
     },
     "execution_count": 10,
     "metadata": {},
     "output_type": "execute_result"
    }
   ],
   "source": [
    "from langchain_zhipu import convert_to_web_search_tool\n",
    "llm.bind(tools=[convert_to_web_search_tool(search_query=\"周星驰电影\")]).invoke(\"哪部电影好看？\")"
   ]
  },
  {
   "cell_type": "markdown",
   "metadata": {},
   "source": [
    "## retrieval"
   ]
  },
  {
   "cell_type": "code",
   "execution_count": 11,
   "metadata": {},
   "outputs": [
    {
     "data": {
      "text/plain": [
       "AIMessage(content='马冬梅住在楼上322房间。')"
      ]
     },
     "execution_count": 11,
     "metadata": {},
     "output_type": "execute_result"
    }
   ],
   "source": [
    "from langchain_zhipu import convert_to_retrieval_tool\n",
    "llm.bind(tools=[convert_to_retrieval_tool(knowledge_id=\"1772979648448397312\")]).invoke(\"你知道马冬梅住哪里吗？\")"
   ]
  },
  {
   "cell_type": "code",
   "execution_count": 12,
   "metadata": {},
   "outputs": [
    {
     "data": {
      "text/plain": [
       "RunnableBinding(bound=ChatZhipuAI(client=RestAPI(base_url='https://open.bigmodel.cn', api_key='902f0e17a86ffe90b2af1f63f00f78ac.iYxWfqPYNiPfbff7', exp_seconds=600, session=<requests.sessions.Session object at 0x107e60100>)), kwargs={'tools': [{'type': 'function', 'function': {'name': 'search', 'description': 'search(query: str) -> str - 查询 langchan 资料; args: query 类型为字符串，描述用户的问题.', 'parameters': {'type': 'object', 'properties': {'query': {'type': 'string'}}, 'required': ['query']}}}]})"
      ]
     },
     "execution_count": 12,
     "metadata": {},
     "output_type": "execute_result"
    }
   ],
   "source": [
    "llm.bind(tools=[convert_to_openai_tool(search)])"
   ]
  },
  {
   "cell_type": "markdown",
   "metadata": {},
   "source": [
    "# 使用官方接口"
   ]
  },
  {
   "cell_type": "code",
   "execution_count": null,
   "metadata": {},
   "outputs": [],
   "source": [
    "from langchain_zhipu import ZhipuAI\n",
    "\n",
    "client = ZhipuAI()\n",
    "\n",
    "tools = [\n",
    "        {\n",
    "            \"type\": \"function\",\n",
    "            \"function\": {\n",
    "                \"name\": \"search\",\n",
    "                \"description\": \"search(query: str) -> str - 查询 langchan 资料; args: query 类型为字符串，描述用户的问题.'\",\n",
    "                \"parameters\": {\n",
    "                    \"type\": \"object\",\n",
    "                    \"properties\": {\n",
    "                        \"query\": {\n",
    "                            \"type\": \"string\"\n",
    "                        },\n",
    "                    },\n",
    "                    \"required\": [\"query\"]\n",
    "                }\n",
    "            }\n",
    "        }\n",
    "    ]"
   ]
  },
  {
   "cell_type": "code",
   "execution_count": null,
   "metadata": {},
   "outputs": [],
   "source": [
    "client.chat.completions.create(\n",
    "    model=\"glm-4\",\n",
    "    messages = [\n",
    "        {\n",
    "            \"role\": \"user\",\n",
    "            \"content\": \"langchain是什么？请帮我查询\"\n",
    "        }\n",
    "    ],\n",
    "    tools = tools,\n",
    "    tool_choice=\"auto\",\n",
    ")"
   ]
  },
  {
   "cell_type": "code",
   "execution_count": null,
   "metadata": {},
   "outputs": [],
   "source": [
    "client.chat.completions.create(\n",
    "    model=\"glm-4\",\n",
    "    messages = [\n",
    "        {\n",
    "            \"role\": \"user\",\n",
    "            \"content\": \"langchain是什么？\"\n",
    "        }\n",
    "    ],\n",
    "    tools = tools,\n",
    "    tool_choice=\"auto\",\n",
    ")"
   ]
  },
  {
   "cell_type": "markdown",
   "metadata": {},
   "source": [
    "# 智能体"
   ]
  },
  {
   "cell_type": "code",
   "execution_count": null,
   "metadata": {},
   "outputs": [],
   "source": [
    "!pip install langchainhub"
   ]
  },
  {
   "cell_type": "code",
   "execution_count": null,
   "metadata": {},
   "outputs": [],
   "source": [
    "from langchain.agents import AgentExecutor, Tool, create_openai_tools_agent\n",
    "from langchain import hub\n",
    "\n",
    "tools = [search]\n",
    "prompt = hub.pull(\"hwchase17/openai-tools-agent\")\n",
    "agent = create_openai_tools_agent(llm, tools, prompt)\n",
    "agent_executor = AgentExecutor(agent=agent, tools=tools, verbose=True)\n",
    "\n",
    "for chunk in agent_executor.stream({\"input\": \"langchain_chinese是什么？\"}):\n",
    "    print(chunk)\n"
   ]
  },
  {
   "cell_type": "code",
   "execution_count": null,
   "metadata": {},
   "outputs": [],
   "source": [
    "prompt"
   ]
  },
  {
   "cell_type": "markdown",
   "metadata": {},
   "source": [
    "# GLM-4V"
   ]
  },
  {
   "cell_type": "code",
   "execution_count": null,
   "metadata": {},
   "outputs": [],
   "source": [
    "from langchain_zhipu import ChatZhipuAI\n",
    "from langchain_core.prompts import ChatPromptTemplate\n",
    "\n",
    "llm4v = ChatZhipuAI(model=\"glm-4v\")\n",
    "\n",
    "prompt = ChatPromptTemplate.from_messages([\n",
    "    (\"human\", [\n",
    "          {\n",
    "            \"type\": \"text\",\n",
    "            \"text\": \"图里有什么\"\n",
    "          },\n",
    "          {\n",
    "            \"type\": \"image_url\",\n",
    "            \"image_url\": {\n",
    "                \"url\" : \"https://img1.baidu.com/it/u=1369931113,3388870256&fm=253&app=138&size=w931&n=0&f=JPEG&fmt=auto?sec=1703696400&t=f3028c7a1dca43a080aeb8239f09cc2f\"\n",
    "            }\n",
    "          }\n",
    "        ]),\n",
    "])\n",
    "\n",
    "(prompt|llm4v).invoke({})"
   ]
  },
  {
   "cell_type": "markdown",
   "metadata": {},
   "source": [
    "# get_token_ids"
   ]
  },
  {
   "cell_type": "code",
   "execution_count": null,
   "metadata": {},
   "outputs": [],
   "source": [
    "from langchain_zhipu import ChatZhipuAI\n",
    "\n",
    "llm = ChatZhipuAI(allowed_special=set())\n",
    "llm.get_token_ids('<|user|>')"
   ]
  },
  {
   "cell_type": "code",
   "execution_count": null,
   "metadata": {},
   "outputs": [],
   "source": [
    "llm.get_num_tokens(text=\"你好\")"
   ]
  },
  {
   "cell_type": "code",
   "execution_count": null,
   "metadata": {},
   "outputs": [],
   "source": []
  }
 ],
 "metadata": {
  "kernelspec": {
   "display_name": "langchain-zhipu-Ddey8KS3-py3.9",
   "language": "python",
   "name": "python3"
  },
  "language_info": {
   "codemirror_mode": {
    "name": "ipython",
    "version": 3
   },
   "file_extension": ".py",
   "mimetype": "text/x-python",
   "name": "python",
   "nbconvert_exporter": "python",
   "pygments_lexer": "ipython3",
   "version": "3.9.18"
  }
 },
 "nbformat": 4,
 "nbformat_minor": 2
}

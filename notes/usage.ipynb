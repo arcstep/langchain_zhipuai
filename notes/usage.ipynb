{
 "cells": [
  {
   "cell_type": "code",
   "execution_count": null,
   "metadata": {},
   "outputs": [],
   "source": [
    "# !pip install pydantic==1.10.13\n",
    "# !pip install pydantic==2.6.2"
   ]
  },
  {
   "cell_type": "code",
   "execution_count": 1,
   "metadata": {},
   "outputs": [],
   "source": [
    "from dotenv import load_dotenv, find_dotenv\n",
    "load_dotenv(find_dotenv(), override=True)\n",
    "import os\n",
    "os.chdir('..')"
   ]
  },
  {
   "cell_type": "markdown",
   "metadata": {},
   "source": [
    "# Basic Usage"
   ]
  },
  {
   "cell_type": "code",
   "execution_count": 5,
   "metadata": {},
   "outputs": [],
   "source": [
    "from langchain_zhipu import ChatZhipuAI\n",
    "from langchain_core.callbacks import BaseCallbackHandler\n",
    "\n",
    "llm = ChatZhipuAI()\n"
   ]
  },
  {
   "cell_type": "code",
   "execution_count": 3,
   "metadata": {},
   "outputs": [],
   "source": [
    "# 或者你想自己临时指定API_KEY\n",
    "import os\n",
    "llm = ChatZhipuAI(api_key=os.getenv('ZHIPUAI_API_KEY'))"
   ]
  },
  {
   "cell_type": "markdown",
   "metadata": {},
   "source": [
    "## invoke"
   ]
  },
  {
   "cell_type": "code",
   "execution_count": 6,
   "metadata": {},
   "outputs": [
    {
     "data": {
      "text/plain": [
       "AIMessage(content='我是一名人工智能助手，基于语言模型 GLM2 开发而成。GLM2 是一个开源的双语预训练模型，由清华大学 KEG 实验室和智谱 AI 公司于 2023 年共同训练。我的任务是针对用户的问题和要求提供适当的答复和支持。')"
      ]
     },
     "execution_count": 6,
     "metadata": {},
     "output_type": "execute_result"
    }
   ],
   "source": [
    "llm.invoke(\"你是什么模型？\")"
   ]
  },
  {
   "cell_type": "markdown",
   "metadata": {},
   "source": [
    "## stream"
   ]
  },
  {
   "cell_type": "code",
   "execution_count": 7,
   "metadata": {},
   "outputs": [
    {
     "name": "stdout",
     "output_type": "stream",
     "text": [
      "{'id': '8561160235369207043', 'created': 1712930947, 'model': 'glm-4', 'choices': [{'index': 0, 'delta': {'role': 'assistant', 'content': '我'}}]}\n",
      "{'id': '8561160235369207043', 'created': 1712930947, 'model': 'glm-4', 'choices': [{'index': 0, 'delta': {'role': 'assistant', 'content': '使用的'}}]}\n",
      "{'id': '8561160235369207043', 'created': 1712930947, 'model': 'glm-4', 'choices': [{'index': 0, 'delta': {'role': 'assistant', 'content': '模型'}}]}\n",
      "{'id': '8561160235369207043', 'created': 1712930947, 'model': 'glm-4', 'choices': [{'index': 0, 'delta': {'role': 'assistant', 'content': '是'}}]}\n",
      "{'id': '8561160235369207043', 'created': 1712930947, 'model': 'glm-4', 'choices': [{'index': 0, 'delta': {'role': 'assistant', 'content': '清华大学'}}]}\n",
      "{'id': '8561160235369207043', 'created': 1712930947, 'model': 'glm-4', 'choices': [{'index': 0, 'delta': {'role': 'assistant', 'content': ' K'}}]}\n",
      "{'id': '8561160235369207043', 'created': 1712930947, 'model': 'glm-4', 'choices': [{'index': 0, 'delta': {'role': 'assistant', 'content': 'EG'}}]}\n",
      "{'id': '8561160235369207043', 'created': 1712930947, 'model': 'glm-4', 'choices': [{'index': 0, 'delta': {'role': 'assistant', 'content': ' 实'}}]}\n",
      "{'id': '8561160235369207043', 'created': 1712930947, 'model': 'glm-4', 'choices': [{'index': 0, 'delta': {'role': 'assistant', 'content': '验'}}]}\n",
      "{'id': '8561160235369207043', 'created': 1712930947, 'model': 'glm-4', 'choices': [{'index': 0, 'delta': {'role': 'assistant', 'content': '室'}}]}\n",
      "{'id': '8561160235369207043', 'created': 1712930947, 'model': 'glm-4', 'choices': [{'index': 0, 'delta': {'role': 'assistant', 'content': '和'}}]}\n",
      "{'id': '8561160235369207043', 'created': 1712930947, 'model': 'glm-4', 'choices': [{'index': 0, 'delta': {'role': 'assistant', 'content': '智'}}]}\n",
      "{'id': '8561160235369207043', 'created': 1712930947, 'model': 'glm-4', 'choices': [{'index': 0, 'delta': {'role': 'assistant', 'content': '谱'}}]}\n",
      "{'id': '8561160235369207043', 'created': 1712930947, 'model': 'glm-4', 'choices': [{'index': 0, 'delta': {'role': 'assistant', 'content': 'AI'}}]}\n",
      "{'id': '8561160235369207043', 'created': 1712930947, 'model': 'glm-4', 'choices': [{'index': 0, 'delta': {'role': 'assistant', 'content': '共同'}}]}\n",
      "{'id': '8561160235369207043', 'created': 1712930947, 'model': 'glm-4', 'choices': [{'index': 0, 'delta': {'role': 'assistant', 'content': '训练'}}]}\n",
      "{'id': '8561160235369207043', 'created': 1712930947, 'model': 'glm-4', 'choices': [{'index': 0, 'delta': {'role': 'assistant', 'content': '的'}}]}\n",
      "{'id': '8561160235369207043', 'created': 1712930947, 'model': 'glm-4', 'choices': [{'index': 0, 'delta': {'role': 'assistant', 'content': ' GL'}}]}\n",
      "{'id': '8561160235369207043', 'created': 1712930947, 'model': 'glm-4', 'choices': [{'index': 0, 'delta': {'role': 'assistant', 'content': 'M'}}]}\n",
      "{'id': '8561160235369207043', 'created': 1712930947, 'model': 'glm-4', 'choices': [{'index': 0, 'delta': {'role': 'assistant', 'content': ' 模'}}]}\n",
      "{'id': '8561160235369207043', 'created': 1712930947, 'model': 'glm-4', 'choices': [{'index': 0, 'delta': {'role': 'assistant', 'content': '型'}}]}\n",
      "{'id': '8561160235369207043', 'created': 1712930947, 'model': 'glm-4', 'choices': [{'index': 0, 'delta': {'role': 'assistant', 'content': '，'}}]}\n",
      "{'id': '8561160235369207043', 'created': 1712930947, 'model': 'glm-4', 'choices': [{'index': 0, 'delta': {'role': 'assistant', 'content': '一种'}}]}\n",
      "{'id': '8561160235369207043', 'created': 1712930947, 'model': 'glm-4', 'choices': [{'index': 0, 'delta': {'role': 'assistant', 'content': '基于'}}]}\n",
      "{'id': '8561160235369207043', 'created': 1712930947, 'model': 'glm-4', 'choices': [{'index': 0, 'delta': {'role': 'assistant', 'content': ' Transformer'}}]}\n",
      "{'id': '8561160235369207043', 'created': 1712930947, 'model': 'glm-4', 'choices': [{'index': 0, 'delta': {'role': 'assistant', 'content': ' 的'}}]}\n",
      "{'id': '8561160235369207043', 'created': 1712930947, 'model': 'glm-4', 'choices': [{'index': 0, 'delta': {'role': 'assistant', 'content': '通用'}}]}\n",
      "{'id': '8561160235369207043', 'created': 1712930947, 'model': 'glm-4', 'choices': [{'index': 0, 'delta': {'role': 'assistant', 'content': '预'}}]}\n",
      "{'id': '8561160235369207043', 'created': 1712930947, 'model': 'glm-4', 'choices': [{'index': 0, 'delta': {'role': 'assistant', 'content': '训练'}}]}\n",
      "{'id': '8561160235369207043', 'created': 1712930947, 'model': 'glm-4', 'choices': [{'index': 0, 'delta': {'role': 'assistant', 'content': '语言'}}]}\n",
      "{'id': '8561160235369207043', 'created': 1712930947, 'model': 'glm-4', 'choices': [{'index': 0, 'delta': {'role': 'assistant', 'content': '模型'}}]}\n",
      "{'id': '8561160235369207043', 'created': 1712930947, 'model': 'glm-4', 'choices': [{'index': 0, 'delta': {'role': 'assistant', 'content': '。'}}]}\n",
      "{'id': '8561160235369207043', 'created': 1712930947, 'model': 'glm-4', 'choices': [{'index': 0, 'delta': {'role': 'assistant', 'content': 'Transformer'}}]}\n",
      "{'id': '8561160235369207043', 'created': 1712930947, 'model': 'glm-4', 'choices': [{'index': 0, 'delta': {'role': 'assistant', 'content': ' 模'}}]}\n",
      "{'id': '8561160235369207043', 'created': 1712930947, 'model': 'glm-4', 'choices': [{'index': 0, 'delta': {'role': 'assistant', 'content': '型'}}]}\n",
      "{'id': '8561160235369207043', 'created': 1712930947, 'model': 'glm-4', 'choices': [{'index': 0, 'delta': {'role': 'assistant', 'content': '是一种'}}]}\n",
      "{'id': '8561160235369207043', 'created': 1712930947, 'model': 'glm-4', 'choices': [{'index': 0, 'delta': {'role': 'assistant', 'content': '基于'}}]}\n",
      "{'id': '8561160235369207043', 'created': 1712930947, 'model': 'glm-4', 'choices': [{'index': 0, 'delta': {'role': 'assistant', 'content': '自'}}]}\n",
      "{'id': '8561160235369207043', 'created': 1712930947, 'model': 'glm-4', 'choices': [{'index': 0, 'delta': {'role': 'assistant', 'content': '注意力'}}]}\n",
      "{'id': '8561160235369207043', 'created': 1712930947, 'model': 'glm-4', 'choices': [{'index': 0, 'delta': {'role': 'assistant', 'content': '机制的'}}]}\n",
      "{'id': '8561160235369207043', 'created': 1712930947, 'model': 'glm-4', 'choices': [{'index': 0, 'delta': {'role': 'assistant', 'content': '深度'}}]}\n",
      "{'id': '8561160235369207043', 'created': 1712930947, 'model': 'glm-4', 'choices': [{'index': 0, 'delta': {'role': 'assistant', 'content': '神经网络'}}]}\n",
      "{'id': '8561160235369207043', 'created': 1712930947, 'model': 'glm-4', 'choices': [{'index': 0, 'delta': {'role': 'assistant', 'content': '模型'}}]}\n",
      "{'id': '8561160235369207043', 'created': 1712930947, 'model': 'glm-4', 'choices': [{'index': 0, 'delta': {'role': 'assistant', 'content': '，'}}]}\n",
      "{'id': '8561160235369207043', 'created': 1712930947, 'model': 'glm-4', 'choices': [{'index': 0, 'delta': {'role': 'assistant', 'content': '经常'}}]}\n",
      "{'id': '8561160235369207043', 'created': 1712930947, 'model': 'glm-4', 'choices': [{'index': 0, 'delta': {'role': 'assistant', 'content': '用于'}}]}\n",
      "{'id': '8561160235369207043', 'created': 1712930947, 'model': 'glm-4', 'choices': [{'index': 0, 'delta': {'role': 'assistant', 'content': '处理'}}]}\n",
      "{'id': '8561160235369207043', 'created': 1712930947, 'model': 'glm-4', 'choices': [{'index': 0, 'delta': {'role': 'assistant', 'content': '序列'}}]}\n",
      "{'id': '8561160235369207043', 'created': 1712930947, 'model': 'glm-4', 'choices': [{'index': 0, 'delta': {'role': 'assistant', 'content': '数据'}}]}\n",
      "{'id': '8561160235369207043', 'created': 1712930947, 'model': 'glm-4', 'choices': [{'index': 0, 'delta': {'role': 'assistant', 'content': '。\\n\\n我'}}]}\n",
      "{'id': '8561160235369207043', 'created': 1712930947, 'model': 'glm-4', 'choices': [{'index': 0, 'delta': {'role': 'assistant', 'content': '可能'}}]}\n",
      "{'id': '8561160235369207043', 'created': 1712930947, 'model': 'glm-4', 'choices': [{'index': 0, 'delta': {'role': 'assistant', 'content': '用到'}}]}\n",
      "{'id': '8561160235369207043', 'created': 1712930947, 'model': 'glm-4', 'choices': [{'index': 0, 'delta': {'role': 'assistant', 'content': '最大的'}}]}\n",
      "{'id': '8561160235369207043', 'created': 1712930947, 'model': 'glm-4', 'choices': [{'index': 0, 'delta': {'role': 'assistant', 'content': '模型'}}]}\n",
      "{'id': '8561160235369207043', 'created': 1712930947, 'model': 'glm-4', 'choices': [{'index': 0, 'delta': {'role': 'assistant', 'content': '是'}}]}\n",
      "{'id': '8561160235369207043', 'created': 1712930947, 'model': 'glm-4', 'choices': [{'index': 0, 'delta': {'role': 'assistant', 'content': ' GL'}}]}\n",
      "{'id': '8561160235369207043', 'created': 1712930947, 'model': 'glm-4', 'choices': [{'index': 0, 'delta': {'role': 'assistant', 'content': 'M'}}]}\n",
      "{'id': '8561160235369207043', 'created': 1712930947, 'model': 'glm-4', 'choices': [{'index': 0, 'delta': {'role': 'assistant', 'content': '-'}}]}\n",
      "{'id': '8561160235369207043', 'created': 1712930947, 'model': 'glm-4', 'choices': [{'index': 0, 'delta': {'role': 'assistant', 'content': '130'}}]}\n",
      "{'id': '8561160235369207043', 'created': 1712930947, 'model': 'glm-4', 'choices': [{'index': 0, 'delta': {'role': 'assistant', 'content': 'B'}}]}\n",
      "{'id': '8561160235369207043', 'created': 1712930947, 'model': 'glm-4', 'choices': [{'index': 0, 'delta': {'role': 'assistant', 'content': '，'}}]}\n",
      "{'id': '8561160235369207043', 'created': 1712930947, 'model': 'glm-4', 'choices': [{'index': 0, 'delta': {'role': 'assistant', 'content': '具有'}}]}\n",
      "{'id': '8561160235369207043', 'created': 1712930947, 'model': 'glm-4', 'choices': [{'index': 0, 'delta': {'role': 'assistant', 'content': ' '}}]}\n",
      "{'id': '8561160235369207043', 'created': 1712930947, 'model': 'glm-4', 'choices': [{'index': 0, 'delta': {'role': 'assistant', 'content': '130'}}]}\n",
      "{'id': '8561160235369207043', 'created': 1712930947, 'model': 'glm-4', 'choices': [{'index': 0, 'delta': {'role': 'assistant', 'content': '0'}}]}\n",
      "{'id': '8561160235369207043', 'created': 1712930947, 'model': 'glm-4', 'choices': [{'index': 0, 'delta': {'role': 'assistant', 'content': ' 亿'}}]}\n",
      "{'id': '8561160235369207043', 'created': 1712930947, 'model': 'glm-4', 'choices': [{'index': 0, 'delta': {'role': 'assistant', 'content': '参数'}}]}\n",
      "{'id': '8561160235369207043', 'created': 1712930947, 'model': 'glm-4', 'choices': [{'index': 0, 'delta': {'role': 'assistant', 'content': '，'}}]}\n",
      "{'id': '8561160235369207043', 'created': 1712930947, 'model': 'glm-4', 'choices': [{'index': 0, 'delta': {'role': 'assistant', 'content': '支持'}}]}\n",
      "{'id': '8561160235369207043', 'created': 1712930947, 'model': 'glm-4', 'choices': [{'index': 0, 'delta': {'role': 'assistant', 'content': '中'}}]}\n",
      "{'id': '8561160235369207043', 'created': 1712930947, 'model': 'glm-4', 'choices': [{'index': 0, 'delta': {'role': 'assistant', 'content': '英'}}]}\n",
      "{'id': '8561160235369207043', 'created': 1712930947, 'model': 'glm-4', 'choices': [{'index': 0, 'delta': {'role': 'assistant', 'content': '双语'}}]}\n",
      "{'id': '8561160235369207043', 'created': 1712930947, 'model': 'glm-4', 'choices': [{'index': 0, 'delta': {'role': 'assistant', 'content': '。'}}]}\n",
      "{'id': '8561160235369207043', 'created': 1712930947, 'model': 'glm-4', 'choices': [{'index': 0, 'delta': {'role': 'assistant', 'content': '我'}}]}\n",
      "{'id': '8561160235369207043', 'created': 1712930947, 'model': 'glm-4', 'choices': [{'index': 0, 'delta': {'role': 'assistant', 'content': '具体'}}]}\n",
      "{'id': '8561160235369207043', 'created': 1712930947, 'model': 'glm-4', 'choices': [{'index': 0, 'delta': {'role': 'assistant', 'content': '使用的'}}]}\n",
      "{'id': '8561160235369207043', 'created': 1712930947, 'model': 'glm-4', 'choices': [{'index': 0, 'delta': {'role': 'assistant', 'content': '模型'}}]}\n",
      "{'id': '8561160235369207043', 'created': 1712930947, 'model': 'glm-4', 'choices': [{'index': 0, 'delta': {'role': 'assistant', 'content': '规模'}}]}\n",
      "{'id': '8561160235369207043', 'created': 1712930947, 'model': 'glm-4', 'choices': [{'index': 0, 'delta': {'role': 'assistant', 'content': '视'}}]}\n",
      "{'id': '8561160235369207043', 'created': 1712930947, 'model': 'glm-4', 'choices': [{'index': 0, 'delta': {'role': 'assistant', 'content': '应用'}}]}\n",
      "{'id': '8561160235369207043', 'created': 1712930947, 'model': 'glm-4', 'choices': [{'index': 0, 'delta': {'role': 'assistant', 'content': '场景'}}]}\n",
      "{'id': '8561160235369207043', 'created': 1712930947, 'model': 'glm-4', 'choices': [{'index': 0, 'delta': {'role': 'assistant', 'content': '可能会有'}}]}\n",
      "{'id': '8561160235369207043', 'created': 1712930947, 'model': 'glm-4', 'choices': [{'index': 0, 'delta': {'role': 'assistant', 'content': '所'}}]}\n",
      "{'id': '8561160235369207043', 'created': 1712930947, 'model': 'glm-4', 'choices': [{'index': 0, 'delta': {'role': 'assistant', 'content': '变化'}}]}\n",
      "{'id': '8561160235369207043', 'created': 1712930947, 'model': 'glm-4', 'choices': [{'index': 0, 'delta': {'role': 'assistant', 'content': '。'}}]}\n",
      "{'id': '8561160235369207043', 'created': 1712930947, 'model': 'glm-4', 'choices': [{'index': 0, 'finish_reason': 'stop', 'delta': {'role': 'assistant', 'content': ''}}], 'usage': {'prompt_tokens': 9, 'completion_tokens': 91, 'total_tokens': 100}}\n"
     ]
    }
   ],
   "source": [
    "for s in llm._ask_remote_sse([{\"role\": \"user\", \"content\": \"你是什么模型？\"}]):\n",
    "  print(s)"
   ]
  },
  {
   "cell_type": "code",
   "execution_count": 8,
   "metadata": {},
   "outputs": [
    {
     "name": "stdout",
     "output_type": "stream",
     "text": [
      "content='我是一个' id='8563374651788638485'\n",
      "content='基于' id='8563374651788638485'\n",
      "content='语言' id='8563374651788638485'\n",
      "content='的人工' id='8563374651788638485'\n",
      "content='智能' id='8563374651788638485'\n",
      "content='模型' id='8563374651788638485'\n",
      "content='，' id='8563374651788638485'\n",
      "content='名为' id='8563374651788638485'\n",
      "content=' Chat' id='8563374651788638485'\n",
      "content='GL' id='8563374651788638485'\n",
      "content='M' id='8563374651788638485'\n",
      "content='，' id='8563374651788638485'\n",
      "content='现在' id='8563374651788638485'\n",
      "content='又名' id='8563374651788638485'\n",
      "content='智' id='8563374651788638485'\n",
      "content='谱' id='8563374651788638485'\n",
      "content='清' id='8563374651788638485'\n",
      "content='言' id='8563374651788638485'\n",
      "content='。' id='8563374651788638485'\n",
      "content='我是' id='8563374651788638485'\n",
      "content='由' id='8563374651788638485'\n",
      "content='清华大学' id='8563374651788638485'\n",
      "content=' K' id='8563374651788638485'\n",
      "content='EG' id='8563374651788638485'\n",
      "content=' 实' id='8563374651788638485'\n",
      "content='验' id='8563374651788638485'\n",
      "content='室' id='8563374651788638485'\n",
      "content='和' id='8563374651788638485'\n",
      "content='智' id='8563374651788638485'\n",
      "content='谱' id='8563374651788638485'\n",
      "content=' AI' id='8563374651788638485'\n",
      "content=' 公司' id='8563374651788638485'\n",
      "content='于' id='8563374651788638485'\n",
      "content=' ' id='8563374651788638485'\n",
      "content='202' id='8563374651788638485'\n",
      "content='3' id='8563374651788638485'\n",
      "content=' 年' id='8563374651788638485'\n",
      "content='共同' id='8563374651788638485'\n",
      "content='训练' id='8563374651788638485'\n",
      "content='的语言' id='8563374651788638485'\n",
      "content='模型' id='8563374651788638485'\n",
      "content=' GL' id='8563374651788638485'\n",
      "content='M' id='8563374651788638485'\n",
      "content='-' id='8563374651788638485'\n",
      "content='130' id='8563374651788638485'\n",
      "content='B' id='8563374651788638485'\n",
      "content=' 开' id='8563374651788638485'\n",
      "content='发的' id='8563374651788638485'\n",
      "content='，' id='8563374651788638485'\n",
      "content='我的' id='8563374651788638485'\n",
      "content='任务是' id='8563374651788638485'\n",
      "content='针对' id='8563374651788638485'\n",
      "content='用户' id='8563374651788638485'\n",
      "content='的问题' id='8563374651788638485'\n",
      "content='和要求' id='8563374651788638485'\n",
      "content='提供' id='8563374651788638485'\n",
      "content='适当的' id='8563374651788638485'\n",
      "content='答复' id='8563374651788638485'\n",
      "content='和支持' id='8563374651788638485'\n",
      "content='。' id='8563374651788638485'\n",
      "content='' id='8563374651788638485'\n"
     ]
    }
   ],
   "source": [
    "for s in llm.stream([{\"role\": \"user\", \"content\": \"你是什么模型？\"}]):\n",
    "  print(s)"
   ]
  },
  {
   "cell_type": "code",
   "execution_count": null,
   "metadata": {},
   "outputs": [],
   "source": [
    "async for s in llm.astream([{\"role\": \"user\", \"content\": \"你是什么模型？\"}]):\n",
    "  print(s)"
   ]
  },
  {
   "cell_type": "markdown",
   "metadata": {},
   "source": [
    "## batch"
   ]
  },
  {
   "cell_type": "code",
   "execution_count": null,
   "metadata": {},
   "outputs": [],
   "source": [
    "llm.batch([\n",
    "    \"你是什么模型？\",\n",
    "    \"你是什么模型？\",\n",
    "    \"你是什么模型？\",\n",
    "    \"你是什么模型？\",\n",
    "    \"你是什么模型？\",\n",
    "    \"你是什么模型？\",\n",
    "    \"你是什么模型？\",\n",
    "    \"你是什么模型？\",\n",
    "    \"你是什么模型？\",\n",
    "    \"你是什么模型？\",\n",
    "    \"你是什么模型？\",\n",
    "    \"你是什么模型？\",\n",
    "    \"你是什么模型？\",\n",
    "    \"你是什么模型？\"\n",
    "])"
   ]
  },
  {
   "cell_type": "markdown",
   "metadata": {},
   "source": [
    "# Tools-Calling"
   ]
  },
  {
   "cell_type": "markdown",
   "metadata": {},
   "source": [
    "## function"
   ]
  },
  {
   "cell_type": "code",
   "execution_count": null,
   "metadata": {},
   "outputs": [],
   "source": [
    "from langchain_core.utils.function_calling import convert_to_openai_tool\n",
    "from langchain.tools import tool\n",
    "\n",
    "@tool\n",
    "def search(query: str) -> str:\n",
    "    \"\"\"查询 langchan 资料; args: query 类型为字符串，描述用户的问题.\"\"\"\n",
    "    return \"langchain_chinese 是一个为中国大模型优化的langchain模块\"\n",
    "\n",
    "llm.bind(tools=[convert_to_openai_tool(search)]).invoke(\"langchain_chinese是啥？请查询本地资料回答。\")\n"
   ]
  },
  {
   "cell_type": "markdown",
   "metadata": {},
   "source": [
    "## web_search"
   ]
  },
  {
   "cell_type": "code",
   "execution_count": null,
   "metadata": {},
   "outputs": [],
   "source": [
    "from langchain_zhipu import convert_to_web_search_tool\n",
    "llm.bind(tools=[convert_to_web_search_tool(search_query=\"周星驰电影\")]).invoke(\"哪部电影好看？\")"
   ]
  },
  {
   "cell_type": "markdown",
   "metadata": {},
   "source": [
    "## retrieval"
   ]
  },
  {
   "cell_type": "code",
   "execution_count": null,
   "metadata": {},
   "outputs": [],
   "source": [
    "from langchain_zhipu import convert_to_retrieval_tool\n",
    "llm.bind(tools=[convert_to_retrieval_tool(knowledge_id=\"1772979648448397312\")]).invoke(\"你知道马冬梅住哪里吗？\")"
   ]
  },
  {
   "cell_type": "code",
   "execution_count": null,
   "metadata": {},
   "outputs": [],
   "source": [
    "llm.bind(tools=[convert_to_openai_tool(search)])"
   ]
  },
  {
   "cell_type": "markdown",
   "metadata": {},
   "source": [
    "# 使用官方接口"
   ]
  },
  {
   "cell_type": "code",
   "execution_count": null,
   "metadata": {},
   "outputs": [],
   "source": [
    "from langchain_zhipu import ZhipuAI\n",
    "\n",
    "client = ZhipuAI()\n",
    "\n",
    "tools = [\n",
    "        {\n",
    "            \"type\": \"function\",\n",
    "            \"function\": {\n",
    "                \"name\": \"search\",\n",
    "                \"description\": \"search(query: str) -> str - 查询 langchan 资料; args: query 类型为字符串，描述用户的问题.'\",\n",
    "                \"parameters\": {\n",
    "                    \"type\": \"object\",\n",
    "                    \"properties\": {\n",
    "                        \"query\": {\n",
    "                            \"type\": \"string\"\n",
    "                        },\n",
    "                    },\n",
    "                    \"required\": [\"query\"]\n",
    "                }\n",
    "            }\n",
    "        }\n",
    "    ]"
   ]
  },
  {
   "cell_type": "code",
   "execution_count": null,
   "metadata": {},
   "outputs": [],
   "source": [
    "client.chat.completions.create(\n",
    "    model=\"glm-4\",\n",
    "    messages = [\n",
    "        {\n",
    "            \"role\": \"user\",\n",
    "            \"content\": \"langchain是什么？请帮我查询\"\n",
    "        }\n",
    "    ],\n",
    "    tools = tools,\n",
    "    tool_choice=\"auto\",\n",
    ")"
   ]
  },
  {
   "cell_type": "code",
   "execution_count": null,
   "metadata": {},
   "outputs": [],
   "source": [
    "client.chat.completions.create(\n",
    "    model=\"glm-4\",\n",
    "    messages = [\n",
    "        {\n",
    "            \"role\": \"user\",\n",
    "            \"content\": \"langchain是什么？\"\n",
    "        }\n",
    "    ],\n",
    "    tools = tools,\n",
    "    tool_choice=\"auto\",\n",
    ")"
   ]
  },
  {
   "cell_type": "markdown",
   "metadata": {},
   "source": [
    "# 智能体"
   ]
  },
  {
   "cell_type": "code",
   "execution_count": null,
   "metadata": {},
   "outputs": [],
   "source": [
    "!pip install langchainhub"
   ]
  },
  {
   "cell_type": "code",
   "execution_count": null,
   "metadata": {},
   "outputs": [],
   "source": [
    "from langchain.agents import AgentExecutor, Tool, create_openai_tools_agent\n",
    "from langchain import hub\n",
    "\n",
    "tools = [search]\n",
    "prompt = hub.pull(\"hwchase17/openai-tools-agent\")\n",
    "agent = create_openai_tools_agent(llm, tools, prompt)\n",
    "agent_executor = AgentExecutor(agent=agent, tools=tools, verbose=True)\n",
    "\n",
    "for chunk in agent_executor.stream({\"input\": \"langchain_chinese是什么？\"}):\n",
    "    print(chunk)\n"
   ]
  },
  {
   "cell_type": "code",
   "execution_count": null,
   "metadata": {},
   "outputs": [],
   "source": [
    "prompt"
   ]
  },
  {
   "cell_type": "markdown",
   "metadata": {},
   "source": [
    "# GLM-4V"
   ]
  },
  {
   "cell_type": "code",
   "execution_count": null,
   "metadata": {},
   "outputs": [],
   "source": [
    "from langchain_zhipu import ChatZhipuAI\n",
    "from langchain_core.prompts import ChatPromptTemplate\n",
    "\n",
    "llm4v = ChatZhipuAI(model=\"glm-4v\")\n",
    "\n",
    "prompt = ChatPromptTemplate.from_messages([\n",
    "    (\"human\", [\n",
    "          {\n",
    "            \"type\": \"text\",\n",
    "            \"text\": \"图里有什么\"\n",
    "          },\n",
    "          {\n",
    "            \"type\": \"image_url\",\n",
    "            \"image_url\": {\n",
    "                \"url\" : \"https://img1.baidu.com/it/u=1369931113,3388870256&fm=253&app=138&size=w931&n=0&f=JPEG&fmt=auto?sec=1703696400&t=f3028c7a1dca43a080aeb8239f09cc2f\"\n",
    "            }\n",
    "          }\n",
    "        ]),\n",
    "])\n",
    "\n",
    "(prompt|llm4v).invoke({})"
   ]
  },
  {
   "cell_type": "markdown",
   "metadata": {},
   "source": [
    "# get_token_ids"
   ]
  },
  {
   "cell_type": "code",
   "execution_count": null,
   "metadata": {},
   "outputs": [],
   "source": [
    "from langchain_zhipu import ChatZhipuAI\n",
    "\n",
    "llm = ChatZhipuAI(allowed_special=set())\n",
    "llm.get_token_ids('<|user|>')"
   ]
  },
  {
   "cell_type": "code",
   "execution_count": null,
   "metadata": {},
   "outputs": [],
   "source": [
    "llm.get_num_tokens(text=\"你好\")"
   ]
  },
  {
   "cell_type": "code",
   "execution_count": null,
   "metadata": {},
   "outputs": [],
   "source": []
  }
 ],
 "metadata": {
  "kernelspec": {
   "display_name": "langchain-zhipu-Ddey8KS3-py3.9",
   "language": "python",
   "name": "python3"
  },
  "language_info": {
   "codemirror_mode": {
    "name": "ipython",
    "version": 3
   },
   "file_extension": ".py",
   "mimetype": "text/x-python",
   "name": "python",
   "nbconvert_exporter": "python",
   "pygments_lexer": "ipython3",
   "version": "3.9.18"
  }
 },
 "nbformat": 4,
 "nbformat_minor": 2
}

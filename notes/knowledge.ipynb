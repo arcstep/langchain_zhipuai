{
 "cells": [
  {
   "cell_type": "code",
   "execution_count": 1,
   "metadata": {},
   "outputs": [
    {
     "name": "stdout",
     "output_type": "stream",
     "text": [
      "/Users/xuehongwei/github/langchain_zhipuai\n"
     ]
    }
   ],
   "source": [
    "from dotenv import load_dotenv, find_dotenv\n",
    "load_dotenv(find_dotenv(), override=True)\n",
    "import os\n",
    "os.chdir('..')\n",
    "print(os.getcwd())"
   ]
  },
  {
   "cell_type": "markdown",
   "metadata": {},
   "source": [
    "# 官方API调用"
   ]
  },
  {
   "cell_type": "markdown",
   "metadata": {},
   "source": [
    "## 鉴权 Token"
   ]
  },
  {
   "cell_type": "code",
   "execution_count": 8,
   "metadata": {},
   "outputs": [],
   "source": [
    "import time\n",
    "import jwt\n",
    "import os\n",
    "\n",
    "def generate_token(apikey: str = None, exp_seconds: int = 10):\n",
    "    if apikey is None:\n",
    "\t    apikey = os.environ.get('ZHIPUAI_API_KEY') \n",
    "    \n",
    "    try:\n",
    "        id, secret = apikey.split(\".\")\n",
    "    except Exception as e:\n",
    "        raise Exception(\"invalid apikey\", e)\n",
    "\n",
    "    payload = {\n",
    "        \"api_key\": id,\n",
    "        \"exp\": int(round(time.time() * 1000)) + exp_seconds * 1000,\n",
    "        \"timestamp\": int(round(time.time() * 1000)),\n",
    "    }\n",
    "\n",
    "    return jwt.encode(\n",
    "        payload,\n",
    "        secret,\n",
    "        algorithm=\"HS256\",\n",
    "        headers={\"alg\": \"HS256\", \"sign_type\": \"SIGN\"},\n",
    "    )"
   ]
  },
  {
   "cell_type": "code",
   "execution_count": 9,
   "metadata": {},
   "outputs": [
    {
     "name": "stdout",
     "output_type": "stream",
     "text": [
      "{\"choices\":[{\"finish_reason\":\"stop\",\"index\":0,\"message\":{\"content\":\"你好👋！我是人工智能助手智谱清言，可以叫我小智🤖，很高兴见到你，欢迎问我任何问题。\",\"role\":\"assistant\"}}],\"created\":1712324802,\"id\":\"8537105635369603493\",\"model\":\"glm-4\",\"request_id\":\"8537105635369603493\",\"usage\":{\"completion_tokens\":32,\"prompt_tokens\":6,\"total_tokens\":38}}\n"
     ]
    }
   ],
   "source": [
    "import requests\n",
    "import json\n",
    "\n",
    "url = 'https://open.bigmodel.cn/api/paas/v4/chat/completions'\n",
    "headers = {\n",
    "\t'Authorization': f'Bearer {generate_token()}',\n",
    "\t'Content-Type': 'application/json',\n",
    "}\n",
    "data = {\n",
    "\t\"model\": \"glm-4\",\n",
    "\t\"messages\": [\n",
    "\t\t{\n",
    "\t\t\t\"role\": \"user\",\n",
    "\t\t\t\"content\": \"你好\"\n",
    "\t\t}\n",
    "\t]\n",
    "}\n",
    "\n",
    "response = requests.post(url, headers=headers, data=json.dumps(data))\n",
    "\n",
    "print(response.text)\n"
   ]
  },
  {
   "cell_type": "code",
   "execution_count": 10,
   "metadata": {},
   "outputs": [
    {
     "name": "stdout",
     "output_type": "stream",
     "text": [
      "{\"data\":{\"list\":[{\"name\":\"政务行业模型\",\"description\":\"zhipu_embedding_v2\",\"id\":7},{\"name\":\"通用模型v2\",\"description\":\"通用模型v2\",\"id\":3},{\"name\":\"通用模型\",\"description\":\"通用模型\",\"id\":1}],\"total\":3},\"code\":200,\"message\":\"请求成功\",\"timestamp\":1712324813600}\n"
     ]
    }
   ],
   "source": [
    "import requests\n",
    "import json\n",
    "\n",
    "url = 'https://open.bigmodel.cn/api/llm-application/open/embedding'\n",
    "headers = {\n",
    "\t'Authorization': f'Bearer {generate_token()}',\n",
    "\t'Content-Type': 'application/json',\n",
    "}\n",
    "\n",
    "response = requests.get(url, headers=headers)\n",
    "\n",
    "print(response.text)\n"
   ]
  },
  {
   "cell_type": "code",
   "execution_count": 4,
   "metadata": {},
   "outputs": [],
   "source": [
    "base_url = \"https://open.bigmodel.cn/api/llm-application/open\"\n",
    "verify_url = \"https://open.bigmodel.cn/api#nosdk\""
   ]
  },
  {
   "cell_type": "code",
   "execution_count": null,
   "metadata": {},
   "outputs": [],
   "source": [
    "import requests\n",
    "\n",
    "data = {'key1': 'value1', 'key2': 'value2'}\n",
    "response = requests.post('http://httpbin.org/post', data=data)\n",
    "\n",
    "print(response.text)"
   ]
  },
  {
   "cell_type": "code",
   "execution_count": null,
   "metadata": {},
   "outputs": [],
   "source": [
    "import requests\n",
    "\n",
    "response = requests.get('http://httpbin.org/get')\n",
    "\n",
    "print(response.text)"
   ]
  },
  {
   "cell_type": "markdown",
   "metadata": {},
   "source": [
    "# ZhipuAIKnowledge"
   ]
  },
  {
   "cell_type": "code",
   "execution_count": 2,
   "metadata": {},
   "outputs": [],
   "source": [
    "from langchain_zhipu import ZhipuAIKnowledge"
   ]
  },
  {
   "cell_type": "code",
   "execution_count": 3,
   "metadata": {},
   "outputs": [],
   "source": [
    "zhipuK = ZhipuAIKnowledge()"
   ]
  },
  {
   "cell_type": "code",
   "execution_count": 5,
   "metadata": {},
   "outputs": [
    {
     "name": "stdout",
     "output_type": "stream",
     "text": [
      "<langchain_zhipu.http.RestAPI object at 0x10af09e80>\n"
     ]
    },
    {
     "data": {
      "text/plain": [
       "{'data': {'list': [{'name': '政务行业模型',\n",
       "    'description': 'zhipu_embedding_v2',\n",
       "    'id': 7},\n",
       "   {'name': '通用模型v2', 'description': '通用模型v2', 'id': 3},\n",
       "   {'name': '通用模型', 'description': '通用模型', 'id': 1}],\n",
       "  'total': 3},\n",
       " 'code': 200,\n",
       " 'message': '请求成功',\n",
       " 'timestamp': 1712325079912}"
      ]
     },
     "execution_count": 5,
     "metadata": {},
     "output_type": "execute_result"
    }
   ],
   "source": [
    "zhipuK.list_models()"
   ]
  },
  {
   "cell_type": "code",
   "execution_count": 7,
   "metadata": {},
   "outputs": [
    {
     "data": {
      "text/plain": [
       "{'data': {'list': [{'name': '政务行业模型',\n",
       "    'description': 'zhipu_embedding_v2',\n",
       "    'id': 7},\n",
       "   {'name': '通用模型v2', 'description': '通用模型v2', 'id': 3},\n",
       "   {'name': '通用模型', 'description': '通用模型', 'id': 1}],\n",
       "  'total': 3},\n",
       " 'code': 200,\n",
       " 'message': '请求成功',\n",
       " 'timestamp': 1712324943711}"
      ]
     },
     "execution_count": 7,
     "metadata": {},
     "output_type": "execute_result"
    }
   ],
   "source": [
    "import json\n",
    "json.loads(resp.text)"
   ]
  },
  {
   "cell_type": "code",
   "execution_count": null,
   "metadata": {},
   "outputs": [],
   "source": []
  }
 ],
 "metadata": {
  "kernelspec": {
   "display_name": "langchain-zhipu-Ddey8KS3-py3.9",
   "language": "python",
   "name": "python3"
  },
  "language_info": {
   "codemirror_mode": {
    "name": "ipython",
    "version": 3
   },
   "file_extension": ".py",
   "mimetype": "text/x-python",
   "name": "python",
   "nbconvert_exporter": "python",
   "pygments_lexer": "ipython3",
   "version": "3.9.18"
  }
 },
 "nbformat": 4,
 "nbformat_minor": 2
}

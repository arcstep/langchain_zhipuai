{
 "cells": [
  {
   "cell_type": "code",
   "execution_count": 3,
   "metadata": {},
   "outputs": [
    {
     "name": "stdout",
     "output_type": "stream",
     "text": [
      "/Users/xuehongwei/github\n"
     ]
    }
   ],
   "source": [
    "from dotenv import load_dotenv, find_dotenv\n",
    "load_dotenv(find_dotenv(), override=True)\n",
    "import os\n",
    "os.chdir('..')\n",
    "print(os.getcwd())"
   ]
  },
  {
   "cell_type": "markdown",
   "metadata": {},
   "source": [
    "# ZhipuAIKnowledge"
   ]
  },
  {
   "cell_type": "code",
   "execution_count": 4,
   "metadata": {},
   "outputs": [],
   "source": [
    "from langchain_zhipu import KnowledgeManagerZhipuAI"
   ]
  },
  {
   "cell_type": "markdown",
   "metadata": {},
   "source": [
    "## 定义知识库访问实例"
   ]
  },
  {
   "cell_type": "code",
   "execution_count": 6,
   "metadata": {},
   "outputs": [],
   "source": [
    "zhipuK = KnowledgeManagerZhipuAI()"
   ]
  },
  {
   "cell_type": "code",
   "execution_count": null,
   "metadata": {},
   "outputs": [],
   "source": [
    "help(zhipuK)"
   ]
  },
  {
   "cell_type": "markdown",
   "metadata": {},
   "source": [
    "## 列举可用的模型"
   ]
  },
  {
   "cell_type": "code",
   "execution_count": 4,
   "metadata": {},
   "outputs": [
    {
     "data": {
      "text/plain": [
       "{'data': {'list': [{'name': '政务行业模型',\n",
       "    'description': 'zhipu_embedding_v2',\n",
       "    'id': 7},\n",
       "   {'name': '通用模型v2', 'description': '通用模型v2', 'id': 3},\n",
       "   {'name': '通用模型', 'description': '通用模型', 'id': 1}],\n",
       "  'total': 3},\n",
       " 'code': 200,\n",
       " 'message': '请求成功',\n",
       " 'timestamp': 1712630190594}"
      ]
     },
     "execution_count": 4,
     "metadata": {},
     "output_type": "execute_result"
    }
   ],
   "source": [
    "zhipuK.models_list()"
   ]
  },
  {
   "cell_type": "markdown",
   "metadata": {},
   "source": [
    "## 知识库管理"
   ]
  },
  {
   "cell_type": "markdown",
   "metadata": {},
   "source": [
    "### 创建库"
   ]
  },
  {
   "cell_type": "code",
   "execution_count": 5,
   "metadata": {},
   "outputs": [
    {
     "data": {
      "text/plain": [
       "{'data': {'id': '1777526106900078592'},\n",
       " 'code': 200,\n",
       " 'message': '请求成功',\n",
       " 'timestamp': 1712630223575}"
      ]
     },
     "execution_count": 5,
     "metadata": {},
     "output_type": "execute_result"
    }
   ],
   "source": [
    "# 创建\n",
    "zhipuK.knowledge_create(\n",
    "\tembedding_id=3,\n",
    "\tname=\"新媒体直播监测3\",\n",
    "\tdescription=\"鸿蒙的新媒体和AI产品\",\n",
    ")\n",
    "\n",
    "# 直播： {'id': '1776264541529886720'}\n",
    "# 消防： {'id': '1776254097436106752'}"
   ]
  },
  {
   "cell_type": "markdown",
   "metadata": {},
   "source": [
    "### 更新库"
   ]
  },
  {
   "cell_type": "code",
   "execution_count": 6,
   "metadata": {},
   "outputs": [
    {
     "data": {
      "text/plain": [
       "{'code': 200, 'message': '请求成功', 'timestamp': 1712630229554}"
      ]
     },
     "execution_count": 6,
     "metadata": {},
     "output_type": "execute_result"
    }
   ],
   "source": [
    "# 修改\n",
    "zhipuK.knowledge_update(\n",
    "    \"1776620887655772160\",\n",
    "\tname=\"新媒体AI监测\",\n",
    ")"
   ]
  },
  {
   "cell_type": "markdown",
   "metadata": {},
   "source": [
    "### 知识库用量查询"
   ]
  },
  {
   "cell_type": "code",
   "execution_count": 7,
   "metadata": {},
   "outputs": [
    {
     "data": {
      "text/plain": [
       "{'data': {'used': {'word_num': 35888, 'length': 1786938},\n",
       "  'total': {'word_num': 500000, 'length': 20971520}},\n",
       " 'code': 200,\n",
       " 'message': '请求成功',\n",
       " 'timestamp': 1712630234091}"
      ]
     },
     "execution_count": 7,
     "metadata": {},
     "output_type": "execute_result"
    }
   ],
   "source": [
    "zhipuK.knowledge_capacity()"
   ]
  },
  {
   "cell_type": "markdown",
   "metadata": {},
   "source": [
    "## 知识文档管理"
   ]
  },
  {
   "cell_type": "markdown",
   "metadata": {},
   "source": [
    "### 上传文件作为知识"
   ]
  },
  {
   "cell_type": "code",
   "execution_count": 8,
   "metadata": {},
   "outputs": [
    {
     "data": {
      "text/plain": [
       "{'data': {'successInfos': [{'documentId': '1777526270809280512',\n",
       "    'fileName': '知识库开放api.pdf',\n",
       "    'url': 'https://cdn.bigmodel.cn/knowledge/5CB4D2A702BB42CC8636B2C5E67CF351.pdf'}],\n",
       "  'failedInfos': []},\n",
       " 'code': 200,\n",
       " 'message': '请求成功',\n",
       " 'timestamp': 1712630267466}"
      ]
     },
     "execution_count": 8,
     "metadata": {},
     "output_type": "execute_result"
    }
   ],
   "source": [
    "zhipuK.document_upload_files(\n",
    "\t\"1776620887655772160\",\n",
    "\tfile_paths = [\"notes/知识库开放api.pdf\"]\n",
    ")"
   ]
  },
  {
   "cell_type": "markdown",
   "metadata": {},
   "source": [
    "### 上传URL作为知识"
   ]
  },
  {
   "cell_type": "code",
   "execution_count": 8,
   "metadata": {},
   "outputs": [
    {
     "data": {
      "text/plain": [
       "{'successInfos': [{'documentId': '1776621048264060928',\n",
       "   'url': 'https://gac.upc.edu.cn/2023/1214/c17380a418490/page.htm'}],\n",
       " 'failedInfos': []}"
      ]
     },
     "execution_count": 8,
     "metadata": {},
     "output_type": "execute_result"
    }
   ],
   "source": [
    "zhipuK.document_upload_url(\n",
    "\t\"1776620887655772160\",\n",
    "\turls = [\n",
    "\t\t{\n",
    "\t\t\t\"url\": \"https://gac.upc.edu.cn/2023/1214/c17380a418490/page.htm\",\n",
    "\t\t\t\"knowledge_type\": 1\n",
    "\t\t}\n",
    "\t]\n",
    ")\n",
    "\n",
    "# {'documentId': '1776610331741847552',\n",
    "#   'url': 'https://gac.upc.edu.cn/2023/1214/c17380a418490/page.htm'}"
   ]
  },
  {
   "cell_type": "markdown",
   "metadata": {},
   "source": [
    "### 查阅知识文档"
   ]
  },
  {
   "cell_type": "code",
   "execution_count": 9,
   "metadata": {},
   "outputs": [
    {
     "data": {
      "text/plain": [
       "{'data': {'id': '1776621048264060928',\n",
       "  'name': 'https://gac.upc.edu.cn/2023/1214/c17380a418490/page.htm',\n",
       "  'url': 'https://cdn.bigmodel.cn/knowledge/D9408B7FA0694104BCE2E5A57677C8F3.txt',\n",
       "  'length': 9792,\n",
       "  'sentence_size': 300,\n",
       "  'custom_separator': ['\\n'],\n",
       "  'embedding_stat': 1,\n",
       "  'word_num': 2750,\n",
       "  'parse_image': 0},\n",
       " 'code': 200,\n",
       " 'message': '请求成功',\n",
       " 'timestamp': 1712630283300}"
      ]
     },
     "execution_count": 9,
     "metadata": {},
     "output_type": "execute_result"
    }
   ],
   "source": [
    "zhipuK.document_detail(document_id=\"1776621048264060928\")"
   ]
  },
  {
   "cell_type": "markdown",
   "metadata": {},
   "source": [
    "### 修改知识文档"
   ]
  },
  {
   "cell_type": "code",
   "execution_count": 10,
   "metadata": {},
   "outputs": [
    {
     "data": {
      "text/plain": [
       "{'code': 200, 'message': '请求成功', 'timestamp': 1712630292758}"
      ]
     },
     "execution_count": 10,
     "metadata": {},
     "output_type": "execute_result"
    }
   ],
   "source": [
    "zhipuK.document_update(\n",
    "    document_id=\"1776621048264060928\",\n",
    "    knowledge_type=2\n",
    ")"
   ]
  },
  {
   "cell_type": "markdown",
   "metadata": {},
   "source": [
    "### 移除知识文档"
   ]
  },
  {
   "cell_type": "code",
   "execution_count": 11,
   "metadata": {},
   "outputs": [
    {
     "data": {
      "text/plain": [
       "{'code': 200, 'message': '请求成功', 'timestamp': 1712630311019}"
      ]
     },
     "execution_count": 11,
     "metadata": {},
     "output_type": "execute_result"
    }
   ],
   "source": [
    "zhipuK.document_remove(document_id=\"1777526270809280512\")"
   ]
  },
  {
   "cell_type": "markdown",
   "metadata": {},
   "source": [
    "## 应用管理"
   ]
  },
  {
   "cell_type": "markdown",
   "metadata": {},
   "source": [
    "### 创建应用"
   ]
  },
  {
   "cell_type": "code",
   "execution_count": 12,
   "metadata": {},
   "outputs": [
    {
     "data": {
      "text/plain": [
       "{'data': '1777526511843352576',\n",
       " 'code': 200,\n",
       " 'message': '请求成功',\n",
       " 'timestamp': 1712630319930}"
      ]
     },
     "execution_count": 12,
     "metadata": {},
     "output_type": "execute_result"
    }
   ],
   "source": [
    "zhipuK.application_create(name=\"智谱知识库API\", desc=\"智谱知识库最新API查询\", knowledge_ids=[\"1776620887655772160\"])"
   ]
  },
  {
   "cell_type": "markdown",
   "metadata": {},
   "source": [
    "### 列举所有应用"
   ]
  },
  {
   "cell_type": "code",
   "execution_count": 13,
   "metadata": {},
   "outputs": [
    {
     "data": {
      "text/plain": [
       "{'data': {'total': 2,\n",
       "  'list': [{'id': '1776860166445268992',\n",
       "    'name': '智谱知识库API',\n",
       "    'desc': '智谱知识库最新API查询',\n",
       "    'prompt': '有如下的相关信息：\\n\"\"\"\\n{{知识}}\\n\"\"\"\\n\\n\\n使用上述相关的信息，回答下方问题，你所需要的全部内容都在相关信息中：\\n\"\"\"\\n{{用户}}\\n\"\"\"',\n",
       "    'top_p': '0.7',\n",
       "    'temperature': '0.95',\n",
       "    'knowledge_ids': [1776620887655772160],\n",
       "    'slice_count': 0,\n",
       "    'model': 'chatglm_pro',\n",
       "    'icon_color': 'blue',\n",
       "    'icon_type': 'robot_assist'},\n",
       "   {'id': '1777526511843352576',\n",
       "    'name': '智谱知识库API',\n",
       "    'desc': '智谱知识库最新API查询',\n",
       "    'prompt': '有如下的相关信息：\\n\"\"\"\\n{{知识}}\\n\"\"\"\\n\\n\\n使用上述相关的信息，回答下方问题，你所需要的全部内容都在相关信息中：\\n\"\"\"\\n{{用户}}\\n\"\"\"',\n",
       "    'top_p': '0.7',\n",
       "    'temperature': '0.95',\n",
       "    'knowledge_ids': [1776620887655772160],\n",
       "    'slice_count': 0,\n",
       "    'model': 'chatglm_pro',\n",
       "    'icon_color': 'blue',\n",
       "    'icon_type': 'robot_assist'}]},\n",
       " 'code': 200,\n",
       " 'message': '请求成功',\n",
       " 'timestamp': 1712630324671}"
      ]
     },
     "execution_count": 13,
     "metadata": {},
     "output_type": "execute_result"
    }
   ],
   "source": [
    "zhipuK.application_list()"
   ]
  },
  {
   "cell_type": "markdown",
   "metadata": {},
   "source": [
    "## 调用应用"
   ]
  },
  {
   "cell_type": "markdown",
   "metadata": {},
   "source": [
    "invoke："
   ]
  },
  {
   "cell_type": "code",
   "execution_count": 14,
   "metadata": {},
   "outputs": [
    {
     "ename": "AttributeError",
     "evalue": "'KnowledgeManagerZhipuAI' object has no attribute 'invoke'",
     "output_type": "error",
     "traceback": [
      "\u001b[0;31m---------------------------------------------------------------------------\u001b[0m",
      "\u001b[0;31mAttributeError\u001b[0m                            Traceback (most recent call last)",
      "Cell \u001b[0;32mIn[14], line 1\u001b[0m\n\u001b[0;32m----> 1\u001b[0m \u001b[43mzhipuK\u001b[49m\u001b[38;5;241;43m.\u001b[39;49m\u001b[43minvoke\u001b[49m(\n\u001b[1;32m      2\u001b[0m     application_id\u001b[38;5;241m=\u001b[39m\u001b[38;5;124m\"\u001b[39m\u001b[38;5;124m1776860166445268992\u001b[39m\u001b[38;5;124m\"\u001b[39m,\n\u001b[1;32m      3\u001b[0m     prompt\u001b[38;5;241m=\u001b[39m[{\n\u001b[1;32m      4\u001b[0m         \u001b[38;5;124m\"\u001b[39m\u001b[38;5;124mrole\u001b[39m\u001b[38;5;124m\"\u001b[39m: \u001b[38;5;124m\"\u001b[39m\u001b[38;5;124muser\u001b[39m\u001b[38;5;124m\"\u001b[39m,\n\u001b[1;32m      5\u001b[0m         \u001b[38;5;124m\"\u001b[39m\u001b[38;5;124mcontent\u001b[39m\u001b[38;5;124m\"\u001b[39m: \u001b[38;5;124m\"\u001b[39m\u001b[38;5;124m说出一个知识库的接口地址，一个即可。\u001b[39m\u001b[38;5;124m\"\u001b[39m\n\u001b[1;32m      6\u001b[0m     }]\n\u001b[1;32m      7\u001b[0m )\n",
      "\u001b[0;31mAttributeError\u001b[0m: 'KnowledgeManagerZhipuAI' object has no attribute 'invoke'"
     ]
    }
   ],
   "source": [
    "zhipuK.invoke(\n",
    "    application_id=\"1776860166445268992\",\n",
    "    prompt=[{\n",
    "        \"role\": \"user\",\n",
    "        \"content\": \"说出一个知识库的接口地址，一个即可。\"\n",
    "    }]\n",
    ")"
   ]
  },
  {
   "cell_type": "markdown",
   "metadata": {},
   "source": [
    "实测证明，App应用无法调用tools。"
   ]
  },
  {
   "cell_type": "code",
   "execution_count": 6,
   "metadata": {},
   "outputs": [
    {
     "data": {
      "text/plain": [
       "{'requestId': '1712488898778-180078',\n",
       " 'content': '\" 很抱歉，作为一个AI助手，我无法实时查询火车票信息。建议您使用相关火车票查询平台或者向相关部门咨询以获取准确的信息。\"'}"
      ]
     },
     "execution_count": 6,
     "metadata": {},
     "output_type": "execute_result"
    }
   ],
   "source": [
    "\ttools = [{\n",
    "        \"type\": \"function\",\n",
    "        \"function\": {\n",
    "            \"name\": \"query_train_info\",\n",
    "            \"description\": \"根据用户提供的信息，查询对应的车次\",\n",
    "            \"parameters\": {\n",
    "                \"type\": \"object\",\n",
    "                \"properties\": {\n",
    "                    \"departure\": {\n",
    "                        \"type\": \"string\",\n",
    "                        \"description\": \"出发城市或车站\",\n",
    "                    },\n",
    "                    \"destination\": {\n",
    "                        \"type\": \"string\",\n",
    "                        \"description\": \"目的地城市或车站\",\n",
    "                    },\n",
    "                    \"date\": {\n",
    "                        \"type\": \"string\",\n",
    "                        \"description\": \"要查询的车次日期\",\n",
    "                    },\n",
    "                },\n",
    "                \"required\": [\"departure\", \"destination\", \"date\"],\n",
    "            },\n",
    "        }\n",
    "    }]\n",
    "\n",
    "zhipuK.invoke(\n",
    "    application_id=\"1776860166445268992\",\n",
    "    tools=tools,\n",
    "    prompt=[{\n",
    "        \"role\": \"user\",\n",
    "        \"content\": \"你能帮我查询2024年1月1日从北京南站到上海的火车票吗？\"\n",
    "    }]\n",
    ")"
   ]
  },
  {
   "cell_type": "markdown",
   "metadata": {},
   "source": [
    "SSE调用："
   ]
  },
  {
   "cell_type": "code",
   "execution_count": 11,
   "metadata": {},
   "outputs": [
    {
     "name": "stdout",
     "output_type": "stream",
     "text": [
      "  |1|.|  |创建|知识|库|接口||2|.|  |查询|知识|库|列表|接口||3|.|  |查询|单个|知识|库|接口||4|.|  |修改|知识|库|接口||5|.|  |删除|知识|库|接口||6|.|  上|传|文档|接口||7|.|  |查询|文档|\n",
      "列表|接口||8|.|  |查询|单个|文档|接口||9|.|  |修改|文档|接口||1|0|.|  |删除|文档|接口||1|1|.|  |获取|调用|应用|对话|匹配|的|切片|位置|信息|接口||"
     ]
    }
   ],
   "source": [
    "# 设定最大行长度\n",
    "max_line_length = 80\n",
    "# 初始化当前行长度\n",
    "current_line_length = 0\n",
    "\n",
    "resp = zhipuK.sse_invoke(\n",
    "    application_id=\"1776860166445268992\",\n",
    "    prompt=[{\n",
    "        \"role\": \"user\",\n",
    "        \"content\": \"知识库有哪些接口？只列出接口名称就行，不用返回其他\"\n",
    "    }]\n",
    ")\n",
    "for chunk in resp:\n",
    "    text = chunk[\"choices\"][0][\"delta\"][\"text\"]\n",
    "    text_length = len(text)\n",
    "\n",
    "    # 如果添加这个文本会导致行长度超过最大长度，那么先打印一个换行符\n",
    "    if current_line_length + text_length > max_line_length:\n",
    "        print()\n",
    "        current_line_length = 0\n",
    "\n",
    "    # 打印文本并更新当前行长度\n",
    "    print(text, end=\"|\", flush=True)\n",
    "    current_line_length += text_length"
   ]
  },
  {
   "cell_type": "code",
   "execution_count": null,
   "metadata": {},
   "outputs": [],
   "source": []
  }
 ],
 "metadata": {
  "kernelspec": {
   "display_name": "langchain-zhipu-Ddey8KS3-py3.9",
   "language": "python",
   "name": "python3"
  },
  "language_info": {
   "codemirror_mode": {
    "name": "ipython",
    "version": 3
   },
   "file_extension": ".py",
   "mimetype": "text/x-python",
   "name": "python",
   "nbconvert_exporter": "python",
   "pygments_lexer": "ipython3",
   "version": "3.9.18"
  }
 },
 "nbformat": 4,
 "nbformat_minor": 2
}

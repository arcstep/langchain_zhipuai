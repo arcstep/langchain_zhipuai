{
 "cells": [
  {
   "cell_type": "code",
   "execution_count": 1,
   "metadata": {},
   "outputs": [
    {
     "name": "stdout",
     "output_type": "stream",
     "text": [
      "/Users/xuehongwei/github/langchain_zhipuai\n"
     ]
    }
   ],
   "source": [
    "from dotenv import load_dotenv, find_dotenv\n",
    "load_dotenv(find_dotenv(), override=True)\n",
    "import os\n",
    "os.chdir('..')\n",
    "print(os.getcwd())"
   ]
  },
  {
   "cell_type": "markdown",
   "metadata": {},
   "source": [
    "# ZhipuAIKnowledge"
   ]
  },
  {
   "cell_type": "code",
   "execution_count": 2,
   "metadata": {},
   "outputs": [],
   "source": [
    "from langchain_zhipu import ZhipuAIKnowledge"
   ]
  },
  {
   "cell_type": "markdown",
   "metadata": {},
   "source": [
    "## 定义知识库访问实例"
   ]
  },
  {
   "cell_type": "code",
   "execution_count": 3,
   "metadata": {},
   "outputs": [],
   "source": [
    "zhipuK = ZhipuAIKnowledge()"
   ]
  },
  {
   "cell_type": "markdown",
   "metadata": {},
   "source": [
    "## 列举可用的模型"
   ]
  },
  {
   "cell_type": "code",
   "execution_count": 4,
   "metadata": {},
   "outputs": [
    {
     "data": {
      "text/plain": [
       "{'list': [{'name': '政务行业模型', 'description': 'zhipu_embedding_v2', 'id': 7},\n",
       "  {'name': '通用模型v2', 'description': '通用模型v2', 'id': 3},\n",
       "  {'name': '通用模型', 'description': '通用模型', 'id': 1}],\n",
       " 'total': 3}"
      ]
     },
     "execution_count": 4,
     "metadata": {},
     "output_type": "execute_result"
    }
   ],
   "source": [
    "zhipuK.models_list()"
   ]
  },
  {
   "cell_type": "markdown",
   "metadata": {},
   "source": [
    "## 知识库管理"
   ]
  },
  {
   "cell_type": "code",
   "execution_count": 5,
   "metadata": {},
   "outputs": [
    {
     "data": {
      "text/plain": [
       "{'id': '1776620887655772160'}"
      ]
     },
     "execution_count": 5,
     "metadata": {},
     "output_type": "execute_result"
    }
   ],
   "source": [
    "# 创建\n",
    "zhipuK.knowledge_create(\n",
    "\tembedding_id=3,\n",
    "\tname=\"新媒体直播监测3\",\n",
    "\tdescription=\"鸿蒙的新媒体和AI产品\",\n",
    ")\n",
    "\n",
    "# 直播： {'id': '1776264541529886720'}\n",
    "# 消防： {'id': '1776254097436106752'}"
   ]
  },
  {
   "cell_type": "code",
   "execution_count": 6,
   "metadata": {},
   "outputs": [
    {
     "data": {
      "text/plain": [
       "{'code': 200, 'message': '请求成功', 'timestamp': 1712414412339}"
      ]
     },
     "execution_count": 6,
     "metadata": {},
     "output_type": "execute_result"
    }
   ],
   "source": [
    "# 修改\n",
    "zhipuK.knowledge_update(\n",
    "    \"1776620887655772160\",\n",
    "\tname=\"新媒体AI监测\",\n",
    ")"
   ]
  },
  {
   "cell_type": "markdown",
   "metadata": {},
   "source": [
    "## "
   ]
  },
  {
   "cell_type": "code",
   "execution_count": 7,
   "metadata": {},
   "outputs": [
    {
     "data": {
      "text/plain": [
       "{'successInfos': [{'documentId': '1776620998410563584',\n",
       "   'fileName': '知识库开放api.pdf',\n",
       "   'url': 'https://cdn.bigmodel.cn/knowledge/E5D7622B6EF348F3BE4AFD8325877734.pdf'}],\n",
       " 'failedInfos': []}"
      ]
     },
     "execution_count": 7,
     "metadata": {},
     "output_type": "execute_result"
    }
   ],
   "source": [
    "zhipuK.document_upload_files(\n",
    "\t\"1776620887655772160\",\n",
    "\tfile_paths = [\"notes/知识库开放api.pdf\"]\n",
    ")"
   ]
  },
  {
   "cell_type": "code",
   "execution_count": 8,
   "metadata": {},
   "outputs": [
    {
     "data": {
      "text/plain": [
       "{'successInfos': [{'documentId': '1776621048264060928',\n",
       "   'url': 'https://gac.upc.edu.cn/2023/1214/c17380a418490/page.htm'}],\n",
       " 'failedInfos': []}"
      ]
     },
     "execution_count": 8,
     "metadata": {},
     "output_type": "execute_result"
    }
   ],
   "source": [
    "zhipuK.document_upload_url(\n",
    "\t\"1776620887655772160\",\n",
    "\turls = [\n",
    "\t\t{\n",
    "\t\t\t\"url\": \"https://gac.upc.edu.cn/2023/1214/c17380a418490/page.htm\",\n",
    "\t\t\t\"knowledge_type\": 1\n",
    "\t\t}\n",
    "\t]\n",
    ")\n",
    "\n",
    "# {'documentId': '1776610331741847552',\n",
    "#   'url': 'https://gac.upc.edu.cn/2023/1214/c17380a418490/page.htm'}"
   ]
  },
  {
   "cell_type": "code",
   "execution_count": 10,
   "metadata": {},
   "outputs": [
    {
     "data": {
      "text/plain": [
       "{'id': '1776621048264060928',\n",
       " 'name': 'https://gac.upc.edu.cn/2023/1214/c17380a418490/page.htm',\n",
       " 'url': 'https://cdn.bigmodel.cn/knowledge/1C826E29CD794C60A7D9C7E3FD87FC15.txt',\n",
       " 'length': 9792,\n",
       " 'sentence_size': 300,\n",
       " 'custom_separator': ['\\n'],\n",
       " 'embedding_stat': 1,\n",
       " 'word_num': 2750,\n",
       " 'parse_image': 0}"
      ]
     },
     "execution_count": 10,
     "metadata": {},
     "output_type": "execute_result"
    }
   ],
   "source": [
    "zhipuK.document_detail(document_id=\"1776621048264060928\")"
   ]
  },
  {
   "cell_type": "code",
   "execution_count": 11,
   "metadata": {},
   "outputs": [
    {
     "data": {
      "text/plain": [
       "{'code': 200, 'message': '请求成功', 'timestamp': 1712414462072}"
      ]
     },
     "execution_count": 11,
     "metadata": {},
     "output_type": "execute_result"
    }
   ],
   "source": [
    "zhipuK.document_update(\n",
    "    document_id=\"1776621048264060928\",\n",
    "    knowledge_type=2\n",
    ")"
   ]
  },
  {
   "cell_type": "code",
   "execution_count": 10,
   "metadata": {},
   "outputs": [
    {
     "data": {
      "text/plain": [
       "{'code': 200, 'message': '请求成功', 'timestamp': 1712412692978}"
      ]
     },
     "execution_count": 10,
     "metadata": {},
     "output_type": "execute_result"
    }
   ],
   "source": [
    "zhipuK.document_remove(document_id=\"1776610331741847552\")"
   ]
  },
  {
   "cell_type": "code",
   "execution_count": null,
   "metadata": {},
   "outputs": [],
   "source": []
  }
 ],
 "metadata": {
  "kernelspec": {
   "display_name": "langchain-zhipu-Ddey8KS3-py3.9",
   "language": "python",
   "name": "python3"
  },
  "language_info": {
   "codemirror_mode": {
    "name": "ipython",
    "version": 3
   },
   "file_extension": ".py",
   "mimetype": "text/x-python",
   "name": "python",
   "nbconvert_exporter": "python",
   "pygments_lexer": "ipython3",
   "version": "3.9.18"
  }
 },
 "nbformat": 4,
 "nbformat_minor": 2
}

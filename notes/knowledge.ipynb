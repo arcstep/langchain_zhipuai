{
 "cells": [
  {
   "cell_type": "code",
   "execution_count": 1,
   "metadata": {},
   "outputs": [
    {
     "name": "stdout",
     "output_type": "stream",
     "text": [
      "/Users/xuehongwei/github/langchain_zhipuai\n"
     ]
    }
   ],
   "source": [
    "from dotenv import load_dotenv, find_dotenv\n",
    "load_dotenv(find_dotenv(), override=True)\n",
    "import os\n",
    "os.chdir('..')\n",
    "print(os.getcwd())"
   ]
  },
  {
   "cell_type": "markdown",
   "metadata": {},
   "source": [
    "# ZhipuAIKnowledge"
   ]
  },
  {
   "cell_type": "code",
   "execution_count": 2,
   "metadata": {},
   "outputs": [],
   "source": [
    "from langchain_zhipu import KnowledgeManagerZhipuAI"
   ]
  },
  {
   "cell_type": "markdown",
   "metadata": {},
   "source": [
    "## 定义知识库访问实例"
   ]
  },
  {
   "cell_type": "code",
   "execution_count": 3,
   "metadata": {},
   "outputs": [],
   "source": [
    "zhipuK = KnowledgeManagerZhipuAI()"
   ]
  },
  {
   "cell_type": "code",
   "execution_count": null,
   "metadata": {},
   "outputs": [],
   "source": [
    "help(zhipuK)"
   ]
  },
  {
   "cell_type": "markdown",
   "metadata": {},
   "source": [
    "## 列举可用的模型"
   ]
  },
  {
   "cell_type": "code",
   "execution_count": 4,
   "metadata": {},
   "outputs": [
    {
     "data": {
      "text/plain": [
       "{'data': {'list': [{'name': '政务行业模型',\n",
       "    'description': 'zhipu_embedding_v2',\n",
       "    'id': 7},\n",
       "   {'name': '通用模型v2', 'description': '通用模型v2', 'id': 3},\n",
       "   {'name': '通用模型', 'description': '通用模型', 'id': 1}],\n",
       "  'total': 3},\n",
       " 'code': 200,\n",
       " 'message': '请求成功',\n",
       " 'timestamp': 1712630190594}"
      ]
     },
     "execution_count": 4,
     "metadata": {},
     "output_type": "execute_result"
    }
   ],
   "source": [
    "zhipuK.models_list()"
   ]
  },
  {
   "cell_type": "markdown",
   "metadata": {},
   "source": [
    "## 知识库管理"
   ]
  },
  {
   "cell_type": "markdown",
   "metadata": {},
   "source": [
    "### 创建库"
   ]
  },
  {
   "cell_type": "code",
   "execution_count": 5,
   "metadata": {},
   "outputs": [
    {
     "data": {
      "text/plain": [
       "{'data': {'id': '1777526106900078592'},\n",
       " 'code': 200,\n",
       " 'message': '请求成功',\n",
       " 'timestamp': 1712630223575}"
      ]
     },
     "execution_count": 5,
     "metadata": {},
     "output_type": "execute_result"
    }
   ],
   "source": [
    "# 创建\n",
    "zhipuK.knowledge_create(\n",
    "\tembedding_id=3,\n",
    "\tname=\"新媒体直播监测3\",\n",
    "\tdescription=\"鸿蒙的新媒体和AI产品\",\n",
    ")\n",
    "\n",
    "# 直播： {'id': '1776264541529886720'}\n",
    "# 消防： {'id': '1776254097436106752'}"
   ]
  },
  {
   "cell_type": "markdown",
   "metadata": {},
   "source": [
    "### 更新库"
   ]
  },
  {
   "cell_type": "code",
   "execution_count": 6,
   "metadata": {},
   "outputs": [
    {
     "data": {
      "text/plain": [
       "{'code': 200, 'message': '请求成功', 'timestamp': 1712630229554}"
      ]
     },
     "execution_count": 6,
     "metadata": {},
     "output_type": "execute_result"
    }
   ],
   "source": [
    "# 修改\n",
    "zhipuK.knowledge_update(\n",
    "    \"1776620887655772160\",\n",
    "\tname=\"新媒体AI监测\",\n",
    ")"
   ]
  },
  {
   "cell_type": "markdown",
   "metadata": {},
   "source": [
    "### 知识库用量查询"
   ]
  },
  {
   "cell_type": "code",
   "execution_count": 7,
   "metadata": {},
   "outputs": [
    {
     "data": {
      "text/plain": [
       "{'data': {'used': {'word_num': 35888, 'length': 1786938},\n",
       "  'total': {'word_num': 500000, 'length': 20971520}},\n",
       " 'code': 200,\n",
       " 'message': '请求成功',\n",
       " 'timestamp': 1712630234091}"
      ]
     },
     "execution_count": 7,
     "metadata": {},
     "output_type": "execute_result"
    }
   ],
   "source": [
    "zhipuK.knowledge_capacity()"
   ]
  },
  {
   "cell_type": "markdown",
   "metadata": {},
   "source": [
    "## 知识文档管理"
   ]
  },
  {
   "cell_type": "markdown",
   "metadata": {},
   "source": [
    "### 上传文件作为知识"
   ]
  },
  {
   "cell_type": "code",
   "execution_count": 8,
   "metadata": {},
   "outputs": [
    {
     "data": {
      "text/plain": [
       "{'data': {'successInfos': [{'documentId': '1777526270809280512',\n",
       "    'fileName': '知识库开放api.pdf',\n",
       "    'url': 'https://cdn.bigmodel.cn/knowledge/5CB4D2A702BB42CC8636B2C5E67CF351.pdf'}],\n",
       "  'failedInfos': []},\n",
       " 'code': 200,\n",
       " 'message': '请求成功',\n",
       " 'timestamp': 1712630267466}"
      ]
     },
     "execution_count": 8,
     "metadata": {},
     "output_type": "execute_result"
    }
   ],
   "source": [
    "zhipuK.document_upload_files(\n",
    "\t\"1776620887655772160\",\n",
    "\tfile_paths = [\"notes/知识库开放api.pdf\"]\n",
    ")"
   ]
  },
  {
   "cell_type": "markdown",
   "metadata": {},
   "source": [
    "### 上传URL作为知识"
   ]
  },
  {
   "cell_type": "code",
   "execution_count": 8,
   "metadata": {},
   "outputs": [
    {
     "data": {
      "text/plain": [
       "{'successInfos': [{'documentId': '1776621048264060928',\n",
       "   'url': 'https://gac.upc.edu.cn/2023/1214/c17380a418490/page.htm'}],\n",
       " 'failedInfos': []}"
      ]
     },
     "execution_count": 8,
     "metadata": {},
     "output_type": "execute_result"
    }
   ],
   "source": [
    "zhipuK.document_upload_url(\n",
    "\t\"1776620887655772160\",\n",
    "\turls = [\n",
    "\t\t{\n",
    "\t\t\t\"url\": \"https://gac.upc.edu.cn/2023/1214/c17380a418490/page.htm\",\n",
    "\t\t\t\"knowledge_type\": 1\n",
    "\t\t}\n",
    "\t]\n",
    ")\n",
    "\n",
    "# {'documentId': '1776610331741847552',\n",
    "#   'url': 'https://gac.upc.edu.cn/2023/1214/c17380a418490/page.htm'}"
   ]
  },
  {
   "cell_type": "markdown",
   "metadata": {},
   "source": [
    "### 查阅知识文档"
   ]
  },
  {
   "cell_type": "code",
   "execution_count": 9,
   "metadata": {},
   "outputs": [
    {
     "data": {
      "text/plain": [
       "{'data': {'id': '1776621048264060928',\n",
       "  'name': 'https://gac.upc.edu.cn/2023/1214/c17380a418490/page.htm',\n",
       "  'url': 'https://cdn.bigmodel.cn/knowledge/D9408B7FA0694104BCE2E5A57677C8F3.txt',\n",
       "  'length': 9792,\n",
       "  'sentence_size': 300,\n",
       "  'custom_separator': ['\\n'],\n",
       "  'embedding_stat': 1,\n",
       "  'word_num': 2750,\n",
       "  'parse_image': 0},\n",
       " 'code': 200,\n",
       " 'message': '请求成功',\n",
       " 'timestamp': 1712630283300}"
      ]
     },
     "execution_count": 9,
     "metadata": {},
     "output_type": "execute_result"
    }
   ],
   "source": [
    "zhipuK.document_detail(document_id=\"1776621048264060928\")"
   ]
  },
  {
   "cell_type": "markdown",
   "metadata": {},
   "source": [
    "### 修改知识文档"
   ]
  },
  {
   "cell_type": "code",
   "execution_count": 10,
   "metadata": {},
   "outputs": [
    {
     "data": {
      "text/plain": [
       "{'code': 200, 'message': '请求成功', 'timestamp': 1712630292758}"
      ]
     },
     "execution_count": 10,
     "metadata": {},
     "output_type": "execute_result"
    }
   ],
   "source": [
    "zhipuK.document_update(\n",
    "    document_id=\"1776621048264060928\",\n",
    "    knowledge_type=2\n",
    ")"
   ]
  },
  {
   "cell_type": "markdown",
   "metadata": {},
   "source": [
    "### 移除知识文档"
   ]
  },
  {
   "cell_type": "code",
   "execution_count": 11,
   "metadata": {},
   "outputs": [
    {
     "data": {
      "text/plain": [
       "{'code': 200, 'message': '请求成功', 'timestamp': 1712630311019}"
      ]
     },
     "execution_count": 11,
     "metadata": {},
     "output_type": "execute_result"
    }
   ],
   "source": [
    "zhipuK.document_remove(document_id=\"1777526270809280512\")"
   ]
  },
  {
   "cell_type": "markdown",
   "metadata": {},
   "source": [
    "## 应用管理"
   ]
  },
  {
   "cell_type": "markdown",
   "metadata": {},
   "source": [
    "### 创建应用"
   ]
  },
  {
   "cell_type": "code",
   "execution_count": 12,
   "metadata": {},
   "outputs": [
    {
     "data": {
      "text/plain": [
       "{'data': '1777526511843352576',\n",
       " 'code': 200,\n",
       " 'message': '请求成功',\n",
       " 'timestamp': 1712630319930}"
      ]
     },
     "execution_count": 12,
     "metadata": {},
     "output_type": "execute_result"
    }
   ],
   "source": [
    "zhipuK.application_create(name=\"智谱知识库API\", desc=\"智谱知识库最新API查询\", knowledge_ids=[\"1776620887655772160\"])"
   ]
  },
  {
   "cell_type": "markdown",
   "metadata": {},
   "source": [
    "### 列举所有应用"
   ]
  },
  {
   "cell_type": "code",
   "execution_count": 13,
   "metadata": {},
   "outputs": [
    {
     "data": {
      "text/plain": [
       "{'data': {'total': 2,\n",
       "  'list': [{'id': '1776860166445268992',\n",
       "    'name': '智谱知识库API',\n",
       "    'desc': '智谱知识库最新API查询',\n",
       "    'prompt': '有如下的相关信息：\\n\"\"\"\\n{{知识}}\\n\"\"\"\\n\\n\\n使用上述相关的信息，回答下方问题，你所需要的全部内容都在相关信息中：\\n\"\"\"\\n{{用户}}\\n\"\"\"',\n",
       "    'top_p': '0.7',\n",
       "    'temperature': '0.95',\n",
       "    'knowledge_ids': [1776620887655772160],\n",
       "    'slice_count': 0,\n",
       "    'model': 'chatglm_pro',\n",
       "    'icon_color': 'blue',\n",
       "    'icon_type': 'robot_assist'},\n",
       "   {'id': '1777526511843352576',\n",
       "    'name': '智谱知识库API',\n",
       "    'desc': '智谱知识库最新API查询',\n",
       "    'prompt': '有如下的相关信息：\\n\"\"\"\\n{{知识}}\\n\"\"\"\\n\\n\\n使用上述相关的信息，回答下方问题，你所需要的全部内容都在相关信息中：\\n\"\"\"\\n{{用户}}\\n\"\"\"',\n",
       "    'top_p': '0.7',\n",
       "    'temperature': '0.95',\n",
       "    'knowledge_ids': [1776620887655772160],\n",
       "    'slice_count': 0,\n",
       "    'model': 'chatglm_pro',\n",
       "    'icon_color': 'blue',\n",
       "    'icon_type': 'robot_assist'}]},\n",
       " 'code': 200,\n",
       " 'message': '请求成功',\n",
       " 'timestamp': 1712630324671}"
      ]
     },
     "execution_count": 13,
     "metadata": {},
     "output_type": "execute_result"
    }
   ],
   "source": [
    "zhipuK.application_list()"
   ]
  }
 ],
 "metadata": {
  "kernelspec": {
   "display_name": "langchain-zhipu-Ddey8KS3-py3.9",
   "language": "python",
   "name": "python3"
  },
  "language_info": {
   "codemirror_mode": {
    "name": "ipython",
    "version": 3
   },
   "file_extension": ".py",
   "mimetype": "text/x-python",
   "name": "python",
   "nbconvert_exporter": "python",
   "pygments_lexer": "ipython3",
   "version": "3.9.18"
  }
 },
 "nbformat": 4,
 "nbformat_minor": 2
}

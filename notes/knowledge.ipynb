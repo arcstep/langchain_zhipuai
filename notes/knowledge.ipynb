{
 "cells": [
  {
   "cell_type": "code",
   "execution_count": 1,
   "metadata": {},
   "outputs": [
    {
     "name": "stdout",
     "output_type": "stream",
     "text": [
      "/Users/xuehongwei/github/langchain_zhipuai\n"
     ]
    }
   ],
   "source": [
    "from dotenv import load_dotenv, find_dotenv\n",
    "load_dotenv(find_dotenv(), override=True)\n",
    "import os\n",
    "os.chdir('..')\n",
    "print(os.getcwd())"
   ]
  },
  {
   "cell_type": "markdown",
   "metadata": {},
   "source": [
    "# ZhipuAIKnowledge"
   ]
  },
  {
   "cell_type": "code",
   "execution_count": 2,
   "metadata": {},
   "outputs": [],
   "source": [
    "from langchain_zhipu import KnowledgeManagerZhipuAI"
   ]
  },
  {
   "cell_type": "markdown",
   "metadata": {},
   "source": [
    "## 定义知识库访问实例"
   ]
  },
  {
   "cell_type": "code",
   "execution_count": 4,
   "metadata": {},
   "outputs": [],
   "source": [
    "zhipuK = KnowledgeManagerZhipuAI()"
   ]
  },
  {
   "cell_type": "code",
   "execution_count": 4,
   "metadata": {},
   "outputs": [
    {
     "name": "stdout",
     "output_type": "stream",
     "text": [
      "Help on KnowledgeManagerZhipuAI in module langchain_zhipu.http.manager object:\n",
      "\n",
      "class KnowledgeManagerZhipuAI(pydantic.v1.main.BaseModel)\n",
      " |  KnowledgeManagerZhipuAI(*, client: Any = None, base_url: str = 'https://open.bigmodel.cn', api_key: str = '902f0e17a86ffe90b2af1f63f00f78ac.iYxWfqPYNiPfbff7', model: str = 'embedding-2') -> None\n",
      " |  \n",
      " |  支持V4版本智谱AI的云服务中知识库能力。\n",
      " |  \n",
      " |  **知识库管理** 有以下函数可用：\n",
      " |  - knowledge_create 用来创建知识库\n",
      " |  - knowledge_update 用来更新知识库元数据\n",
      " |  - knowledge_list 用来列举有哪些知识库\n",
      " |  - knowledge_detail 用来查看知识库详情\n",
      " |  - knowledge_remove 用来删除已经建好的知识库\n",
      " |  - knowledge_capacity 用来查看已使用的知识库容量\n",
      " |  \n",
      " |  **知识文档管理** 有以下函数可用：\n",
      " |  - document_upload_url\n",
      " |  - document_upload_files\n",
      " |  - document_update\n",
      " |  - document_list\n",
      " |  - document_detail\n",
      " |  - document_remove\n",
      " |  - document_retry_embedding\n",
      " |  \n",
      " |  **应用管理** 有以下函数可用：\n",
      " |  - application_create\n",
      " |  - application_update\n",
      " |  - application_list\n",
      " |  - application_detail\n",
      " |  - application_remove\n",
      " |  \n",
      " |  Method resolution order:\n",
      " |      KnowledgeManagerZhipuAI\n",
      " |      pydantic.v1.main.BaseModel\n",
      " |      pydantic.v1.utils.Representation\n",
      " |      builtins.object\n",
      " |  \n",
      " |  Methods defined here:\n",
      " |  \n",
      " |  application_create(self, name: str, desc: str, knowledge_ids: List[str], **kwargs)\n",
      " |      创建基于知识库的应用。\n",
      " |      \n",
      " |      Args:\n",
      " |          name (str): 应用名称\n",
      " |          desc (str): 应用描述\n",
      " |          knowledge_ids (List[str]): 知识库列表\n",
      " |  \n",
      " |  application_detail(self, application_id: str)\n",
      " |      获取某个知识库应用的详情。\n",
      " |      \n",
      " |      Args:\n",
      " |          application_id (str): 应用ID\n",
      " |  \n",
      " |  application_list(self, **kwargs)\n",
      " |      获取知识库应用清单。\n",
      " |      \n",
      " |      Args:\n",
      " |  \n",
      " |  application_remove(self, application_id: str)\n",
      " |      删除知识库应用。\n",
      " |  \n",
      " |  application_update(self, application_id: str, **kwargs)\n",
      " |      修改知识库应用。\n",
      " |      \n",
      " |      KWArgs:\n",
      " |          name (str): 应用名称\n",
      " |          desc (str): 应用描述\n",
      " |          knowledge_ids (List[str]): 知识库列表\n",
      " |          ...\n",
      " |  \n",
      " |  document_detail(self, document_id: str)\n",
      " |      获取某个知识库文档的详情。\n",
      " |      \n",
      " |      Args:\n",
      " |          document_id (str): 知识文档ID\n",
      " |  \n",
      " |  document_list(self, knowledge_id: str, **kwargs)\n",
      " |      获取知识库文档清单。\n",
      " |      \n",
      " |      Args:\n",
      " |          knowledge_id (str): 知识库ID\n",
      " |  \n",
      " |  document_remove(self, document_id: str)\n",
      " |      删除知识库文档。\n",
      " |  \n",
      " |  document_retry_embedding(self, document_id: str)\n",
      " |      根据文档ID，重新向量化文档。\n",
      " |      \n",
      " |      Args:\n",
      " |          document_id (str): 知识文档ID\n",
      " |  \n",
      " |  document_update(self, document_id: str, **kwargs)\n",
      " |      根据文档ID，修改知识文档元数据。\n",
      " |      \n",
      " |      Args:\n",
      " |          document_id (str): 知识文档ID\n",
      " |          **kwargs: 文档元数据描述\n",
      " |  \n",
      " |  document_upload_files(self, knowledge_id: str, file_paths: List[str], **kwargs)\n",
      " |      按照知识库ID，上传知识文档。\n",
      " |      \n",
      " |      Args:\n",
      " |          knowledge_id (str): 知识库ID\n",
      " |          file_paths (List[str]): 知识库文档\n",
      " |          **kwargs: 文档元数据描述\n",
      " |  \n",
      " |  document_upload_url(self, knowledge_id: str, urls: List[langchain_zhipu.http.types.KnowledgeUrlsMeta])\n",
      " |      按照知识库ID和URL，下载文件或读取网页并创建为知识。\n",
      " |      \n",
      " |      Args:\n",
      " |          knowledge_id (str): 知识库ID\n",
      " |          url (List[KnowledgeUrlsMeta]): 要下载的文件或网页描述\n",
      " |  \n",
      " |  knowledge_capacity(self)\n",
      " |      获取整体的知识库使用量详情。\n",
      " |  \n",
      " |  knowledge_create(self, **kwargs)\n",
      " |      创建知识库。\n",
      " |      \n",
      " |      返回生成的知识库ID。\n",
      " |  \n",
      " |  knowledge_detail(self, knowledge_id: str)\n",
      " |      获取知识库详情。\n",
      " |  \n",
      " |  knowledge_list(self, **kwargs)\n",
      " |      列举知识库清单。\n",
      " |  \n",
      " |  knowledge_remove(self, knowledge_id: str)\n",
      " |      删除知识库。\n",
      " |  \n",
      " |  knowledge_update(self, knowledge_id: str, **kwargs)\n",
      " |      修改知识库。\n",
      " |      \n",
      " |      Args:\n",
      " |          id (str): 要修改的知识库ID\n",
      " |          knowledge (KnowledgeLibraryKnowledgeLibraryKnowledgeLibrary): 修改内容\n",
      " |  \n",
      " |  models_list(self)\n",
      " |      用于获取当前支持的向量模型列表。\n",
      " |  \n",
      " |  ----------------------------------------------------------------------\n",
      " |  Class methods defined here:\n",
      " |  \n",
      " |  validate_environment(values: Dict) -> Dict from pydantic.v1.main.ModelMetaclass\n",
      " |  \n",
      " |  ----------------------------------------------------------------------\n",
      " |  Static methods defined here:\n",
      " |  \n",
      " |  __json_encoder__ = pydantic_encoder(obj: Any) -> Any\n",
      " |  \n",
      " |  ----------------------------------------------------------------------\n",
      " |  Readonly properties defined here:\n",
      " |  \n",
      " |  lc_secrets\n",
      " |  \n",
      " |  ----------------------------------------------------------------------\n",
      " |  Data and other attributes defined here:\n",
      " |  \n",
      " |  __abstractmethods__ = frozenset()\n",
      " |  \n",
      " |  __annotations__ = {'api_key': <class 'str'>, 'base_url': <class 'str'>...\n",
      " |  \n",
      " |  __class_vars__ = set()\n",
      " |  \n",
      " |  __config__ = <class 'pydantic.v1.config.Config'>\n",
      " |  \n",
      " |  __custom_root_type__ = False\n",
      " |  \n",
      " |  __exclude_fields__ = None\n",
      " |  \n",
      " |  __fields__ = {'api_key': ModelField(name='api_key', type=str, required...\n",
      " |  \n",
      " |  __hash__ = None\n",
      " |  \n",
      " |  __include_fields__ = None\n",
      " |  \n",
      " |  __post_root_validators__ = [(False, <function KnowledgeManagerZhipuAI....\n",
      " |  \n",
      " |  __pre_root_validators__ = []\n",
      " |  \n",
      " |  __private_attributes__ = {}\n",
      " |  \n",
      " |  __schema_cache__ = {}\n",
      " |  \n",
      " |  __signature__ = <Signature (*, client: Any = None, base_url: str...PYN...\n",
      " |  \n",
      " |  __validators__ = {}\n",
      " |  \n",
      " |  ----------------------------------------------------------------------\n",
      " |  Methods inherited from pydantic.v1.main.BaseModel:\n",
      " |  \n",
      " |  __eq__(self, other: Any) -> bool\n",
      " |      Return self==value.\n",
      " |  \n",
      " |  __getstate__(self) -> 'DictAny'\n",
      " |  \n",
      " |  __init__(__pydantic_self__, **data: Any) -> None\n",
      " |      Create a new model by parsing and validating input data from keyword arguments.\n",
      " |      \n",
      " |      Raises ValidationError if the input data cannot be parsed to form a valid model.\n",
      " |  \n",
      " |  __iter__(self) -> 'TupleGenerator'\n",
      " |      so `dict(model)` works\n",
      " |  \n",
      " |  __repr_args__(self) -> 'ReprArgs'\n",
      " |      Returns the attributes to show in __str__, __repr__, and __pretty__ this is generally overridden.\n",
      " |      \n",
      " |      Can either return:\n",
      " |      * name - value pairs, e.g.: `[('foo_name', 'foo'), ('bar_name', ['b', 'a', 'r'])]`\n",
      " |      * or, just values, e.g.: `[(None, 'foo'), (None, ['b', 'a', 'r'])]`\n",
      " |  \n",
      " |  __setattr__(self, name, value)\n",
      " |      Implement setattr(self, name, value).\n",
      " |  \n",
      " |  __setstate__(self, state: 'DictAny') -> None\n",
      " |  \n",
      " |  copy(self: 'Model', *, include: Union[ForwardRef('AbstractSetIntStr'), ForwardRef('MappingIntStrAny'), NoneType] = None, exclude: Union[ForwardRef('AbstractSetIntStr'), ForwardRef('MappingIntStrAny'), NoneType] = None, update: Optional[ForwardRef('DictStrAny')] = None, deep: bool = False) -> 'Model'\n",
      " |      Duplicate a model, optionally choose which fields to include, exclude and change.\n",
      " |      \n",
      " |      :param include: fields to include in new model\n",
      " |      :param exclude: fields to exclude from new model, as with values this takes precedence over include\n",
      " |      :param update: values to change/add in the new model. Note: the data is not validated before creating\n",
      " |          the new model: you should trust this data\n",
      " |      :param deep: set to `True` to make a deep copy of the model\n",
      " |      :return: new model instance\n",
      " |  \n",
      " |  dict(self, *, include: Union[ForwardRef('AbstractSetIntStr'), ForwardRef('MappingIntStrAny'), NoneType] = None, exclude: Union[ForwardRef('AbstractSetIntStr'), ForwardRef('MappingIntStrAny'), NoneType] = None, by_alias: bool = False, skip_defaults: Optional[bool] = None, exclude_unset: bool = False, exclude_defaults: bool = False, exclude_none: bool = False) -> 'DictStrAny'\n",
      " |      Generate a dictionary representation of the model, optionally specifying which fields to include or exclude.\n",
      " |  \n",
      " |  json(self, *, include: Union[ForwardRef('AbstractSetIntStr'), ForwardRef('MappingIntStrAny'), NoneType] = None, exclude: Union[ForwardRef('AbstractSetIntStr'), ForwardRef('MappingIntStrAny'), NoneType] = None, by_alias: bool = False, skip_defaults: Optional[bool] = None, exclude_unset: bool = False, exclude_defaults: bool = False, exclude_none: bool = False, encoder: Optional[Callable[[Any], Any]] = None, models_as_dict: bool = True, **dumps_kwargs: Any) -> str\n",
      " |      Generate a JSON representation of the model, `include` and `exclude` arguments as per `dict()`.\n",
      " |      \n",
      " |      `encoder` is an optional function to supply as `default` to json.dumps(), other arguments as per `json.dumps()`.\n",
      " |  \n",
      " |  ----------------------------------------------------------------------\n",
      " |  Class methods inherited from pydantic.v1.main.BaseModel:\n",
      " |  \n",
      " |  __get_validators__() -> 'CallableGenerator' from pydantic.v1.main.ModelMetaclass\n",
      " |  \n",
      " |  __try_update_forward_refs__(**localns: Any) -> None from pydantic.v1.main.ModelMetaclass\n",
      " |      Same as update_forward_refs but will not raise exception\n",
      " |      when forward references are not defined.\n",
      " |  \n",
      " |  construct(_fields_set: Optional[ForwardRef('SetStr')] = None, **values: Any) -> 'Model' from pydantic.v1.main.ModelMetaclass\n",
      " |      Creates a new model setting __dict__ and __fields_set__ from trusted or pre-validated data.\n",
      " |      Default values are respected, but no other validation is performed.\n",
      " |      Behaves as if `Config.extra = 'allow'` was set since it adds all passed values\n",
      " |  \n",
      " |  from_orm(obj: Any) -> 'Model' from pydantic.v1.main.ModelMetaclass\n",
      " |  \n",
      " |  parse_file(path: Union[str, pathlib.Path], *, content_type: str = None, encoding: str = 'utf8', proto: pydantic.v1.parse.Protocol = None, allow_pickle: bool = False) -> 'Model' from pydantic.v1.main.ModelMetaclass\n",
      " |  \n",
      " |  parse_obj(obj: Any) -> 'Model' from pydantic.v1.main.ModelMetaclass\n",
      " |  \n",
      " |  parse_raw(b: Union[str, bytes], *, content_type: str = None, encoding: str = 'utf8', proto: pydantic.v1.parse.Protocol = None, allow_pickle: bool = False) -> 'Model' from pydantic.v1.main.ModelMetaclass\n",
      " |  \n",
      " |  schema(by_alias: bool = True, ref_template: str = '#/definitions/{model}') -> 'DictStrAny' from pydantic.v1.main.ModelMetaclass\n",
      " |  \n",
      " |  schema_json(*, by_alias: bool = True, ref_template: str = '#/definitions/{model}', **dumps_kwargs: Any) -> str from pydantic.v1.main.ModelMetaclass\n",
      " |  \n",
      " |  update_forward_refs(**localns: Any) -> None from pydantic.v1.main.ModelMetaclass\n",
      " |      Try to update ForwardRefs on fields based on this Model, globalns and localns.\n",
      " |  \n",
      " |  validate(value: Any) -> 'Model' from pydantic.v1.main.ModelMetaclass\n",
      " |  \n",
      " |  ----------------------------------------------------------------------\n",
      " |  Data descriptors inherited from pydantic.v1.main.BaseModel:\n",
      " |  \n",
      " |  __dict__\n",
      " |      dictionary for instance variables (if defined)\n",
      " |  \n",
      " |  __fields_set__\n",
      " |  \n",
      " |  ----------------------------------------------------------------------\n",
      " |  Data and other attributes inherited from pydantic.v1.main.BaseModel:\n",
      " |  \n",
      " |  Config = <class 'pydantic.v1.config.BaseConfig'>\n",
      " |  \n",
      " |  ----------------------------------------------------------------------\n",
      " |  Methods inherited from pydantic.v1.utils.Representation:\n",
      " |  \n",
      " |  __pretty__(self, fmt: Callable[[Any], Any], **kwargs: Any) -> Generator[Any, NoneType, NoneType]\n",
      " |      Used by devtools (https://python-devtools.helpmanual.io/) to provide a human readable representations of objects\n",
      " |  \n",
      " |  __repr__(self) -> str\n",
      " |      Return repr(self).\n",
      " |  \n",
      " |  __repr_name__(self) -> str\n",
      " |      Name of the instance's class, used in __repr__.\n",
      " |  \n",
      " |  __repr_str__(self, join_str: str) -> str\n",
      " |  \n",
      " |  __rich_repr__(self) -> 'RichReprResult'\n",
      " |      Get fields for Rich library\n",
      " |  \n",
      " |  __str__(self) -> str\n",
      " |      Return str(self).\n",
      "\n"
     ]
    }
   ],
   "source": [
    "help(zhipuK)"
   ]
  },
  {
   "cell_type": "markdown",
   "metadata": {},
   "source": [
    "## 列举可用的模型"
   ]
  },
  {
   "cell_type": "code",
   "execution_count": 4,
   "metadata": {},
   "outputs": [
    {
     "data": {
      "text/plain": [
       "{'data': {'list': [{'name': '政务行业模型',\n",
       "    'description': 'zhipu_embedding_v2',\n",
       "    'id': 7},\n",
       "   {'name': '通用模型v2', 'description': '通用模型v2', 'id': 3},\n",
       "   {'name': '通用模型', 'description': '通用模型', 'id': 1}],\n",
       "  'total': 3},\n",
       " 'code': 200,\n",
       " 'message': '请求成功',\n",
       " 'timestamp': 1713611047848}"
      ]
     },
     "execution_count": 4,
     "metadata": {},
     "output_type": "execute_result"
    }
   ],
   "source": [
    "zhipuK.models_list()"
   ]
  },
  {
   "cell_type": "markdown",
   "metadata": {},
   "source": [
    "## 知识库管理"
   ]
  },
  {
   "cell_type": "markdown",
   "metadata": {},
   "source": [
    "### 创建库"
   ]
  },
  {
   "cell_type": "code",
   "execution_count": 5,
   "metadata": {},
   "outputs": [
    {
     "data": {
      "text/plain": [
       "{'data': {'id': '1781640008906797056'},\n",
       " 'code': 200,\n",
       " 'message': '请求成功',\n",
       " 'timestamp': 1713611054274}"
      ]
     },
     "execution_count": 5,
     "metadata": {},
     "output_type": "execute_result"
    }
   ],
   "source": [
    "# 创建\n",
    "zhipuK.knowledge_create(\n",
    "\tembedding_id=3,\n",
    "\tname=\"新媒体直播监测3\",\n",
    "\tdescription=\"鸿蒙的新媒体和AI产品\",\n",
    ")\n",
    "\n",
    "# 直播： {'id': '1776264541529886720'}\n",
    "# 消防： {'id': '1776254097436106752'}"
   ]
  },
  {
   "cell_type": "markdown",
   "metadata": {},
   "source": [
    "### 更新库"
   ]
  },
  {
   "cell_type": "code",
   "execution_count": 5,
   "metadata": {},
   "outputs": [
    {
     "data": {
      "text/plain": [
       "{'code': 200, 'message': '请求成功', 'timestamp': 1713611396212}"
      ]
     },
     "execution_count": 5,
     "metadata": {},
     "output_type": "execute_result"
    }
   ],
   "source": [
    "# 修改\n",
    "zhipuK.knowledge_update(\n",
    "    \"1776620887655772160\",\n",
    "\tname=\"新媒体AI监测\",\n",
    ")"
   ]
  },
  {
   "cell_type": "markdown",
   "metadata": {},
   "source": [
    "### 知识库用量查询"
   ]
  },
  {
   "cell_type": "code",
   "execution_count": 6,
   "metadata": {},
   "outputs": [
    {
     "data": {
      "text/plain": [
       "{'data': {'used': {'word_num': 35888, 'length': 1777146},\n",
       "  'total': {'word_num': 500000, 'length': 20971520}},\n",
       " 'code': 200,\n",
       " 'message': '请求成功',\n",
       " 'timestamp': 1713611404307}"
      ]
     },
     "execution_count": 6,
     "metadata": {},
     "output_type": "execute_result"
    }
   ],
   "source": [
    "zhipuK.knowledge_capacity()"
   ]
  },
  {
   "cell_type": "markdown",
   "metadata": {},
   "source": [
    "## 知识文档管理"
   ]
  },
  {
   "cell_type": "markdown",
   "metadata": {},
   "source": [
    "### 上传文件作为知识"
   ]
  },
  {
   "cell_type": "code",
   "execution_count": 7,
   "metadata": {},
   "outputs": [
    {
     "data": {
      "text/plain": [
       "{'data': {'successInfos': [{'documentId': '1781641512879357952',\n",
       "    'fileName': '知识库开放api.pdf',\n",
       "    'url': 'https://cdn.bigmodel.cn/knowledge/F918F26280DE42098AA6E4298553ACCC.pdf'}],\n",
       "  'failedInfos': []},\n",
       " 'code': 200,\n",
       " 'message': '请求成功',\n",
       " 'timestamp': 1713611417810}"
      ]
     },
     "execution_count": 7,
     "metadata": {},
     "output_type": "execute_result"
    }
   ],
   "source": [
    "zhipuK.document_upload_files(\n",
    "\t\"1776620887655772160\",\n",
    "\tfile_paths = [\"notes/知识库开放api.pdf\"]\n",
    ")"
   ]
  },
  {
   "cell_type": "markdown",
   "metadata": {},
   "source": [
    "### 上传URL作为知识"
   ]
  },
  {
   "cell_type": "code",
   "execution_count": 8,
   "metadata": {},
   "outputs": [
    {
     "data": {
      "text/plain": [
       "{'successInfos': [{'documentId': '1776621048264060928',\n",
       "   'url': 'https://gac.upc.edu.cn/2023/1214/c17380a418490/page.htm'}],\n",
       " 'failedInfos': []}"
      ]
     },
     "execution_count": 8,
     "metadata": {},
     "output_type": "execute_result"
    }
   ],
   "source": [
    "zhipuK.document_upload_url(\n",
    "\t\"1776620887655772160\",\n",
    "\turls = [\n",
    "\t\t{\n",
    "\t\t\t\"url\": \"https://gac.upc.edu.cn/2023/1214/c17380a418490/page.htm\",\n",
    "\t\t\t\"knowledge_type\": 1\n",
    "\t\t}\n",
    "\t]\n",
    ")\n",
    "\n",
    "# {'documentId': '1776610331741847552',\n",
    "#   'url': 'https://gac.upc.edu.cn/2023/1214/c17380a418490/page.htm'}"
   ]
  },
  {
   "cell_type": "markdown",
   "metadata": {},
   "source": [
    "### 查阅知识文档"
   ]
  },
  {
   "cell_type": "code",
   "execution_count": 8,
   "metadata": {},
   "outputs": [
    {
     "data": {
      "text/plain": [
       "{'data': {'id': '1776621048264060928',\n",
       "  'name': 'https://gac.upc.edu.cn/2023/1214/c17380a418490/page.htm',\n",
       "  'url': 'https://cdn.bigmodel.cn/knowledge/F14ECA70005149D59111477644A7F84E.txt',\n",
       "  'length': 9792,\n",
       "  'sentence_size': 300,\n",
       "  'custom_separator': ['\\n'],\n",
       "  'embedding_stat': 1,\n",
       "  'word_num': 2750,\n",
       "  'parse_image': 0},\n",
       " 'code': 200,\n",
       " 'message': '请求成功',\n",
       " 'timestamp': 1713611428981}"
      ]
     },
     "execution_count": 8,
     "metadata": {},
     "output_type": "execute_result"
    }
   ],
   "source": [
    "zhipuK.document_detail(document_id=\"1776621048264060928\")"
   ]
  },
  {
   "cell_type": "markdown",
   "metadata": {},
   "source": [
    "### 修改知识文档"
   ]
  },
  {
   "cell_type": "code",
   "execution_count": 9,
   "metadata": {},
   "outputs": [
    {
     "data": {
      "text/plain": [
       "{'code': 200, 'message': '请求成功', 'timestamp': 1713611433450}"
      ]
     },
     "execution_count": 9,
     "metadata": {},
     "output_type": "execute_result"
    }
   ],
   "source": [
    "zhipuK.document_update(\n",
    "    document_id=\"1776621048264060928\",\n",
    "    knowledge_type=2\n",
    ")"
   ]
  },
  {
   "cell_type": "markdown",
   "metadata": {},
   "source": [
    "### 移除知识文档"
   ]
  },
  {
   "cell_type": "code",
   "execution_count": 10,
   "metadata": {},
   "outputs": [
    {
     "data": {
      "text/plain": [
       "{'code': 10015, 'message': '文档不存在', 'timestamp': 1713611441329}"
      ]
     },
     "execution_count": 10,
     "metadata": {},
     "output_type": "execute_result"
    }
   ],
   "source": [
    "zhipuK.document_remove(document_id=\"1777526270809280512\")"
   ]
  },
  {
   "cell_type": "markdown",
   "metadata": {},
   "source": [
    "## 应用管理"
   ]
  },
  {
   "cell_type": "markdown",
   "metadata": {},
   "source": [
    "### 创建应用"
   ]
  },
  {
   "cell_type": "code",
   "execution_count": 12,
   "metadata": {},
   "outputs": [
    {
     "data": {
      "text/plain": [
       "{'data': '1777526511843352576',\n",
       " 'code': 200,\n",
       " 'message': '请求成功',\n",
       " 'timestamp': 1712630319930}"
      ]
     },
     "execution_count": 12,
     "metadata": {},
     "output_type": "execute_result"
    }
   ],
   "source": [
    "zhipuK.application_create(name=\"智谱知识库API\", desc=\"智谱知识库最新API查询\", knowledge_ids=[\"1776620887655772160\"])"
   ]
  },
  {
   "cell_type": "markdown",
   "metadata": {},
   "source": [
    "### 列举所有应用"
   ]
  },
  {
   "cell_type": "code",
   "execution_count": 11,
   "metadata": {},
   "outputs": [
    {
     "data": {
      "text/plain": [
       "{'data': {'total': 2,\n",
       "  'list': [{'id': '1776860166445268992',\n",
       "    'name': '智谱知识库API',\n",
       "    'desc': '智谱知识库最新API查询',\n",
       "    'prompt': '有如下的相关信息：\\n\"\"\"\\n{{知识}}\\n\"\"\"\\n\\n\\n使用上述相关的信息，回答下方问题，你所需要的全部内容都在相关信息中：\\n\"\"\"\\n{{用户}}\\n\"\"\"',\n",
       "    'top_p': '0.7',\n",
       "    'temperature': '0.95',\n",
       "    'knowledge_ids': [1776620887655772160],\n",
       "    'slice_count': 0,\n",
       "    'model': 'chatglm_pro',\n",
       "    'icon_color': 'blue',\n",
       "    'icon_type': 'robot_assist'},\n",
       "   {'id': '1777526511843352576',\n",
       "    'name': '智谱知识库API',\n",
       "    'desc': '智谱知识库最新API查询',\n",
       "    'prompt': '有如下的相关信息：\\n\"\"\"\\n{{知识}}\\n\"\"\"\\n\\n\\n使用上述相关的信息，回答下方问题，你所需要的全部内容都在相关信息中：\\n\"\"\"\\n{{用户}}\\n\"\"\"',\n",
       "    'top_p': '0.7',\n",
       "    'temperature': '0.95',\n",
       "    'knowledge_ids': [1776620887655772160],\n",
       "    'slice_count': 0,\n",
       "    'model': 'chatglm_pro',\n",
       "    'icon_color': 'blue',\n",
       "    'icon_type': 'robot_assist'}]},\n",
       " 'code': 200,\n",
       " 'message': '请求成功',\n",
       " 'timestamp': 1713611450823}"
      ]
     },
     "execution_count": 11,
     "metadata": {},
     "output_type": "execute_result"
    }
   ],
   "source": [
    "zhipuK.application_list()"
   ]
  }
 ],
 "metadata": {
  "kernelspec": {
   "display_name": "langchain-zhipu-Ddey8KS3-py3.9",
   "language": "python",
   "name": "python3"
  },
  "language_info": {
   "codemirror_mode": {
    "name": "ipython",
    "version": 3
   },
   "file_extension": ".py",
   "mimetype": "text/x-python",
   "name": "python",
   "nbconvert_exporter": "python",
   "pygments_lexer": "ipython3",
   "version": "3.9.18"
  }
 },
 "nbformat": 4,
 "nbformat_minor": 2
}

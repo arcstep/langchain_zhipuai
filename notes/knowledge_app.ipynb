{
 "cells": [
  {
   "cell_type": "code",
   "execution_count": 14,
   "metadata": {},
   "outputs": [],
   "source": [
    "from dotenv import load_dotenv, find_dotenv\n",
    "load_dotenv(find_dotenv(), override=True)\n",
    "import os\n",
    "os.chdir('..')"
   ]
  },
  {
   "cell_type": "markdown",
   "metadata": {},
   "source": [
    "# ZhipuAIKnowledge"
   ]
  },
  {
   "cell_type": "code",
   "execution_count": 15,
   "metadata": {},
   "outputs": [],
   "source": [
    "from langchain_zhipu import KnowledgeChatZhipuAI"
   ]
  },
  {
   "cell_type": "markdown",
   "metadata": {},
   "source": [
    "## 定义知识库访问实例"
   ]
  },
  {
   "cell_type": "code",
   "execution_count": 16,
   "metadata": {},
   "outputs": [],
   "source": [
    "zhipuK = KnowledgeChatZhipuAI(application_id=\"1777526511843352576\")"
   ]
  },
  {
   "cell_type": "code",
   "execution_count": 17,
   "metadata": {},
   "outputs": [
    {
     "name": "stdout",
     "output_type": "stream",
     "text": [
      "{'data': {'requestId': '1712988974592-83788', 'content': '\" 一条智谱的API接口名称可以是：/knowledge/{id}\"'}, 'code': 200, 'message': '请求成功', 'timestamp': 1712988980232}\n"
     ]
    },
    {
     "data": {
      "text/plain": [
       "AIMessage(content='\" 一条智谱的API接口名称可以是：/knowledge/{id}\"')"
      ]
     },
     "execution_count": 17,
     "metadata": {},
     "output_type": "execute_result"
    }
   ],
   "source": [
    "zhipuK.invoke([{\"role\": \"user\", \"content\": \"列举一条智谱的API接口名称\"}])"
   ]
  },
  {
   "cell_type": "code",
   "execution_count": 18,
   "metadata": {},
   "outputs": [
    {
     "name": "stdout",
     "output_type": "stream",
     "text": [
      "content='  ' id=b'1712988982603-627550'\n",
      "content='一条' id=b'1712988982603-627550'\n",
      "content='智' id=b'1712988982603-627550'\n",
      "content='谱' id=b'1712988982603-627550'\n",
      "content='的' id=b'1712988982603-627550'\n",
      "content='API' id=b'1712988982603-627550'\n",
      "content='接口' id=b'1712988982603-627550'\n",
      "content='名称' id=b'1712988982603-627550'\n",
      "content='可以是' id=b'1712988982603-627550'\n",
      "content='：' id=b'1712988982603-627550'\n",
      "content='/' id=b'1712988982603-627550'\n",
      "content='know' id=b'1712988982603-627550'\n",
      "content='ledge' id=b'1712988982603-627550'\n",
      "content='/' id=b'1712988982603-627550'\n",
      "content='{' id=b'1712988982603-627550'\n",
      "content='id' id=b'1712988982603-627550'\n",
      "content='}' id=b'1712988982603-627550'\n",
      "content='' id=b'1712988982603-627550'\n",
      "content='' id=b'1712988982603-627550'\n"
     ]
    }
   ],
   "source": [
    "for x in zhipuK.stream([{\"role\": \"user\", \"content\": \"列举一条智谱的API接口名称\"}]):\n",
    "    print(x)\n",
    "    # print(x.content, end=\"|\")"
   ]
  },
  {
   "cell_type": "code",
   "execution_count": 19,
   "metadata": {},
   "outputs": [
    {
     "name": "stdout",
     "output_type": "stream",
     "text": [
      "content='  ' id=b'1712988993463-65021'\n",
      "content='1' id=b'1712988993463-65021'\n",
      "content='.' id=b'1712988993463-65021'\n",
      "content='  /' id=b'1712988993463-65021'\n",
      "content='know' id=b'1712988993463-65021'\n",
      "content='ledge' id=b'1712988993463-65021'\n",
      "content='/' id=b'1712988993463-65021'\n",
      "content='{' id=b'1712988993463-65021'\n",
      "content='id' id=b'1712988993463-65021'\n",
      "content='}' id=b'1712988993463-65021'\n",
      "content='' id=b'1712988993463-65021'\n",
      "content='2' id=b'1712988993463-65021'\n",
      "content='.' id=b'1712988993463-65021'\n",
      "content='  /' id=b'1712988993463-65021'\n",
      "content='model' id=b'1712988993463-65021'\n",
      "content='-' id=b'1712988993463-65021'\n",
      "content='api' id=b'1712988993463-65021'\n",
      "content='/' id=b'1712988993463-65021'\n",
      "content='{' id=b'1712988993463-65021'\n",
      "content='id' id=b'1712988993463-65021'\n",
      "content='}/' id=b'1712988993463-65021'\n",
      "content='inv' id=b'1712988993463-65021'\n",
      "content='oke' id=b'1712988993463-65021'\n",
      "content='' id=b'1712988993463-65021'\n",
      "content='3' id=b'1712988993463-65021'\n",
      "content='.' id=b'1712988993463-65021'\n",
      "content='  /' id=b'1712988993463-65021'\n",
      "content='document' id=b'1712988993463-65021'\n",
      "content='/' id=b'1712988993463-65021'\n",
      "content='emb' id=b'1712988993463-65021'\n",
      "content='edding' id=b'1712988993463-65021'\n",
      "content='/' id=b'1712988993463-65021'\n",
      "content='{' id=b'1712988993463-65021'\n",
      "content='id' id=b'1712988993463-65021'\n",
      "content='}' id=b'1712988993463-65021'\n",
      "content='' id=b'1712988993463-65021'\n",
      "content='' id=b'1712988993463-65021'\n"
     ]
    }
   ],
   "source": [
    "async for x in zhipuK.astream([{\"role\": \"user\", \"content\": \"列举三条智谱的API接口名称\"}]):\n",
    "    print(x, flush=True)"
   ]
  },
  {
   "cell_type": "code",
   "execution_count": 8,
   "metadata": {},
   "outputs": [
    {
     "name": "stderr",
     "output_type": "stream",
     "text": [
      "/Users/xuehongwei/Library/Caches/pypoetry/virtualenvs/langchain-zhipu-Ddey8KS3-py3.9/lib/python3.9/site-packages/langchain_core/_api/beta_decorator.py:86: LangChainBetaWarning: This API is in beta and may change in the future.\n",
      "  warn_beta(\n"
     ]
    },
    {
     "name": "stdout",
     "output_type": "stream",
     "text": [
      "{'event': 'on_chat_model_start', 'run_id': 'c6d37d6a-9d41-4349-9de6-35faec052d7d', 'name': 'KnowledgeChatZhipuAI', 'tags': [], 'metadata': {}, 'data': {'input': [{'role': 'user', 'content': '列举三条智谱的API接口名称'}]}}\n",
      "{'event': 'on_chat_model_stream', 'run_id': 'c6d37d6a-9d41-4349-9de6-35faec052d7d', 'tags': [], 'metadata': {}, 'name': 'KnowledgeChatZhipuAI', 'data': {'chunk': AIMessageChunk(content='  ', id=b'1712987787692-118405')}}\n",
      "{'event': 'on_chat_model_stream', 'run_id': 'c6d37d6a-9d41-4349-9de6-35faec052d7d', 'tags': [], 'metadata': {}, 'name': 'KnowledgeChatZhipuAI', 'data': {'chunk': AIMessageChunk(content='1', id=b'1712987787692-118405')}}\n",
      "{'event': 'on_chat_model_stream', 'run_id': 'c6d37d6a-9d41-4349-9de6-35faec052d7d', 'tags': [], 'metadata': {}, 'name': 'KnowledgeChatZhipuAI', 'data': {'chunk': AIMessageChunk(content='.', id=b'1712987787692-118405')}}\n",
      "{'event': 'on_chat_model_stream', 'run_id': 'c6d37d6a-9d41-4349-9de6-35faec052d7d', 'tags': [], 'metadata': {}, 'name': 'KnowledgeChatZhipuAI', 'data': {'chunk': AIMessageChunk(content='  /', id=b'1712987787692-118405')}}\n",
      "{'event': 'on_chat_model_stream', 'run_id': 'c6d37d6a-9d41-4349-9de6-35faec052d7d', 'tags': [], 'metadata': {}, 'name': 'KnowledgeChatZhipuAI', 'data': {'chunk': AIMessageChunk(content='know', id=b'1712987787692-118405')}}\n",
      "{'event': 'on_chat_model_stream', 'run_id': 'c6d37d6a-9d41-4349-9de6-35faec052d7d', 'tags': [], 'metadata': {}, 'name': 'KnowledgeChatZhipuAI', 'data': {'chunk': AIMessageChunk(content='ledge', id=b'1712987787692-118405')}}\n",
      "{'event': 'on_chat_model_stream', 'run_id': 'c6d37d6a-9d41-4349-9de6-35faec052d7d', 'tags': [], 'metadata': {}, 'name': 'KnowledgeChatZhipuAI', 'data': {'chunk': AIMessageChunk(content='/', id=b'1712987787692-118405')}}\n",
      "{'event': 'on_chat_model_stream', 'run_id': 'c6d37d6a-9d41-4349-9de6-35faec052d7d', 'tags': [], 'metadata': {}, 'name': 'KnowledgeChatZhipuAI', 'data': {'chunk': AIMessageChunk(content='{', id=b'1712987787692-118405')}}\n",
      "{'event': 'on_chat_model_stream', 'run_id': 'c6d37d6a-9d41-4349-9de6-35faec052d7d', 'tags': [], 'metadata': {}, 'name': 'KnowledgeChatZhipuAI', 'data': {'chunk': AIMessageChunk(content='id', id=b'1712987787692-118405')}}\n",
      "{'event': 'on_chat_model_stream', 'run_id': 'c6d37d6a-9d41-4349-9de6-35faec052d7d', 'tags': [], 'metadata': {}, 'name': 'KnowledgeChatZhipuAI', 'data': {'chunk': AIMessageChunk(content='}', id=b'1712987787692-118405')}}\n",
      "{'event': 'on_chat_model_stream', 'run_id': 'c6d37d6a-9d41-4349-9de6-35faec052d7d', 'tags': [], 'metadata': {}, 'name': 'KnowledgeChatZhipuAI', 'data': {'chunk': AIMessageChunk(content='', id=b'1712987787692-118405')}}\n",
      "{'event': 'on_chat_model_stream', 'run_id': 'c6d37d6a-9d41-4349-9de6-35faec052d7d', 'tags': [], 'metadata': {}, 'name': 'KnowledgeChatZhipuAI', 'data': {'chunk': AIMessageChunk(content='2', id=b'1712987787692-118405')}}\n",
      "{'event': 'on_chat_model_stream', 'run_id': 'c6d37d6a-9d41-4349-9de6-35faec052d7d', 'tags': [], 'metadata': {}, 'name': 'KnowledgeChatZhipuAI', 'data': {'chunk': AIMessageChunk(content='.', id=b'1712987787692-118405')}}\n",
      "{'event': 'on_chat_model_stream', 'run_id': 'c6d37d6a-9d41-4349-9de6-35faec052d7d', 'tags': [], 'metadata': {}, 'name': 'KnowledgeChatZhipuAI', 'data': {'chunk': AIMessageChunk(content='  /', id=b'1712987787692-118405')}}\n",
      "{'event': 'on_chat_model_stream', 'run_id': 'c6d37d6a-9d41-4349-9de6-35faec052d7d', 'tags': [], 'metadata': {}, 'name': 'KnowledgeChatZhipuAI', 'data': {'chunk': AIMessageChunk(content='model', id=b'1712987787692-118405')}}\n",
      "{'event': 'on_chat_model_stream', 'run_id': 'c6d37d6a-9d41-4349-9de6-35faec052d7d', 'tags': [], 'metadata': {}, 'name': 'KnowledgeChatZhipuAI', 'data': {'chunk': AIMessageChunk(content='-', id=b'1712987787692-118405')}}\n",
      "{'event': 'on_chat_model_stream', 'run_id': 'c6d37d6a-9d41-4349-9de6-35faec052d7d', 'tags': [], 'metadata': {}, 'name': 'KnowledgeChatZhipuAI', 'data': {'chunk': AIMessageChunk(content='api', id=b'1712987787692-118405')}}\n",
      "{'event': 'on_chat_model_stream', 'run_id': 'c6d37d6a-9d41-4349-9de6-35faec052d7d', 'tags': [], 'metadata': {}, 'name': 'KnowledgeChatZhipuAI', 'data': {'chunk': AIMessageChunk(content='/', id=b'1712987787692-118405')}}\n",
      "{'event': 'on_chat_model_stream', 'run_id': 'c6d37d6a-9d41-4349-9de6-35faec052d7d', 'tags': [], 'metadata': {}, 'name': 'KnowledgeChatZhipuAI', 'data': {'chunk': AIMessageChunk(content='{', id=b'1712987787692-118405')}}\n",
      "{'event': 'on_chat_model_stream', 'run_id': 'c6d37d6a-9d41-4349-9de6-35faec052d7d', 'tags': [], 'metadata': {}, 'name': 'KnowledgeChatZhipuAI', 'data': {'chunk': AIMessageChunk(content='id', id=b'1712987787692-118405')}}\n",
      "{'event': 'on_chat_model_stream', 'run_id': 'c6d37d6a-9d41-4349-9de6-35faec052d7d', 'tags': [], 'metadata': {}, 'name': 'KnowledgeChatZhipuAI', 'data': {'chunk': AIMessageChunk(content='}/', id=b'1712987787692-118405')}}\n",
      "{'event': 'on_chat_model_stream', 'run_id': 'c6d37d6a-9d41-4349-9de6-35faec052d7d', 'tags': [], 'metadata': {}, 'name': 'KnowledgeChatZhipuAI', 'data': {'chunk': AIMessageChunk(content='inv', id=b'1712987787692-118405')}}\n",
      "{'event': 'on_chat_model_stream', 'run_id': 'c6d37d6a-9d41-4349-9de6-35faec052d7d', 'tags': [], 'metadata': {}, 'name': 'KnowledgeChatZhipuAI', 'data': {'chunk': AIMessageChunk(content='oke', id=b'1712987787692-118405')}}\n",
      "{'event': 'on_chat_model_stream', 'run_id': 'c6d37d6a-9d41-4349-9de6-35faec052d7d', 'tags': [], 'metadata': {}, 'name': 'KnowledgeChatZhipuAI', 'data': {'chunk': AIMessageChunk(content='', id=b'1712987787692-118405')}}\n",
      "{'event': 'on_chat_model_stream', 'run_id': 'c6d37d6a-9d41-4349-9de6-35faec052d7d', 'tags': [], 'metadata': {}, 'name': 'KnowledgeChatZhipuAI', 'data': {'chunk': AIMessageChunk(content='3', id=b'1712987787692-118405')}}\n",
      "{'event': 'on_chat_model_stream', 'run_id': 'c6d37d6a-9d41-4349-9de6-35faec052d7d', 'tags': [], 'metadata': {}, 'name': 'KnowledgeChatZhipuAI', 'data': {'chunk': AIMessageChunk(content='.', id=b'1712987787692-118405')}}\n",
      "{'event': 'on_chat_model_stream', 'run_id': 'c6d37d6a-9d41-4349-9de6-35faec052d7d', 'tags': [], 'metadata': {}, 'name': 'KnowledgeChatZhipuAI', 'data': {'chunk': AIMessageChunk(content='  /', id=b'1712987787692-118405')}}\n",
      "{'event': 'on_chat_model_stream', 'run_id': 'c6d37d6a-9d41-4349-9de6-35faec052d7d', 'tags': [], 'metadata': {}, 'name': 'KnowledgeChatZhipuAI', 'data': {'chunk': AIMessageChunk(content='document', id=b'1712987787692-118405')}}\n",
      "{'event': 'on_chat_model_stream', 'run_id': 'c6d37d6a-9d41-4349-9de6-35faec052d7d', 'tags': [], 'metadata': {}, 'name': 'KnowledgeChatZhipuAI', 'data': {'chunk': AIMessageChunk(content='/', id=b'1712987787692-118405')}}\n",
      "{'event': 'on_chat_model_stream', 'run_id': 'c6d37d6a-9d41-4349-9de6-35faec052d7d', 'tags': [], 'metadata': {}, 'name': 'KnowledgeChatZhipuAI', 'data': {'chunk': AIMessageChunk(content='emb', id=b'1712987787692-118405')}}\n",
      "{'event': 'on_chat_model_stream', 'run_id': 'c6d37d6a-9d41-4349-9de6-35faec052d7d', 'tags': [], 'metadata': {}, 'name': 'KnowledgeChatZhipuAI', 'data': {'chunk': AIMessageChunk(content='edding', id=b'1712987787692-118405')}}\n",
      "{'event': 'on_chat_model_stream', 'run_id': 'c6d37d6a-9d41-4349-9de6-35faec052d7d', 'tags': [], 'metadata': {}, 'name': 'KnowledgeChatZhipuAI', 'data': {'chunk': AIMessageChunk(content='/', id=b'1712987787692-118405')}}\n",
      "{'event': 'on_chat_model_stream', 'run_id': 'c6d37d6a-9d41-4349-9de6-35faec052d7d', 'tags': [], 'metadata': {}, 'name': 'KnowledgeChatZhipuAI', 'data': {'chunk': AIMessageChunk(content='{', id=b'1712987787692-118405')}}\n",
      "{'event': 'on_chat_model_stream', 'run_id': 'c6d37d6a-9d41-4349-9de6-35faec052d7d', 'tags': [], 'metadata': {}, 'name': 'KnowledgeChatZhipuAI', 'data': {'chunk': AIMessageChunk(content='id', id=b'1712987787692-118405')}}\n",
      "{'event': 'on_chat_model_stream', 'run_id': 'c6d37d6a-9d41-4349-9de6-35faec052d7d', 'tags': [], 'metadata': {}, 'name': 'KnowledgeChatZhipuAI', 'data': {'chunk': AIMessageChunk(content='}', id=b'1712987787692-118405')}}\n",
      "{'event': 'on_chat_model_stream', 'run_id': 'c6d37d6a-9d41-4349-9de6-35faec052d7d', 'tags': [], 'metadata': {}, 'name': 'KnowledgeChatZhipuAI', 'data': {'chunk': AIMessageChunk(content='', id=b'1712987787692-118405')}}\n",
      "{'event': 'on_chat_model_stream', 'run_id': 'c6d37d6a-9d41-4349-9de6-35faec052d7d', 'tags': [], 'metadata': {}, 'name': 'KnowledgeChatZhipuAI', 'data': {'chunk': AIMessageChunk(content='', id=b'1712987787692-118405')}}\n",
      "{'event': 'on_chat_model_end', 'name': 'KnowledgeChatZhipuAI', 'run_id': 'c6d37d6a-9d41-4349-9de6-35faec052d7d', 'tags': [], 'metadata': {}, 'data': {'output': AIMessageChunk(content='  1.  /knowledge/{id}2.  /model-api/{id}/invoke3.  /document/embedding/{id}')}}\n"
     ]
    }
   ],
   "source": [
    "async for x in zhipuK.astream_events([{\"role\": \"user\", \"content\": \"列举三条智谱的API接口名称\"}], version=\"v1\"):\n",
    "    print(x)"
   ]
  },
  {
   "cell_type": "markdown",
   "metadata": {},
   "source": [
    "实测证明，App应用无法调用tools。"
   ]
  }
 ],
 "metadata": {
  "kernelspec": {
   "display_name": "langchain-zhipu-Ddey8KS3-py3.9",
   "language": "python",
   "name": "python3"
  },
  "language_info": {
   "codemirror_mode": {
    "name": "ipython",
    "version": 3
   },
   "file_extension": ".py",
   "mimetype": "text/x-python",
   "name": "python",
   "nbconvert_exporter": "python",
   "pygments_lexer": "ipython3",
   "version": "3.9.18"
  }
 },
 "nbformat": 4,
 "nbformat_minor": 2
}

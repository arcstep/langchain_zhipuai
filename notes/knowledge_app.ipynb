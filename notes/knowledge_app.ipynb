{
 "cells": [
  {
   "cell_type": "code",
   "execution_count": 1,
   "metadata": {},
   "outputs": [],
   "source": [
    "from dotenv import load_dotenv, find_dotenv\n",
    "load_dotenv(find_dotenv(), override=True)\n",
    "import os\n",
    "os.chdir('..')"
   ]
  },
  {
   "cell_type": "markdown",
   "metadata": {},
   "source": [
    "# ZhipuAIKnowledge"
   ]
  },
  {
   "cell_type": "code",
   "execution_count": 2,
   "metadata": {},
   "outputs": [],
   "source": [
    "from langchain_zhipu import KnowledgeChatZhipuAI"
   ]
  },
  {
   "cell_type": "markdown",
   "metadata": {},
   "source": [
    "## 定义知识库访问实例"
   ]
  },
  {
   "cell_type": "code",
   "execution_count": 3,
   "metadata": {},
   "outputs": [],
   "source": [
    "zhipuK = KnowledgeChatZhipuAI(application_id=\"1777526511843352576\")"
   ]
  },
  {
   "cell_type": "code",
   "execution_count": 5,
   "metadata": {},
   "outputs": [
    {
     "data": {
      "text/plain": [
       "AIMessage(content='\" 智谱AI的API接口之一是：/v2/{request_id}/slice_info\"')"
      ]
     },
     "execution_count": 5,
     "metadata": {},
     "output_type": "execute_result"
    }
   ],
   "source": [
    "zhipuK.invoke(\"列举一条智谱的API接口名称\")"
   ]
  },
  {
   "cell_type": "code",
   "execution_count": 4,
   "metadata": {},
   "outputs": [
    {
     "data": {
      "text/plain": [
       "AIMessage(content='\" 智谱的API接口名称：编辑知识库\"')"
      ]
     },
     "execution_count": 4,
     "metadata": {},
     "output_type": "execute_result"
    }
   ],
   "source": [
    "zhipuK.invoke([{\"role\": \"user\", \"content\": \"列举一条智谱的API接口名称\"}])"
   ]
  },
  {
   "cell_type": "code",
   "execution_count": 18,
   "metadata": {},
   "outputs": [
    {
     "name": "stdout",
     "output_type": "stream",
     "text": [
      "content='  ' id=b'1712988982603-627550'\n",
      "content='一条' id=b'1712988982603-627550'\n",
      "content='智' id=b'1712988982603-627550'\n",
      "content='谱' id=b'1712988982603-627550'\n",
      "content='的' id=b'1712988982603-627550'\n",
      "content='API' id=b'1712988982603-627550'\n",
      "content='接口' id=b'1712988982603-627550'\n",
      "content='名称' id=b'1712988982603-627550'\n",
      "content='可以是' id=b'1712988982603-627550'\n",
      "content='：' id=b'1712988982603-627550'\n",
      "content='/' id=b'1712988982603-627550'\n",
      "content='know' id=b'1712988982603-627550'\n",
      "content='ledge' id=b'1712988982603-627550'\n",
      "content='/' id=b'1712988982603-627550'\n",
      "content='{' id=b'1712988982603-627550'\n",
      "content='id' id=b'1712988982603-627550'\n",
      "content='}' id=b'1712988982603-627550'\n",
      "content='' id=b'1712988982603-627550'\n",
      "content='' id=b'1712988982603-627550'\n"
     ]
    }
   ],
   "source": [
    "for x in zhipuK.stream([{\"role\": \"user\", \"content\": \"列举一条智谱的API接口名称\"}]):\n",
    "    print(x)\n",
    "    # print(x.content, end=\"|\")"
   ]
  },
  {
   "cell_type": "code",
   "execution_count": 19,
   "metadata": {},
   "outputs": [
    {
     "name": "stdout",
     "output_type": "stream",
     "text": [
      "content='  ' id=b'1712988993463-65021'\n",
      "content='1' id=b'1712988993463-65021'\n",
      "content='.' id=b'1712988993463-65021'\n",
      "content='  /' id=b'1712988993463-65021'\n",
      "content='know' id=b'1712988993463-65021'\n",
      "content='ledge' id=b'1712988993463-65021'\n",
      "content='/' id=b'1712988993463-65021'\n",
      "content='{' id=b'1712988993463-65021'\n",
      "content='id' id=b'1712988993463-65021'\n",
      "content='}' id=b'1712988993463-65021'\n",
      "content='' id=b'1712988993463-65021'\n",
      "content='2' id=b'1712988993463-65021'\n",
      "content='.' id=b'1712988993463-65021'\n",
      "content='  /' id=b'1712988993463-65021'\n",
      "content='model' id=b'1712988993463-65021'\n",
      "content='-' id=b'1712988993463-65021'\n",
      "content='api' id=b'1712988993463-65021'\n",
      "content='/' id=b'1712988993463-65021'\n",
      "content='{' id=b'1712988993463-65021'\n",
      "content='id' id=b'1712988993463-65021'\n",
      "content='}/' id=b'1712988993463-65021'\n",
      "content='inv' id=b'1712988993463-65021'\n",
      "content='oke' id=b'1712988993463-65021'\n",
      "content='' id=b'1712988993463-65021'\n",
      "content='3' id=b'1712988993463-65021'\n",
      "content='.' id=b'1712988993463-65021'\n",
      "content='  /' id=b'1712988993463-65021'\n",
      "content='document' id=b'1712988993463-65021'\n",
      "content='/' id=b'1712988993463-65021'\n",
      "content='emb' id=b'1712988993463-65021'\n",
      "content='edding' id=b'1712988993463-65021'\n",
      "content='/' id=b'1712988993463-65021'\n",
      "content='{' id=b'1712988993463-65021'\n",
      "content='id' id=b'1712988993463-65021'\n",
      "content='}' id=b'1712988993463-65021'\n",
      "content='' id=b'1712988993463-65021'\n",
      "content='' id=b'1712988993463-65021'\n"
     ]
    }
   ],
   "source": [
    "async for x in zhipuK.astream([{\"role\": \"user\", \"content\": \"列举三条智谱的API接口名称\"}]):\n",
    "    print(x, flush=True)"
   ]
  },
  {
   "cell_type": "code",
   "execution_count": 6,
   "metadata": {},
   "outputs": [
    {
     "name": "stderr",
     "output_type": "stream",
     "text": [
      "/Users/xuehongwei/Library/Caches/pypoetry/virtualenvs/langchain-zhipu-Ddey8KS3-py3.9/lib/python3.9/site-packages/langchain_core/_api/beta_decorator.py:86: LangChainBetaWarning: This API is in beta and may change in the future.\n",
      "  warn_beta(\n"
     ]
    },
    {
     "name": "stdout",
     "output_type": "stream",
     "text": [
      "{'event': 'on_chat_model_start', 'run_id': '6c053153-058e-46c5-a3ca-e84eb5fc3580', 'name': 'KnowledgeChatZhipuAI', 'tags': [], 'metadata': {}, 'data': {'input': '列举三条智谱的API接口名称'}}\n",
      "{'event': 'on_chat_model_stream', 'run_id': '6c053153-058e-46c5-a3ca-e84eb5fc3580', 'tags': [], 'metadata': {}, 'name': 'KnowledgeChatZhipuAI', 'data': {'chunk': AIMessageChunk(content='  ', id=b'1713611529982-753982')}}\n",
      "{'event': 'on_chat_model_stream', 'run_id': '6c053153-058e-46c5-a3ca-e84eb5fc3580', 'tags': [], 'metadata': {}, 'name': 'KnowledgeChatZhipuAI', 'data': {'chunk': AIMessageChunk(content='1', id=b'1713611529982-753982')}}\n",
      "{'event': 'on_chat_model_stream', 'run_id': '6c053153-058e-46c5-a3ca-e84eb5fc3580', 'tags': [], 'metadata': {}, 'name': 'KnowledgeChatZhipuAI', 'data': {'chunk': AIMessageChunk(content='.', id=b'1713611529982-753982')}}\n",
      "{'event': 'on_chat_model_stream', 'run_id': '6c053153-058e-46c5-a3ca-e84eb5fc3580', 'tags': [], 'metadata': {}, 'name': 'KnowledgeChatZhipuAI', 'data': {'chunk': AIMessageChunk(content='  ', id=b'1713611529982-753982')}}\n",
      "{'event': 'on_chat_model_stream', 'run_id': '6c053153-058e-46c5-a3ca-e84eb5fc3580', 'tags': [], 'metadata': {}, 'name': 'KnowledgeChatZhipuAI', 'data': {'chunk': AIMessageChunk(content='获取', id=b'1713611529982-753982')}}\n",
      "{'event': 'on_chat_model_stream', 'run_id': '6c053153-058e-46c5-a3ca-e84eb5fc3580', 'tags': [], 'metadata': {}, 'name': 'KnowledgeChatZhipuAI', 'data': {'chunk': AIMessageChunk(content='指定', id=b'1713611529982-753982')}}\n",
      "{'event': 'on_chat_model_stream', 'run_id': '6c053153-058e-46c5-a3ca-e84eb5fc3580', 'tags': [], 'metadata': {}, 'name': 'KnowledgeChatZhipuAI', 'data': {'chunk': AIMessageChunk(content='id', id=b'1713611529982-753982')}}\n",
      "{'event': 'on_chat_model_stream', 'run_id': '6c053153-058e-46c5-a3ca-e84eb5fc3580', 'tags': [], 'metadata': {}, 'name': 'KnowledgeChatZhipuAI', 'data': {'chunk': AIMessageChunk(content='的知识', id=b'1713611529982-753982')}}\n",
      "{'event': 'on_chat_model_stream', 'run_id': '6c053153-058e-46c5-a3ca-e84eb5fc3580', 'tags': [], 'metadata': {}, 'name': 'KnowledgeChatZhipuAI', 'data': {'chunk': AIMessageChunk(content='库', id=b'1713611529982-753982')}}\n",
      "{'event': 'on_chat_model_stream', 'run_id': '6c053153-058e-46c5-a3ca-e84eb5fc3580', 'tags': [], 'metadata': {}, 'name': 'KnowledgeChatZhipuAI', 'data': {'chunk': AIMessageChunk(content='信息', id=b'1713611529982-753982')}}\n",
      "{'event': 'on_chat_model_stream', 'run_id': '6c053153-058e-46c5-a3ca-e84eb5fc3580', 'tags': [], 'metadata': {}, 'name': 'KnowledgeChatZhipuAI', 'data': {'chunk': AIMessageChunk(content='', id=b'1713611529982-753982')}}\n",
      "{'event': 'on_chat_model_stream', 'run_id': '6c053153-058e-46c5-a3ca-e84eb5fc3580', 'tags': [], 'metadata': {}, 'name': 'KnowledgeChatZhipuAI', 'data': {'chunk': AIMessageChunk(content='    ', id=b'1713611529982-753982')}}\n",
      "{'event': 'on_chat_model_stream', 'run_id': '6c053153-058e-46c5-a3ca-e84eb5fc3580', 'tags': [], 'metadata': {}, 'name': 'KnowledgeChatZhipuAI', 'data': {'chunk': AIMessageChunk(content='接口', id=b'1713611529982-753982')}}\n",
      "{'event': 'on_chat_model_stream', 'run_id': '6c053153-058e-46c5-a3ca-e84eb5fc3580', 'tags': [], 'metadata': {}, 'name': 'KnowledgeChatZhipuAI', 'data': {'chunk': AIMessageChunk(content='名称', id=b'1713611529982-753982')}}\n",
      "{'event': 'on_chat_model_stream', 'run_id': '6c053153-058e-46c5-a3ca-e84eb5fc3580', 'tags': [], 'metadata': {}, 'name': 'KnowledgeChatZhipuAI', 'data': {'chunk': AIMessageChunk(content='：', id=b'1713611529982-753982')}}\n",
      "{'event': 'on_chat_model_stream', 'run_id': '6c053153-058e-46c5-a3ca-e84eb5fc3580', 'tags': [], 'metadata': {}, 'name': 'KnowledgeChatZhipuAI', 'data': {'chunk': AIMessageChunk(content='/', id=b'1713611529982-753982')}}\n",
      "{'event': 'on_chat_model_stream', 'run_id': '6c053153-058e-46c5-a3ca-e84eb5fc3580', 'tags': [], 'metadata': {}, 'name': 'KnowledgeChatZhipuAI', 'data': {'chunk': AIMessageChunk(content='know', id=b'1713611529982-753982')}}\n",
      "{'event': 'on_chat_model_stream', 'run_id': '6c053153-058e-46c5-a3ca-e84eb5fc3580', 'tags': [], 'metadata': {}, 'name': 'KnowledgeChatZhipuAI', 'data': {'chunk': AIMessageChunk(content='ledge', id=b'1713611529982-753982')}}\n",
      "{'event': 'on_chat_model_stream', 'run_id': '6c053153-058e-46c5-a3ca-e84eb5fc3580', 'tags': [], 'metadata': {}, 'name': 'KnowledgeChatZhipuAI', 'data': {'chunk': AIMessageChunk(content='/', id=b'1713611529982-753982')}}\n",
      "{'event': 'on_chat_model_stream', 'run_id': '6c053153-058e-46c5-a3ca-e84eb5fc3580', 'tags': [], 'metadata': {}, 'name': 'KnowledgeChatZhipuAI', 'data': {'chunk': AIMessageChunk(content='{', id=b'1713611529982-753982')}}\n",
      "{'event': 'on_chat_model_stream', 'run_id': '6c053153-058e-46c5-a3ca-e84eb5fc3580', 'tags': [], 'metadata': {}, 'name': 'KnowledgeChatZhipuAI', 'data': {'chunk': AIMessageChunk(content='id', id=b'1713611529982-753982')}}\n",
      "{'event': 'on_chat_model_stream', 'run_id': '6c053153-058e-46c5-a3ca-e84eb5fc3580', 'tags': [], 'metadata': {}, 'name': 'KnowledgeChatZhipuAI', 'data': {'chunk': AIMessageChunk(content='}', id=b'1713611529982-753982')}}\n",
      "{'event': 'on_chat_model_stream', 'run_id': '6c053153-058e-46c5-a3ca-e84eb5fc3580', 'tags': [], 'metadata': {}, 'name': 'KnowledgeChatZhipuAI', 'data': {'chunk': AIMessageChunk(content='', id=b'1713611529982-753982')}}\n",
      "{'event': 'on_chat_model_stream', 'run_id': '6c053153-058e-46c5-a3ca-e84eb5fc3580', 'tags': [], 'metadata': {}, 'name': 'KnowledgeChatZhipuAI', 'data': {'chunk': AIMessageChunk(content='', id=b'1713611529982-753982')}}\n",
      "{'event': 'on_chat_model_stream', 'run_id': '6c053153-058e-46c5-a3ca-e84eb5fc3580', 'tags': [], 'metadata': {}, 'name': 'KnowledgeChatZhipuAI', 'data': {'chunk': AIMessageChunk(content='2', id=b'1713611529982-753982')}}\n",
      "{'event': 'on_chat_model_stream', 'run_id': '6c053153-058e-46c5-a3ca-e84eb5fc3580', 'tags': [], 'metadata': {}, 'name': 'KnowledgeChatZhipuAI', 'data': {'chunk': AIMessageChunk(content='.', id=b'1713611529982-753982')}}\n",
      "{'event': 'on_chat_model_stream', 'run_id': '6c053153-058e-46c5-a3ca-e84eb5fc3580', 'tags': [], 'metadata': {}, 'name': 'KnowledgeChatZhipuAI', 'data': {'chunk': AIMessageChunk(content='  编辑', id=b'1713611529982-753982')}}\n",
      "{'event': 'on_chat_model_stream', 'run_id': '6c053153-058e-46c5-a3ca-e84eb5fc3580', 'tags': [], 'metadata': {}, 'name': 'KnowledgeChatZhipuAI', 'data': {'chunk': AIMessageChunk(content='知识', id=b'1713611529982-753982')}}\n",
      "{'event': 'on_chat_model_stream', 'run_id': '6c053153-058e-46c5-a3ca-e84eb5fc3580', 'tags': [], 'metadata': {}, 'name': 'KnowledgeChatZhipuAI', 'data': {'chunk': AIMessageChunk(content='库', id=b'1713611529982-753982')}}\n",
      "{'event': 'on_chat_model_stream', 'run_id': '6c053153-058e-46c5-a3ca-e84eb5fc3580', 'tags': [], 'metadata': {}, 'name': 'KnowledgeChatZhipuAI', 'data': {'chunk': AIMessageChunk(content='', id=b'1713611529982-753982')}}\n",
      "{'event': 'on_chat_model_stream', 'run_id': '6c053153-058e-46c5-a3ca-e84eb5fc3580', 'tags': [], 'metadata': {}, 'name': 'KnowledgeChatZhipuAI', 'data': {'chunk': AIMessageChunk(content='    ', id=b'1713611529982-753982')}}\n",
      "{'event': 'on_chat_model_stream', 'run_id': '6c053153-058e-46c5-a3ca-e84eb5fc3580', 'tags': [], 'metadata': {}, 'name': 'KnowledgeChatZhipuAI', 'data': {'chunk': AIMessageChunk(content='接口', id=b'1713611529982-753982')}}\n",
      "{'event': 'on_chat_model_stream', 'run_id': '6c053153-058e-46c5-a3ca-e84eb5fc3580', 'tags': [], 'metadata': {}, 'name': 'KnowledgeChatZhipuAI', 'data': {'chunk': AIMessageChunk(content='名称', id=b'1713611529982-753982')}}\n",
      "{'event': 'on_chat_model_stream', 'run_id': '6c053153-058e-46c5-a3ca-e84eb5fc3580', 'tags': [], 'metadata': {}, 'name': 'KnowledgeChatZhipuAI', 'data': {'chunk': AIMessageChunk(content='：', id=b'1713611529982-753982')}}\n",
      "{'event': 'on_chat_model_stream', 'run_id': '6c053153-058e-46c5-a3ca-e84eb5fc3580', 'tags': [], 'metadata': {}, 'name': 'KnowledgeChatZhipuAI', 'data': {'chunk': AIMessageChunk(content='/', id=b'1713611529982-753982')}}\n",
      "{'event': 'on_chat_model_stream', 'run_id': '6c053153-058e-46c5-a3ca-e84eb5fc3580', 'tags': [], 'metadata': {}, 'name': 'KnowledgeChatZhipuAI', 'data': {'chunk': AIMessageChunk(content='know', id=b'1713611529982-753982')}}\n",
      "{'event': 'on_chat_model_stream', 'run_id': '6c053153-058e-46c5-a3ca-e84eb5fc3580', 'tags': [], 'metadata': {}, 'name': 'KnowledgeChatZhipuAI', 'data': {'chunk': AIMessageChunk(content='ledge', id=b'1713611529982-753982')}}\n",
      "{'event': 'on_chat_model_stream', 'run_id': '6c053153-058e-46c5-a3ca-e84eb5fc3580', 'tags': [], 'metadata': {}, 'name': 'KnowledgeChatZhipuAI', 'data': {'chunk': AIMessageChunk(content='/', id=b'1713611529982-753982')}}\n",
      "{'event': 'on_chat_model_stream', 'run_id': '6c053153-058e-46c5-a3ca-e84eb5fc3580', 'tags': [], 'metadata': {}, 'name': 'KnowledgeChatZhipuAI', 'data': {'chunk': AIMessageChunk(content='{', id=b'1713611529982-753982')}}\n",
      "{'event': 'on_chat_model_stream', 'run_id': '6c053153-058e-46c5-a3ca-e84eb5fc3580', 'tags': [], 'metadata': {}, 'name': 'KnowledgeChatZhipuAI', 'data': {'chunk': AIMessageChunk(content='id', id=b'1713611529982-753982')}}\n",
      "{'event': 'on_chat_model_stream', 'run_id': '6c053153-058e-46c5-a3ca-e84eb5fc3580', 'tags': [], 'metadata': {}, 'name': 'KnowledgeChatZhipuAI', 'data': {'chunk': AIMessageChunk(content='}', id=b'1713611529982-753982')}}\n",
      "{'event': 'on_chat_model_stream', 'run_id': '6c053153-058e-46c5-a3ca-e84eb5fc3580', 'tags': [], 'metadata': {}, 'name': 'KnowledgeChatZhipuAI', 'data': {'chunk': AIMessageChunk(content='', id=b'1713611529982-753982')}}\n",
      "{'event': 'on_chat_model_stream', 'run_id': '6c053153-058e-46c5-a3ca-e84eb5fc3580', 'tags': [], 'metadata': {}, 'name': 'KnowledgeChatZhipuAI', 'data': {'chunk': AIMessageChunk(content='', id=b'1713611529982-753982')}}\n",
      "{'event': 'on_chat_model_stream', 'run_id': '6c053153-058e-46c5-a3ca-e84eb5fc3580', 'tags': [], 'metadata': {}, 'name': 'KnowledgeChatZhipuAI', 'data': {'chunk': AIMessageChunk(content='3', id=b'1713611529982-753982')}}\n",
      "{'event': 'on_chat_model_stream', 'run_id': '6c053153-058e-46c5-a3ca-e84eb5fc3580', 'tags': [], 'metadata': {}, 'name': 'KnowledgeChatZhipuAI', 'data': {'chunk': AIMessageChunk(content='.', id=b'1713611529982-753982')}}\n",
      "{'event': 'on_chat_model_stream', 'run_id': '6c053153-058e-46c5-a3ca-e84eb5fc3580', 'tags': [], 'metadata': {}, 'name': 'KnowledgeChatZhipuAI', 'data': {'chunk': AIMessageChunk(content='  ', id=b'1713611529982-753982')}}\n",
      "{'event': 'on_chat_model_stream', 'run_id': '6c053153-058e-46c5-a3ca-e84eb5fc3580', 'tags': [], 'metadata': {}, 'name': 'KnowledgeChatZhipuAI', 'data': {'chunk': AIMessageChunk(content='获取', id=b'1713611529982-753982')}}\n",
      "{'event': 'on_chat_model_stream', 'run_id': '6c053153-058e-46c5-a3ca-e84eb5fc3580', 'tags': [], 'metadata': {}, 'name': 'KnowledgeChatZhipuAI', 'data': {'chunk': AIMessageChunk(content='调用', id=b'1713611529982-753982')}}\n",
      "{'event': 'on_chat_model_stream', 'run_id': '6c053153-058e-46c5-a3ca-e84eb5fc3580', 'tags': [], 'metadata': {}, 'name': 'KnowledgeChatZhipuAI', 'data': {'chunk': AIMessageChunk(content='应用', id=b'1713611529982-753982')}}\n",
      "{'event': 'on_chat_model_stream', 'run_id': '6c053153-058e-46c5-a3ca-e84eb5fc3580', 'tags': [], 'metadata': {}, 'name': 'KnowledgeChatZhipuAI', 'data': {'chunk': AIMessageChunk(content='对话', id=b'1713611529982-753982')}}\n",
      "{'event': 'on_chat_model_stream', 'run_id': '6c053153-058e-46c5-a3ca-e84eb5fc3580', 'tags': [], 'metadata': {}, 'name': 'KnowledgeChatZhipuAI', 'data': {'chunk': AIMessageChunk(content='所', id=b'1713611529982-753982')}}\n",
      "{'event': 'on_chat_model_stream', 'run_id': '6c053153-058e-46c5-a3ca-e84eb5fc3580', 'tags': [], 'metadata': {}, 'name': 'KnowledgeChatZhipuAI', 'data': {'chunk': AIMessageChunk(content='匹配', id=b'1713611529982-753982')}}\n",
      "{'event': 'on_chat_model_stream', 'run_id': '6c053153-058e-46c5-a3ca-e84eb5fc3580', 'tags': [], 'metadata': {}, 'name': 'KnowledgeChatZhipuAI', 'data': {'chunk': AIMessageChunk(content='的', id=b'1713611529982-753982')}}\n",
      "{'event': 'on_chat_model_stream', 'run_id': '6c053153-058e-46c5-a3ca-e84eb5fc3580', 'tags': [], 'metadata': {}, 'name': 'KnowledgeChatZhipuAI', 'data': {'chunk': AIMessageChunk(content='切片', id=b'1713611529982-753982')}}\n",
      "{'event': 'on_chat_model_stream', 'run_id': '6c053153-058e-46c5-a3ca-e84eb5fc3580', 'tags': [], 'metadata': {}, 'name': 'KnowledgeChatZhipuAI', 'data': {'chunk': AIMessageChunk(content='位置', id=b'1713611529982-753982')}}\n",
      "{'event': 'on_chat_model_stream', 'run_id': '6c053153-058e-46c5-a3ca-e84eb5fc3580', 'tags': [], 'metadata': {}, 'name': 'KnowledgeChatZhipuAI', 'data': {'chunk': AIMessageChunk(content='信息', id=b'1713611529982-753982')}}\n",
      "{'event': 'on_chat_model_stream', 'run_id': '6c053153-058e-46c5-a3ca-e84eb5fc3580', 'tags': [], 'metadata': {}, 'name': 'KnowledgeChatZhipuAI', 'data': {'chunk': AIMessageChunk(content='', id=b'1713611529982-753982')}}\n",
      "{'event': 'on_chat_model_stream', 'run_id': '6c053153-058e-46c5-a3ca-e84eb5fc3580', 'tags': [], 'metadata': {}, 'name': 'KnowledgeChatZhipuAI', 'data': {'chunk': AIMessageChunk(content='    ', id=b'1713611529982-753982')}}\n",
      "{'event': 'on_chat_model_stream', 'run_id': '6c053153-058e-46c5-a3ca-e84eb5fc3580', 'tags': [], 'metadata': {}, 'name': 'KnowledgeChatZhipuAI', 'data': {'chunk': AIMessageChunk(content='接口', id=b'1713611529982-753982')}}\n",
      "{'event': 'on_chat_model_stream', 'run_id': '6c053153-058e-46c5-a3ca-e84eb5fc3580', 'tags': [], 'metadata': {}, 'name': 'KnowledgeChatZhipuAI', 'data': {'chunk': AIMessageChunk(content='名称', id=b'1713611529982-753982')}}\n",
      "{'event': 'on_chat_model_stream', 'run_id': '6c053153-058e-46c5-a3ca-e84eb5fc3580', 'tags': [], 'metadata': {}, 'name': 'KnowledgeChatZhipuAI', 'data': {'chunk': AIMessageChunk(content='：', id=b'1713611529982-753982')}}\n",
      "{'event': 'on_chat_model_stream', 'run_id': '6c053153-058e-46c5-a3ca-e84eb5fc3580', 'tags': [], 'metadata': {}, 'name': 'KnowledgeChatZhipuAI', 'data': {'chunk': AIMessageChunk(content='/', id=b'1713611529982-753982')}}\n",
      "{'event': 'on_chat_model_stream', 'run_id': '6c053153-058e-46c5-a3ca-e84eb5fc3580', 'tags': [], 'metadata': {}, 'name': 'KnowledgeChatZhipuAI', 'data': {'chunk': AIMessageChunk(content='v', id=b'1713611529982-753982')}}\n",
      "{'event': 'on_chat_model_stream', 'run_id': '6c053153-058e-46c5-a3ca-e84eb5fc3580', 'tags': [], 'metadata': {}, 'name': 'KnowledgeChatZhipuAI', 'data': {'chunk': AIMessageChunk(content='2', id=b'1713611529982-753982')}}\n",
      "{'event': 'on_chat_model_stream', 'run_id': '6c053153-058e-46c5-a3ca-e84eb5fc3580', 'tags': [], 'metadata': {}, 'name': 'KnowledgeChatZhipuAI', 'data': {'chunk': AIMessageChunk(content='/', id=b'1713611529982-753982')}}\n",
      "{'event': 'on_chat_model_stream', 'run_id': '6c053153-058e-46c5-a3ca-e84eb5fc3580', 'tags': [], 'metadata': {}, 'name': 'KnowledgeChatZhipuAI', 'data': {'chunk': AIMessageChunk(content='{', id=b'1713611529982-753982')}}\n",
      "{'event': 'on_chat_model_stream', 'run_id': '6c053153-058e-46c5-a3ca-e84eb5fc3580', 'tags': [], 'metadata': {}, 'name': 'KnowledgeChatZhipuAI', 'data': {'chunk': AIMessageChunk(content='request', id=b'1713611529982-753982')}}\n",
      "{'event': 'on_chat_model_stream', 'run_id': '6c053153-058e-46c5-a3ca-e84eb5fc3580', 'tags': [], 'metadata': {}, 'name': 'KnowledgeChatZhipuAI', 'data': {'chunk': AIMessageChunk(content='_', id=b'1713611529982-753982')}}\n",
      "{'event': 'on_chat_model_stream', 'run_id': '6c053153-058e-46c5-a3ca-e84eb5fc3580', 'tags': [], 'metadata': {}, 'name': 'KnowledgeChatZhipuAI', 'data': {'chunk': AIMessageChunk(content='id', id=b'1713611529982-753982')}}\n",
      "{'event': 'on_chat_model_stream', 'run_id': '6c053153-058e-46c5-a3ca-e84eb5fc3580', 'tags': [], 'metadata': {}, 'name': 'KnowledgeChatZhipuAI', 'data': {'chunk': AIMessageChunk(content='}/', id=b'1713611529982-753982')}}\n",
      "{'event': 'on_chat_model_stream', 'run_id': '6c053153-058e-46c5-a3ca-e84eb5fc3580', 'tags': [], 'metadata': {}, 'name': 'KnowledgeChatZhipuAI', 'data': {'chunk': AIMessageChunk(content='sl', id=b'1713611529982-753982')}}\n",
      "{'event': 'on_chat_model_stream', 'run_id': '6c053153-058e-46c5-a3ca-e84eb5fc3580', 'tags': [], 'metadata': {}, 'name': 'KnowledgeChatZhipuAI', 'data': {'chunk': AIMessageChunk(content='ice', id=b'1713611529982-753982')}}\n",
      "{'event': 'on_chat_model_stream', 'run_id': '6c053153-058e-46c5-a3ca-e84eb5fc3580', 'tags': [], 'metadata': {}, 'name': 'KnowledgeChatZhipuAI', 'data': {'chunk': AIMessageChunk(content='_', id=b'1713611529982-753982')}}\n",
      "{'event': 'on_chat_model_stream', 'run_id': '6c053153-058e-46c5-a3ca-e84eb5fc3580', 'tags': [], 'metadata': {}, 'name': 'KnowledgeChatZhipuAI', 'data': {'chunk': AIMessageChunk(content='info', id=b'1713611529982-753982')}}\n",
      "{'event': 'on_chat_model_stream', 'run_id': '6c053153-058e-46c5-a3ca-e84eb5fc3580', 'tags': [], 'metadata': {}, 'name': 'KnowledgeChatZhipuAI', 'data': {'chunk': AIMessageChunk(content='', id=b'1713611529982-753982')}}\n",
      "{'event': 'on_chat_model_stream', 'run_id': '6c053153-058e-46c5-a3ca-e84eb5fc3580', 'tags': [], 'metadata': {}, 'name': 'KnowledgeChatZhipuAI', 'data': {'chunk': AIMessageChunk(content='', id=b'1713611529982-753982')}}\n",
      "{'event': 'on_chat_model_end', 'name': 'KnowledgeChatZhipuAI', 'run_id': '6c053153-058e-46c5-a3ca-e84eb5fc3580', 'tags': [], 'metadata': {}, 'data': {'output': AIMessageChunk(content='  1.  获取指定id的知识库信息    接口名称：/knowledge/{id}2.  编辑知识库    接口名称：/knowledge/{id}3.  获取调用应用对话所匹配的切片位置信息    接口名称：/v2/{request_id}/slice_info')}}\n"
     ]
    }
   ],
   "source": [
    "async for x in zhipuK.astream_events(\"列举三条智谱的API接口名称\", version=\"v1\"):\n",
    "    print(x)"
   ]
  },
  {
   "cell_type": "markdown",
   "metadata": {},
   "source": [
    "实测证明，App应用无法调用tools。"
   ]
  }
 ],
 "metadata": {
  "kernelspec": {
   "display_name": "langchain-zhipu-Ddey8KS3-py3.9",
   "language": "python",
   "name": "python3"
  },
  "language_info": {
   "codemirror_mode": {
    "name": "ipython",
    "version": 3
   },
   "file_extension": ".py",
   "mimetype": "text/x-python",
   "name": "python",
   "nbconvert_exporter": "python",
   "pygments_lexer": "ipython3",
   "version": "3.9.18"
  }
 },
 "nbformat": 4,
 "nbformat_minor": 2
}

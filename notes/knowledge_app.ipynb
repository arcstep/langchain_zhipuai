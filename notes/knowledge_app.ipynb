{
 "cells": [
  {
   "cell_type": "code",
   "execution_count": 1,
   "metadata": {},
   "outputs": [
    {
     "name": "stdout",
     "output_type": "stream",
     "text": [
      "/Users/xuehongwei/github/langchain_zhipuai\n"
     ]
    }
   ],
   "source": [
    "from dotenv import load_dotenv, find_dotenv\n",
    "load_dotenv(find_dotenv(), override=True)\n",
    "import os\n",
    "os.chdir('..')\n",
    "print(os.getcwd())"
   ]
  },
  {
   "cell_type": "markdown",
   "metadata": {},
   "source": [
    "# ZhipuAIKnowledge"
   ]
  },
  {
   "cell_type": "code",
   "execution_count": 2,
   "metadata": {},
   "outputs": [],
   "source": [
    "from langchain_zhipu import KnowledgeChatZhipuAI"
   ]
  },
  {
   "cell_type": "markdown",
   "metadata": {},
   "source": [
    "## 定义知识库访问实例"
   ]
  },
  {
   "cell_type": "code",
   "execution_count": 3,
   "metadata": {},
   "outputs": [],
   "source": [
    "zhipuK = KnowledgeChatZhipuAI(application_id=\"1777526511843352576\")"
   ]
  },
  {
   "cell_type": "code",
   "execution_count": 10,
   "metadata": {},
   "outputs": [
    {
     "data": {
      "text/plain": [
       "{'id': '1712663415761-546538',\n",
       " 'created': 1712663421,\n",
       " 'model': 'glm-4',\n",
       " 'usage': {},\n",
       " 'choices': [{'index': 0,\n",
       "   'finish_reason': 'stop',\n",
       "   'message': {'role': 'assistant',\n",
       "    'content': '\" 智谱的API接口名称：/knowledge/{id}\"'}}]}"
      ]
     },
     "execution_count": 10,
     "metadata": {},
     "output_type": "execute_result"
    }
   ],
   "source": [
    "zhipuK._ask_remote([{\"role\": \"user\", \"content\": \"列举一条智谱的API接口名称\"}])"
   ]
  },
  {
   "cell_type": "code",
   "execution_count": 11,
   "metadata": {},
   "outputs": [
    {
     "data": {
      "text/plain": [
       "AIMessage(content='\" 一条智谱的API接口名称可以是：/knowledge/{id}\"')"
      ]
     },
     "execution_count": 11,
     "metadata": {},
     "output_type": "execute_result"
    }
   ],
   "source": [
    "zhipuK.invoke([{\"role\": \"user\", \"content\": \"列举一条智谱的API接口名称\"}])"
   ]
  },
  {
   "cell_type": "code",
   "execution_count": 12,
   "metadata": {},
   "outputs": [
    {
     "name": "stdout",
     "output_type": "stream",
     "text": [
      "  |1|.|  /|know|ledge|/|{|id|}||2|.|  /|model|-|api|/|{|id|}/|inv|oke||3|.|  /|document|/|emb|edding|/|{|id|}||"
     ]
    }
   ],
   "source": [
    "for x in zhipuK._ask_remote_sse([{\"role\": \"user\", \"content\": \"列举三条智谱的API接口名称\"}]):\n",
    "    # print(x)\n",
    "    print(x[\"choices\"][0][\"delta\"][\"content\"], end=\"|\", flush=True)"
   ]
  },
  {
   "cell_type": "code",
   "execution_count": 13,
   "metadata": {},
   "outputs": [
    {
     "name": "stdout",
     "output_type": "stream",
     "text": [
      "  |一条|智|谱|的|API|接口|名称|可以是|：|/|know|ledge|/|{|id|}||"
     ]
    }
   ],
   "source": [
    "for x in zhipuK.stream([{\"role\": \"user\", \"content\": \"列举一条智谱的API接口名称\"}]):\n",
    "    print(x.content, end=\"|\")"
   ]
  },
  {
   "cell_type": "code",
   "execution_count": 6,
   "metadata": {},
   "outputs": [
    {
     "name": "stdout",
     "output_type": "stream",
     "text": [
      "content='  ' id=b'1712663676087-221067'\n",
      "content='1' id=b'1712663676087-221067'\n",
      "content='.' id=b'1712663676087-221067'\n",
      "content='  ' id=b'1712663676087-221067'\n",
      "content='获取' id=b'1712663676087-221067'\n",
      "content='向' id=b'1712663676087-221067'\n",
      "content='量' id=b'1712663676087-221067'\n",
      "content='模型' id=b'1712663676087-221067'\n",
      "content='列表' id=b'1712663676087-221067'\n",
      "content='接口' id=b'1712663676087-221067'\n",
      "content='' id=b'1712663676087-221067'\n",
      "content='2' id=b'1712663676087-221067'\n",
      "content='.' id=b'1712663676087-221067'\n",
      "content='  ' id=b'1712663676087-221067'\n",
      "content='获取' id=b'1712663676087-221067'\n",
      "content='当前' id=b'1712663676087-221067'\n",
      "content='支持' id=b'1712663676087-221067'\n",
      "content='的知识' id=b'1712663676087-221067'\n",
      "content='库' id=b'1712663676087-221067'\n",
      "content='列表' id=b'1712663676087-221067'\n",
      "content='接口' id=b'1712663676087-221067'\n",
      "content='' id=b'1712663676087-221067'\n",
      "content='3' id=b'1712663676087-221067'\n",
      "content='.' id=b'1712663676087-221067'\n",
      "content='  ' id=b'1712663676087-221067'\n",
      "content='获取' id=b'1712663676087-221067'\n",
      "content='指定' id=b'1712663676087-221067'\n",
      "content='知识' id=b'1712663676087-221067'\n",
      "content='库' id=b'1712663676087-221067'\n",
      "content='的' id=b'1712663676087-221067'\n",
      "content='详细' id=b'1712663676087-221067'\n",
      "content='信息' id=b'1712663676087-221067'\n",
      "content='接口' id=b'1712663676087-221067'\n",
      "content='' id=b'1712663676087-221067'\n"
     ]
    }
   ],
   "source": [
    "async for x in zhipuK.astream([{\"role\": \"user\", \"content\": \"列举三条智谱的API接口名称\"}]):\n",
    "    print(x)"
   ]
  },
  {
   "cell_type": "code",
   "execution_count": 8,
   "metadata": {},
   "outputs": [
    {
     "name": "stdout",
     "output_type": "stream",
     "text": [
      "{'event': 'on_chat_model_start', 'run_id': 'af8469d8-e605-4513-b509-4ecf6d5e2b7a', 'name': 'KnowledgeChatZhipuAI', 'tags': [], 'metadata': {}, 'data': {'input': [{'role': 'user', 'content': '列举三条智谱的API接口名称'}]}}\n",
      "{'event': 'on_chat_model_stream', 'run_id': 'af8469d8-e605-4513-b509-4ecf6d5e2b7a', 'tags': [], 'metadata': {}, 'name': 'KnowledgeChatZhipuAI', 'data': {'chunk': AIMessageChunk(content='  ', id=b'1712663801384-613390')}}\n",
      "{'event': 'on_chat_model_stream', 'run_id': 'af8469d8-e605-4513-b509-4ecf6d5e2b7a', 'tags': [], 'metadata': {}, 'name': 'KnowledgeChatZhipuAI', 'data': {'chunk': AIMessageChunk(content='1', id=b'1712663801384-613390')}}\n",
      "{'event': 'on_chat_model_stream', 'run_id': 'af8469d8-e605-4513-b509-4ecf6d5e2b7a', 'tags': [], 'metadata': {}, 'name': 'KnowledgeChatZhipuAI', 'data': {'chunk': AIMessageChunk(content='.', id=b'1712663801384-613390')}}\n",
      "{'event': 'on_chat_model_stream', 'run_id': 'af8469d8-e605-4513-b509-4ecf6d5e2b7a', 'tags': [], 'metadata': {}, 'name': 'KnowledgeChatZhipuAI', 'data': {'chunk': AIMessageChunk(content='  ', id=b'1712663801384-613390')}}\n",
      "{'event': 'on_chat_model_stream', 'run_id': 'af8469d8-e605-4513-b509-4ecf6d5e2b7a', 'tags': [], 'metadata': {}, 'name': 'KnowledgeChatZhipuAI', 'data': {'chunk': AIMessageChunk(content='获取', id=b'1712663801384-613390')}}\n",
      "{'event': 'on_chat_model_stream', 'run_id': 'af8469d8-e605-4513-b509-4ecf6d5e2b7a', 'tags': [], 'metadata': {}, 'name': 'KnowledgeChatZhipuAI', 'data': {'chunk': AIMessageChunk(content='向', id=b'1712663801384-613390')}}\n",
      "{'event': 'on_chat_model_stream', 'run_id': 'af8469d8-e605-4513-b509-4ecf6d5e2b7a', 'tags': [], 'metadata': {}, 'name': 'KnowledgeChatZhipuAI', 'data': {'chunk': AIMessageChunk(content='量', id=b'1712663801384-613390')}}\n",
      "{'event': 'on_chat_model_stream', 'run_id': 'af8469d8-e605-4513-b509-4ecf6d5e2b7a', 'tags': [], 'metadata': {}, 'name': 'KnowledgeChatZhipuAI', 'data': {'chunk': AIMessageChunk(content='模型', id=b'1712663801384-613390')}}\n",
      "{'event': 'on_chat_model_stream', 'run_id': 'af8469d8-e605-4513-b509-4ecf6d5e2b7a', 'tags': [], 'metadata': {}, 'name': 'KnowledgeChatZhipuAI', 'data': {'chunk': AIMessageChunk(content='列表', id=b'1712663801384-613390')}}\n",
      "{'event': 'on_chat_model_stream', 'run_id': 'af8469d8-e605-4513-b509-4ecf6d5e2b7a', 'tags': [], 'metadata': {}, 'name': 'KnowledgeChatZhipuAI', 'data': {'chunk': AIMessageChunk(content='接口', id=b'1712663801384-613390')}}\n",
      "{'event': 'on_chat_model_stream', 'run_id': 'af8469d8-e605-4513-b509-4ecf6d5e2b7a', 'tags': [], 'metadata': {}, 'name': 'KnowledgeChatZhipuAI', 'data': {'chunk': AIMessageChunk(content='', id=b'1712663801384-613390')}}\n",
      "{'event': 'on_chat_model_stream', 'run_id': 'af8469d8-e605-4513-b509-4ecf6d5e2b7a', 'tags': [], 'metadata': {}, 'name': 'KnowledgeChatZhipuAI', 'data': {'chunk': AIMessageChunk(content='2', id=b'1712663801384-613390')}}\n",
      "{'event': 'on_chat_model_stream', 'run_id': 'af8469d8-e605-4513-b509-4ecf6d5e2b7a', 'tags': [], 'metadata': {}, 'name': 'KnowledgeChatZhipuAI', 'data': {'chunk': AIMessageChunk(content='.', id=b'1712663801384-613390')}}\n",
      "{'event': 'on_chat_model_stream', 'run_id': 'af8469d8-e605-4513-b509-4ecf6d5e2b7a', 'tags': [], 'metadata': {}, 'name': 'KnowledgeChatZhipuAI', 'data': {'chunk': AIMessageChunk(content='  ', id=b'1712663801384-613390')}}\n",
      "{'event': 'on_chat_model_stream', 'run_id': 'af8469d8-e605-4513-b509-4ecf6d5e2b7a', 'tags': [], 'metadata': {}, 'name': 'KnowledgeChatZhipuAI', 'data': {'chunk': AIMessageChunk(content='获取', id=b'1712663801384-613390')}}\n",
      "{'event': 'on_chat_model_stream', 'run_id': 'af8469d8-e605-4513-b509-4ecf6d5e2b7a', 'tags': [], 'metadata': {}, 'name': 'KnowledgeChatZhipuAI', 'data': {'chunk': AIMessageChunk(content='当前', id=b'1712663801384-613390')}}\n",
      "{'event': 'on_chat_model_stream', 'run_id': 'af8469d8-e605-4513-b509-4ecf6d5e2b7a', 'tags': [], 'metadata': {}, 'name': 'KnowledgeChatZhipuAI', 'data': {'chunk': AIMessageChunk(content='支持的', id=b'1712663801384-613390')}}\n",
      "{'event': 'on_chat_model_stream', 'run_id': 'af8469d8-e605-4513-b509-4ecf6d5e2b7a', 'tags': [], 'metadata': {}, 'name': 'KnowledgeChatZhipuAI', 'data': {'chunk': AIMessageChunk(content='向', id=b'1712663801384-613390')}}\n",
      "{'event': 'on_chat_model_stream', 'run_id': 'af8469d8-e605-4513-b509-4ecf6d5e2b7a', 'tags': [], 'metadata': {}, 'name': 'KnowledgeChatZhipuAI', 'data': {'chunk': AIMessageChunk(content='量', id=b'1712663801384-613390')}}\n",
      "{'event': 'on_chat_model_stream', 'run_id': 'af8469d8-e605-4513-b509-4ecf6d5e2b7a', 'tags': [], 'metadata': {}, 'name': 'KnowledgeChatZhipuAI', 'data': {'chunk': AIMessageChunk(content='模型', id=b'1712663801384-613390')}}\n",
      "{'event': 'on_chat_model_stream', 'run_id': 'af8469d8-e605-4513-b509-4ecf6d5e2b7a', 'tags': [], 'metadata': {}, 'name': 'KnowledgeChatZhipuAI', 'data': {'chunk': AIMessageChunk(content='列表', id=b'1712663801384-613390')}}\n",
      "{'event': 'on_chat_model_stream', 'run_id': 'af8469d8-e605-4513-b509-4ecf6d5e2b7a', 'tags': [], 'metadata': {}, 'name': 'KnowledgeChatZhipuAI', 'data': {'chunk': AIMessageChunk(content='接口', id=b'1712663801384-613390')}}\n",
      "{'event': 'on_chat_model_stream', 'run_id': 'af8469d8-e605-4513-b509-4ecf6d5e2b7a', 'tags': [], 'metadata': {}, 'name': 'KnowledgeChatZhipuAI', 'data': {'chunk': AIMessageChunk(content='', id=b'1712663801384-613390')}}\n",
      "{'event': 'on_chat_model_stream', 'run_id': 'af8469d8-e605-4513-b509-4ecf6d5e2b7a', 'tags': [], 'metadata': {}, 'name': 'KnowledgeChatZhipuAI', 'data': {'chunk': AIMessageChunk(content='3', id=b'1712663801384-613390')}}\n",
      "{'event': 'on_chat_model_stream', 'run_id': 'af8469d8-e605-4513-b509-4ecf6d5e2b7a', 'tags': [], 'metadata': {}, 'name': 'KnowledgeChatZhipuAI', 'data': {'chunk': AIMessageChunk(content='.', id=b'1712663801384-613390')}}\n",
      "{'event': 'on_chat_model_stream', 'run_id': 'af8469d8-e605-4513-b509-4ecf6d5e2b7a', 'tags': [], 'metadata': {}, 'name': 'KnowledgeChatZhipuAI', 'data': {'chunk': AIMessageChunk(content='  ', id=b'1712663801384-613390')}}\n",
      "{'event': 'on_chat_model_stream', 'run_id': 'af8469d8-e605-4513-b509-4ecf6d5e2b7a', 'tags': [], 'metadata': {}, 'name': 'KnowledgeChatZhipuAI', 'data': {'chunk': AIMessageChunk(content='获取', id=b'1712663801384-613390')}}\n",
      "{'event': 'on_chat_model_stream', 'run_id': 'af8469d8-e605-4513-b509-4ecf6d5e2b7a', 'tags': [], 'metadata': {}, 'name': 'KnowledgeChatZhipuAI', 'data': {'chunk': AIMessageChunk(content='调', id=b'1712663801384-613390')}}\n",
      "{'event': 'on_chat_model_stream', 'run_id': 'af8469d8-e605-4513-b509-4ecf6d5e2b7a', 'tags': [], 'metadata': {}, 'name': 'KnowledgeChatZhipuAI', 'data': {'chunk': AIMessageChunk(content='用的', id=b'1712663801384-613390')}}\n",
      "{'event': 'on_chat_model_stream', 'run_id': 'af8469d8-e605-4513-b509-4ecf6d5e2b7a', 'tags': [], 'metadata': {}, 'name': 'KnowledgeChatZhipuAI', 'data': {'chunk': AIMessageChunk(content='应用', id=b'1712663801384-613390')}}\n",
      "{'event': 'on_chat_model_stream', 'run_id': 'af8469d8-e605-4513-b509-4ecf6d5e2b7a', 'tags': [], 'metadata': {}, 'name': 'KnowledgeChatZhipuAI', 'data': {'chunk': AIMessageChunk(content='对话', id=b'1712663801384-613390')}}\n",
      "{'event': 'on_chat_model_stream', 'run_id': 'af8469d8-e605-4513-b509-4ecf6d5e2b7a', 'tags': [], 'metadata': {}, 'name': 'KnowledgeChatZhipuAI', 'data': {'chunk': AIMessageChunk(content='接口', id=b'1712663801384-613390')}}\n",
      "{'event': 'on_chat_model_stream', 'run_id': 'af8469d8-e605-4513-b509-4ecf6d5e2b7a', 'tags': [], 'metadata': {}, 'name': 'KnowledgeChatZhipuAI', 'data': {'chunk': AIMessageChunk(content='', id=b'1712663801384-613390')}}\n",
      "{'event': 'on_chat_model_end', 'name': 'KnowledgeChatZhipuAI', 'run_id': 'af8469d8-e605-4513-b509-4ecf6d5e2b7a', 'tags': [], 'metadata': {}, 'data': {'output': AIMessageChunk(content='  1.  获取向量模型列表接口2.  获取当前支持的向量模型列表接口3.  获取调用的应用对话接口')}}\n"
     ]
    }
   ],
   "source": [
    "async for x in zhipuK.astream_events([{\"role\": \"user\", \"content\": \"列举三条智谱的API接口名称\"}], version=\"v1\"):\n",
    "    print(x)"
   ]
  }
 ],
 "metadata": {
  "kernelspec": {
   "display_name": "langchain-zhipu-Ddey8KS3-py3.9",
   "language": "python",
   "name": "python3"
  },
  "language_info": {
   "codemirror_mode": {
    "name": "ipython",
    "version": 3
   },
   "file_extension": ".py",
   "mimetype": "text/x-python",
   "name": "python",
   "nbconvert_exporter": "python",
   "pygments_lexer": "ipython3",
   "version": "3.9.18"
  }
 },
 "nbformat": 4,
 "nbformat_minor": 2
}

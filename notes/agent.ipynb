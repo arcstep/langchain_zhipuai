{
 "cells": [
  {
   "cell_type": "code",
   "execution_count": 2,
   "metadata": {},
   "outputs": [],
   "source": [
    "from dotenv import load_dotenv, find_dotenv\n",
    "load_dotenv(find_dotenv(), override=True)\n",
    "import os\n",
    "os.chdir('..')"
   ]
  },
  {
   "cell_type": "markdown",
   "metadata": {},
   "source": [
    "要运行下面的例子，你可能需要安装以下依赖包：\n",
    "```shell\n",
    "pip install python-dotenv\n",
    "pip install langchain-experimental\n",
    "pip install pandas\n",
    "pip install tabulate\n",
    "pip install langchain-openai\n",
    "```"
   ]
  },
  {
   "cell_type": "markdown",
   "metadata": {},
   "source": [
    "# 在langchain中智能体"
   ]
  },
  {
   "cell_type": "markdown",
   "metadata": {},
   "source": [
    "## create_pandas_dataframe_agent"
   ]
  },
  {
   "cell_type": "markdown",
   "metadata": {},
   "source": [
    "### 导入智能体"
   ]
  },
  {
   "cell_type": "code",
   "execution_count": 4,
   "metadata": {},
   "outputs": [],
   "source": [
    "# 今天的主角 pandas 智能体\n",
    "from langchain_experimental.agents.agent_toolkits import create_pandas_dataframe_agent"
   ]
  },
  {
   "cell_type": "markdown",
   "metadata": {},
   "source": [
    "### 准备数据集"
   ]
  },
  {
   "cell_type": "code",
   "execution_count": 5,
   "metadata": {},
   "outputs": [],
   "source": [
    "# 反正是投喂给智能体，你可以随便准备一份 pandas 数据\n",
    "import pandas as pd\n",
    "df = pd.read_csv(\"data/titanic.csv\")"
   ]
  },
  {
   "cell_type": "markdown",
   "metadata": {},
   "source": [
    "### 先试试 OpenAI 的效果"
   ]
  },
  {
   "cell_type": "code",
   "execution_count": 10,
   "metadata": {},
   "outputs": [
    {
     "name": "stdout",
     "output_type": "stream",
     "text": [
      "\n",
      "\n",
      "\u001b[1m> Entering new AgentExecutor chain...\u001b[0m\n",
      "\u001b[32;1m\u001b[1;3m\n",
      "Invoking: `python_repl_ast` with `{'query': 'len(df)'}`\n",
      "\n",
      "\n",
      "\u001b[0m\u001b[36;1m\u001b[1;3m891\u001b[0m\u001b[32;1m\u001b[1;3m船上一共有 891 人。\u001b[0m\n",
      "\n",
      "\u001b[1m> Finished chain.\u001b[0m\n"
     ]
    },
    {
     "data": {
      "text/plain": [
       "{'input': '船上一共有多少人', 'output': '船上一共有 891 人。'}"
      ]
     },
     "execution_count": 10,
     "metadata": {},
     "output_type": "execute_result"
    }
   ],
   "source": [
    "from langchain_openai import ChatOpenAI\n",
    "llm_openai = ChatOpenAI(model_name=\"gpt-4-1106-preview\")\n",
    "agent_executor = create_pandas_dataframe_agent(\n",
    "        llm_openai,\n",
    "        df,\n",
    "        agent_type=\"openai-tools\",\n",
    "        verbose=True\n",
    "    )\n",
    "agent_executor.invoke(\"船上一共有多少人\")"
   ]
  },
  {
   "cell_type": "markdown",
   "metadata": {},
   "source": [
    "### 再试试 ChatZhipuAI 效果"
   ]
  },
  {
   "cell_type": "markdown",
   "metadata": {},
   "source": [
    "**注意：** 智能体应用对智商有要求，必须 `glm-4` 以上；`glm-3-turbo` 无法完成推理。"
   ]
  },
  {
   "cell_type": "code",
   "execution_count": 12,
   "metadata": {},
   "outputs": [
    {
     "name": "stdout",
     "output_type": "stream",
     "text": [
      "\n",
      "\n",
      "\u001b[1m> Entering new AgentExecutor chain...\u001b[0m\n",
      "\u001b[32;1m\u001b[1;3m\n",
      "Invoking: `python_repl_ast` with `{'query': 'len(df)'}`\n",
      "responded: 我们可以通过查看 `df` 的行数来得知船上一共有多少人。在 Python 中，可以使用 `len()` 函数得到 DataFrame 的行数。这里使用 `python_repl_ast` 工具来执行相应的命令。<|assistant|>\n",
      "\n",
      "\u001b[0m\u001b[36;1m\u001b[1;3m891\u001b[0m\u001b[32;1m\u001b[1;3m船上一共有891人。\u001b[0m\n",
      "\n",
      "\u001b[1m> Finished chain.\u001b[0m\n"
     ]
    },
    {
     "data": {
      "text/plain": [
       "{'input': '船上一共有多少人', 'output': '船上一共有891人。'}"
      ]
     },
     "execution_count": 12,
     "metadata": {},
     "output_type": "execute_result"
    }
   ],
   "source": [
    "from langchain_zhipu import ChatZhipuAI\n",
    "llm_zhipuai = ChatZhipuAI(model=\"glm-4\")\n",
    "agent_executor = create_pandas_dataframe_agent(\n",
    "        llm_zhipuai,\n",
    "        df,\n",
    "        agent_type=\"openai-tools\", # ZhipuAI的工具结构与OpenAI兼容，直接借用了\n",
    "        verbose=True\n",
    "    )\n",
    "agent_executor.invoke(\"船上一共有多少人\")"
   ]
  },
  {
   "cell_type": "code",
   "execution_count": 20,
   "metadata": {},
   "outputs": [
    {
     "name": "stdout",
     "output_type": "stream",
     "text": [
      "\n",
      "\n",
      "\u001b[1m> Entering new AgentExecutor chain...\u001b[0m\n",
      "\u001b[32;1m\u001b[1;3m这个数据集看起来是关于泰坦尼克号乘客的信息。根据 `df.head()` 的输出，数据集中包含以下列：\n",
      "\n",
      "1. **PassengerId**：乘客的唯一标识符。\n",
      "2. **Survived**：一个指示乘客是否幸存的标志，1表示幸存，0表示未幸存。\n",
      "3. **Pclass**：乘客的舱位等级，1代表一等舱，2代表二等舱，3代表三等舱。\n",
      "4. **Name**：乘客的全名。\n",
      "5. **Sex**：乘客的性别。\n",
      "6. **Age**：乘客的年龄。\n",
      "7. **SibSp**：乘客在船上的兄弟姐妹和配偶的数量。\n",
      "8. **Parch**：乘客在船上的父母和孩子的数量。\n",
      "9. **Ticket**：乘客的票号。\n",
      "10. **Fare**：乘客支付的票价。\n",
      "11. **Cabin**：乘客的客舱号码，如果数据不存在则是NaN。\n",
      "12. **Embarked**：乘客上船的港口，S代表南安普敦，C代表 Cherbourg，Q代表 Queenstown。\n",
      "\n",
      "这些信息可以用来分析乘客的生存率与各种因素（如性别、舱位等级、年龄等）之间的关系。\u001b[0m\n",
      "\n",
      "\u001b[1m> Finished chain.\u001b[0m\n"
     ]
    },
    {
     "data": {
      "text/plain": [
       "{'input': '这个数据集中包含哪些信息？',\n",
       " 'output': '这个数据集看起来是关于泰坦尼克号乘客的信息。根据 `df.head()` 的输出，数据集中包含以下列：\\n\\n1. **PassengerId**：乘客的唯一标识符。\\n2. **Survived**：一个指示乘客是否幸存的标志，1表示幸存，0表示未幸存。\\n3. **Pclass**：乘客的舱位等级，1代表一等舱，2代表二等舱，3代表三等舱。\\n4. **Name**：乘客的全名。\\n5. **Sex**：乘客的性别。\\n6. **Age**：乘客的年龄。\\n7. **SibSp**：乘客在船上的兄弟姐妹和配偶的数量。\\n8. **Parch**：乘客在船上的父母和孩子的数量。\\n9. **Ticket**：乘客的票号。\\n10. **Fare**：乘客支付的票价。\\n11. **Cabin**：乘客的客舱号码，如果数据不存在则是NaN。\\n12. **Embarked**：乘客上船的港口，S代表南安普敦，C代表 Cherbourg，Q代表 Queenstown。\\n\\n这些信息可以用来分析乘客的生存率与各种因素（如性别、舱位等级、年龄等）之间的关系。'}"
      ]
     },
     "execution_count": 20,
     "metadata": {},
     "output_type": "execute_result"
    }
   ],
   "source": [
    "from langchain_zhipu import ChatZhipuAI\n",
    "from langchain.agents import AgentType\n",
    "llm_zhipuai = ChatZhipuAI(model=\"glm-4\")\n",
    "agent_executor = create_pandas_dataframe_agent(\n",
    "        llm_zhipuai,\n",
    "        df,\n",
    "        agent_type=\"openai-tools\",\n",
    "        verbose=True\n",
    "    )\n",
    "agent_executor.invoke(\"这个数据集中包含哪些信息？\")"
   ]
  },
  {
   "cell_type": "markdown",
   "metadata": {},
   "source": [
    "# 智能体中的Token统计"
   ]
  },
  {
   "cell_type": "code",
   "execution_count": 7,
   "metadata": {},
   "outputs": [
    {
     "name": "stdout",
     "output_type": "stream",
     "text": [
      "\n",
      "\n",
      "\u001b[1m> Entering new AgentExecutor chain...\u001b[0m\n",
      "{'event': 'on_chain_start', 'run_id': '70aa073c-cad2-4ca6-b78c-47d02a22153e', 'name': 'AgentExecutor', 'tags': [], 'metadata': {}, 'data': {'input': {'input': '你好'}}}\n",
      "{'event': 'on_chain_start', 'name': 'RunnableSequence', 'run_id': '125f6b29-a71d-4777-ae2f-cc6027647970', 'tags': [], 'metadata': {}, 'data': {}}\n",
      "{'event': 'on_chain_start', 'name': 'RunnableAssign<agent_scratchpad>', 'run_id': 'f7f62fd9-04dd-4312-9424-5d82d090357c', 'tags': ['seq:step:1'], 'metadata': {}, 'data': {}}\n",
      "{'event': 'on_chain_stream', 'name': 'RunnableAssign<agent_scratchpad>', 'run_id': 'f7f62fd9-04dd-4312-9424-5d82d090357c', 'tags': ['seq:step:1'], 'metadata': {}, 'data': {'chunk': {'input': '你好', 'intermediate_steps': []}}}\n",
      "{'event': 'on_chain_start', 'name': 'RunnableParallel<agent_scratchpad>', 'run_id': '5f173a3b-b9c5-4ace-8162-73605ebdbf7f', 'tags': [], 'metadata': {}, 'data': {}}\n",
      "{'event': 'on_chain_start', 'name': 'RunnableLambda', 'run_id': '46692614-708c-4d49-ac53-424bb17cb920', 'tags': ['map:key:agent_scratchpad'], 'metadata': {}, 'data': {}}\n",
      "{'event': 'on_chain_stream', 'name': 'RunnableLambda', 'run_id': '46692614-708c-4d49-ac53-424bb17cb920', 'tags': ['map:key:agent_scratchpad'], 'metadata': {}, 'data': {'chunk': []}}\n",
      "{'event': 'on_chain_stream', 'name': 'RunnableParallel<agent_scratchpad>', 'run_id': '5f173a3b-b9c5-4ace-8162-73605ebdbf7f', 'tags': [], 'metadata': {}, 'data': {'chunk': {'agent_scratchpad': []}}}\n",
      "{'event': 'on_chain_stream', 'name': 'RunnableAssign<agent_scratchpad>', 'run_id': 'f7f62fd9-04dd-4312-9424-5d82d090357c', 'tags': ['seq:step:1'], 'metadata': {}, 'data': {'chunk': {'agent_scratchpad': []}}}\n",
      "{'event': 'on_chain_end', 'name': 'RunnableLambda', 'run_id': '46692614-708c-4d49-ac53-424bb17cb920', 'tags': ['map:key:agent_scratchpad'], 'metadata': {}, 'data': {'input': {'input': '你好', 'intermediate_steps': []}, 'output': []}}\n",
      "{'event': 'on_chain_end', 'name': 'RunnableParallel<agent_scratchpad>', 'run_id': '5f173a3b-b9c5-4ace-8162-73605ebdbf7f', 'tags': [], 'metadata': {}, 'data': {'input': {'input': '你好', 'intermediate_steps': []}, 'output': {'agent_scratchpad': []}}}\n",
      "{'event': 'on_chain_end', 'name': 'RunnableAssign<agent_scratchpad>', 'run_id': 'f7f62fd9-04dd-4312-9424-5d82d090357c', 'tags': ['seq:step:1'], 'metadata': {}, 'data': {'input': {'input': '你好', 'intermediate_steps': []}, 'output': {'input': '你好', 'intermediate_steps': [], 'agent_scratchpad': []}}}\n",
      "{'event': 'on_prompt_start', 'name': 'ChatPromptTemplate', 'run_id': 'db715203-ad87-4311-9419-9d46289485e7', 'tags': ['seq:step:2'], 'metadata': {}, 'data': {'input': {'input': '你好', 'intermediate_steps': [], 'agent_scratchpad': []}}}\n",
      "{'event': 'on_prompt_end', 'name': 'ChatPromptTemplate', 'run_id': 'db715203-ad87-4311-9419-9d46289485e7', 'tags': ['seq:step:2'], 'metadata': {}, 'data': {'input': {'input': '你好', 'intermediate_steps': [], 'agent_scratchpad': []}, 'output': ChatPromptValue(messages=[SystemMessage(content='You are a helpful assistant'), HumanMessage(content='你好')])}}\n",
      "{'event': 'on_chat_model_start', 'name': 'ChatZhipuAI', 'run_id': '3fd9b728-16ab-4f5b-8bbc-8c70d636bf34', 'tags': ['seq:step:3'], 'metadata': {}, 'data': {'input': {'messages': [[SystemMessage(content='You are a helpful assistant'), HumanMessage(content='你好')]]}}}\n",
      "{'event': 'on_chat_model_stream', 'name': 'ChatZhipuAI', 'run_id': '3fd9b728-16ab-4f5b-8bbc-8c70d636bf34', 'tags': ['seq:step:3'], 'metadata': {}, 'data': {'chunk': AIMessageChunk(content='你好', id='8554707957539166503')}}\n",
      "{'event': 'on_chat_model_stream', 'name': 'ChatZhipuAI', 'run_id': '3fd9b728-16ab-4f5b-8bbc-8c70d636bf34', 'tags': ['seq:step:3'], 'metadata': {}, 'data': {'chunk': AIMessageChunk(content='👋！', id='8554707957539166503')}}\n",
      "{'event': 'on_chat_model_stream', 'name': 'ChatZhipuAI', 'run_id': '3fd9b728-16ab-4f5b-8bbc-8c70d636bf34', 'tags': ['seq:step:3'], 'metadata': {}, 'data': {'chunk': AIMessageChunk(content='我是', id='8554707957539166503')}}\n",
      "{'event': 'on_chat_model_stream', 'name': 'ChatZhipuAI', 'run_id': '3fd9b728-16ab-4f5b-8bbc-8c70d636bf34', 'tags': ['seq:step:3'], 'metadata': {}, 'data': {'chunk': AIMessageChunk(content='人工智能', id='8554707957539166503')}}\n",
      "{'event': 'on_chat_model_stream', 'name': 'ChatZhipuAI', 'run_id': '3fd9b728-16ab-4f5b-8bbc-8c70d636bf34', 'tags': ['seq:step:3'], 'metadata': {}, 'data': {'chunk': AIMessageChunk(content='助手', id='8554707957539166503')}}\n",
      "{'event': 'on_chat_model_stream', 'name': 'ChatZhipuAI', 'run_id': '3fd9b728-16ab-4f5b-8bbc-8c70d636bf34', 'tags': ['seq:step:3'], 'metadata': {}, 'data': {'chunk': AIMessageChunk(content='智', id='8554707957539166503')}}\n",
      "{'event': 'on_chat_model_stream', 'name': 'ChatZhipuAI', 'run_id': '3fd9b728-16ab-4f5b-8bbc-8c70d636bf34', 'tags': ['seq:step:3'], 'metadata': {}, 'data': {'chunk': AIMessageChunk(content='谱', id='8554707957539166503')}}\n",
      "{'event': 'on_chat_model_stream', 'name': 'ChatZhipuAI', 'run_id': '3fd9b728-16ab-4f5b-8bbc-8c70d636bf34', 'tags': ['seq:step:3'], 'metadata': {}, 'data': {'chunk': AIMessageChunk(content='清', id='8554707957539166503')}}\n",
      "{'event': 'on_chat_model_stream', 'name': 'ChatZhipuAI', 'run_id': '3fd9b728-16ab-4f5b-8bbc-8c70d636bf34', 'tags': ['seq:step:3'], 'metadata': {}, 'data': {'chunk': AIMessageChunk(content='言', id='8554707957539166503')}}\n",
      "{'event': 'on_chat_model_stream', 'name': 'ChatZhipuAI', 'run_id': '3fd9b728-16ab-4f5b-8bbc-8c70d636bf34', 'tags': ['seq:step:3'], 'metadata': {}, 'data': {'chunk': AIMessageChunk(content='（', id='8554707957539166503')}}\n",
      "{'event': 'on_chat_model_stream', 'name': 'ChatZhipuAI', 'run_id': '3fd9b728-16ab-4f5b-8bbc-8c70d636bf34', 'tags': ['seq:step:3'], 'metadata': {}, 'data': {'chunk': AIMessageChunk(content='C', id='8554707957539166503')}}\n",
      "{'event': 'on_chat_model_stream', 'name': 'ChatZhipuAI', 'run_id': '3fd9b728-16ab-4f5b-8bbc-8c70d636bf34', 'tags': ['seq:step:3'], 'metadata': {}, 'data': {'chunk': AIMessageChunk(content='hat', id='8554707957539166503')}}\n",
      "{'event': 'on_chat_model_stream', 'name': 'ChatZhipuAI', 'run_id': '3fd9b728-16ab-4f5b-8bbc-8c70d636bf34', 'tags': ['seq:step:3'], 'metadata': {}, 'data': {'chunk': AIMessageChunk(content='GL', id='8554707957539166503')}}\n",
      "{'event': 'on_chat_model_stream', 'name': 'ChatZhipuAI', 'run_id': '3fd9b728-16ab-4f5b-8bbc-8c70d636bf34', 'tags': ['seq:step:3'], 'metadata': {}, 'data': {'chunk': AIMessageChunk(content='M', id='8554707957539166503')}}\n",
      "{'event': 'on_chat_model_stream', 'name': 'ChatZhipuAI', 'run_id': '3fd9b728-16ab-4f5b-8bbc-8c70d636bf34', 'tags': ['seq:step:3'], 'metadata': {}, 'data': {'chunk': AIMessageChunk(content='），', id='8554707957539166503')}}\n",
      "{'event': 'on_chat_model_stream', 'name': 'ChatZhipuAI', 'run_id': '3fd9b728-16ab-4f5b-8bbc-8c70d636bf34', 'tags': ['seq:step:3'], 'metadata': {}, 'data': {'chunk': AIMessageChunk(content='可以', id='8554707957539166503')}}\n",
      "{'event': 'on_chat_model_stream', 'name': 'ChatZhipuAI', 'run_id': '3fd9b728-16ab-4f5b-8bbc-8c70d636bf34', 'tags': ['seq:step:3'], 'metadata': {}, 'data': {'chunk': AIMessageChunk(content='叫我', id='8554707957539166503')}}\n",
      "{'event': 'on_chat_model_stream', 'name': 'ChatZhipuAI', 'run_id': '3fd9b728-16ab-4f5b-8bbc-8c70d636bf34', 'tags': ['seq:step:3'], 'metadata': {}, 'data': {'chunk': AIMessageChunk(content='小', id='8554707957539166503')}}\n",
      "{'event': 'on_chat_model_stream', 'name': 'ChatZhipuAI', 'run_id': '3fd9b728-16ab-4f5b-8bbc-8c70d636bf34', 'tags': ['seq:step:3'], 'metadata': {}, 'data': {'chunk': AIMessageChunk(content='智', id='8554707957539166503')}}\n",
      "{'event': 'on_chat_model_stream', 'name': 'ChatZhipuAI', 'run_id': '3fd9b728-16ab-4f5b-8bbc-8c70d636bf34', 'tags': ['seq:step:3'], 'metadata': {}, 'data': {'chunk': AIMessageChunk(content='🤖，', id='8554707957539166503')}}\n",
      "{'event': 'on_chat_model_stream', 'name': 'ChatZhipuAI', 'run_id': '3fd9b728-16ab-4f5b-8bbc-8c70d636bf34', 'tags': ['seq:step:3'], 'metadata': {}, 'data': {'chunk': AIMessageChunk(content='很高兴', id='8554707957539166503')}}\n",
      "{'event': 'on_chat_model_stream', 'name': 'ChatZhipuAI', 'run_id': '3fd9b728-16ab-4f5b-8bbc-8c70d636bf34', 'tags': ['seq:step:3'], 'metadata': {}, 'data': {'chunk': AIMessageChunk(content='见到', id='8554707957539166503')}}\n",
      "{'event': 'on_chat_model_stream', 'name': 'ChatZhipuAI', 'run_id': '3fd9b728-16ab-4f5b-8bbc-8c70d636bf34', 'tags': ['seq:step:3'], 'metadata': {}, 'data': {'chunk': AIMessageChunk(content='你', id='8554707957539166503')}}\n",
      "{'event': 'on_chat_model_stream', 'name': 'ChatZhipuAI', 'run_id': '3fd9b728-16ab-4f5b-8bbc-8c70d636bf34', 'tags': ['seq:step:3'], 'metadata': {}, 'data': {'chunk': AIMessageChunk(content='，', id='8554707957539166503')}}\n",
      "{'event': 'on_chat_model_stream', 'name': 'ChatZhipuAI', 'run_id': '3fd9b728-16ab-4f5b-8bbc-8c70d636bf34', 'tags': ['seq:step:3'], 'metadata': {}, 'data': {'chunk': AIMessageChunk(content='欢迎', id='8554707957539166503')}}\n",
      "{'event': 'on_chat_model_stream', 'name': 'ChatZhipuAI', 'run_id': '3fd9b728-16ab-4f5b-8bbc-8c70d636bf34', 'tags': ['seq:step:3'], 'metadata': {}, 'data': {'chunk': AIMessageChunk(content='问我', id='8554707957539166503')}}\n",
      "{'event': 'on_chat_model_stream', 'name': 'ChatZhipuAI', 'run_id': '3fd9b728-16ab-4f5b-8bbc-8c70d636bf34', 'tags': ['seq:step:3'], 'metadata': {}, 'data': {'chunk': AIMessageChunk(content='任何', id='8554707957539166503')}}\n",
      "{'event': 'on_chat_model_stream', 'name': 'ChatZhipuAI', 'run_id': '3fd9b728-16ab-4f5b-8bbc-8c70d636bf34', 'tags': ['seq:step:3'], 'metadata': {}, 'data': {'chunk': AIMessageChunk(content='问题', id='8554707957539166503')}}\n",
      "{'event': 'on_chat_model_stream', 'name': 'ChatZhipuAI', 'run_id': '3fd9b728-16ab-4f5b-8bbc-8c70d636bf34', 'tags': ['seq:step:3'], 'metadata': {}, 'data': {'chunk': AIMessageChunk(content='。', id='8554707957539166503')}}\n",
      "{'event': 'on_chat_model_stream', 'name': 'ChatZhipuAI', 'run_id': '3fd9b728-16ab-4f5b-8bbc-8c70d636bf34', 'tags': ['seq:step:3'], 'metadata': {}, 'data': {'chunk': AIMessageChunk(content='', id='8554707957539166503')}}\n",
      "-------------------- Token统计 --------------------\n",
      "generations=[[ChatGenerationChunk(text='你好👋！我是人工智能助手智谱清言（ChatGLM），可以叫我小智🤖，很高兴见到你，欢迎问我任何问题。', generation_info={'finish_reason': 'stop'}, message=AIMessageChunk(content='你好👋！我是人工智能助手智谱清言（ChatGLM），可以叫我小智🤖，很高兴见到你，欢迎问我任何问题。'))]] llm_output=None run=None\n",
      "-------------------- -------- --------------------\n",
      "{'event': 'on_chat_model_end', 'name': 'ChatZhipuAI', 'run_id': '3fd9b728-16ab-4f5b-8bbc-8c70d636bf34', 'tags': ['seq:step:3'], 'metadata': {}, 'data': {'input': {'messages': [[SystemMessage(content='You are a helpful assistant'), HumanMessage(content='你好')]]}, 'output': {'generations': [[{'text': '你好👋！我是人工智能助手智谱清言（ChatGLM），可以叫我小智🤖，很高兴见到你，欢迎问我任何问题。', 'generation_info': {'finish_reason': 'stop'}, 'type': 'ChatGenerationChunk', 'message': AIMessageChunk(content='你好👋！我是人工智能助手智谱清言（ChatGLM），可以叫我小智🤖，很高兴见到你，欢迎问我任何问题。')}]], 'llm_output': None, 'run': None}}}\n",
      "{'event': 'on_parser_start', 'name': 'OpenAIToolsAgentOutputParser', 'run_id': 'ef75cb2f-0bc9-48b1-9b91-870d03a7754f', 'tags': ['seq:step:4'], 'metadata': {}, 'data': {'input': AIMessageChunk(content='你好👋！我是人工智能助手智谱清言（ChatGLM），可以叫我小智🤖，很高兴见到你，欢迎问我任何问题。')}}\n",
      "{'event': 'on_parser_end', 'name': 'OpenAIToolsAgentOutputParser', 'run_id': 'ef75cb2f-0bc9-48b1-9b91-870d03a7754f', 'tags': ['seq:step:4'], 'metadata': {}, 'data': {'input': AIMessageChunk(content='你好👋！我是人工智能助手智谱清言（ChatGLM），可以叫我小智🤖，很高兴见到你，欢迎问我任何问题。'), 'output': AgentFinish(return_values={'output': '你好👋！我是人工智能助手智谱清言（ChatGLM），可以叫我小智🤖，很高兴见到你，欢迎问我任何问题。'}, log='你好👋！我是人工智能助手智谱清言（ChatGLM），可以叫我小智🤖，很高兴见到你，欢迎问我任何问题。')}}\n",
      "{'event': 'on_chain_stream', 'name': 'RunnableSequence', 'run_id': '125f6b29-a71d-4777-ae2f-cc6027647970', 'tags': [], 'metadata': {}, 'data': {'chunk': AgentFinish(return_values={'output': '你好👋！我是人工智能助手智谱清言（ChatGLM），可以叫我小智🤖，很高兴见到你，欢迎问我任何问题。'}, log='你好👋！我是人工智能助手智谱清言（ChatGLM），可以叫我小智🤖，很高兴见到你，欢迎问我任何问题。')}}\n",
      "{'event': 'on_chain_end', 'name': 'RunnableSequence', 'run_id': '125f6b29-a71d-4777-ae2f-cc6027647970', 'tags': [], 'metadata': {}, 'data': {'input': {'input': '你好', 'intermediate_steps': []}, 'output': AgentFinish(return_values={'output': '你好👋！我是人工智能助手智谱清言（ChatGLM），可以叫我小智🤖，很高兴见到你，欢迎问我任何问题。'}, log='你好👋！我是人工智能助手智谱清言（ChatGLM），可以叫我小智🤖，很高兴见到你，欢迎问我任何问题。')}}\n",
      "\u001b[32;1m\u001b[1;3m你好👋！我是人工智能助手智谱清言（ChatGLM），可以叫我小智🤖，很高兴见到你，欢迎问我任何问题。\u001b[0m\n",
      "\n",
      "\u001b[1m> Finished chain.\u001b[0m\n",
      "{'event': 'on_chain_stream', 'run_id': '70aa073c-cad2-4ca6-b78c-47d02a22153e', 'tags': [], 'metadata': {}, 'name': 'AgentExecutor', 'data': {'chunk': {'output': '你好👋！我是人工智能助手智谱清言（ChatGLM），可以叫我小智🤖，很高兴见到你，欢迎问我任何问题。', 'messages': [AIMessage(content='你好👋！我是人工智能助手智谱清言（ChatGLM），可以叫我小智🤖，很高兴见到你，欢迎问我任何问题。')]}}}\n",
      "{'event': 'on_chain_end', 'name': 'AgentExecutor', 'run_id': '70aa073c-cad2-4ca6-b78c-47d02a22153e', 'tags': [], 'metadata': {}, 'data': {'output': {'output': '你好👋！我是人工智能助手智谱清言（ChatGLM），可以叫我小智🤖，很高兴见到你，欢迎问我任何问题。', 'messages': [AIMessage(content='你好👋！我是人工智能助手智谱清言（ChatGLM），可以叫我小智🤖，很高兴见到你，欢迎问我任何问题。')]}}}\n"
     ]
    }
   ],
   "source": [
    "from langchain.agents import AgentExecutor, Tool, create_openai_tools_agent\n",
    "from langchain import hub\n",
    "from langchain_zhipu import ChatZhipuAI\n",
    "\n",
    "from langchain_core.callbacks import BaseCallbackHandler\n",
    "\n",
    "class CountTokenCallbackHandler(BaseCallbackHandler):\n",
    "\tdef on_llm_end(self, response, **kwargs):\n",
    "\t\tprint(\"-\"*20, \"Token统计\", \"-\"*20)\n",
    "\t\tprint(response)\n",
    "\t\tprint(\"-\"*20, \"--------\", \"-\"*20)\n",
    "\n",
    "tools = []\n",
    "prompt = hub.pull(\"hwchase17/openai-tools-agent\")\n",
    "llm = ChatZhipuAI(model=\"glm-3-turbo\", temperature=0.1, callbacks=[CountTokenCallbackHandler()])\n",
    "agent = create_openai_tools_agent(llm, tools, prompt)\n",
    "agent_executor = AgentExecutor(agent=agent, tools=tools, verbose=True)\n",
    "\n",
    "async for chunk in agent_executor.astream_events({\"input\": \"你好\"}, version=\"v1\"):\n",
    "    print(chunk)"
   ]
  },
  {
   "cell_type": "code",
   "execution_count": 8,
   "metadata": {},
   "outputs": [
    {
     "name": "stdout",
     "output_type": "stream",
     "text": [
      "\n",
      "\n",
      "\u001b[1m> Entering new AgentExecutor chain...\u001b[0m\n",
      "{'event': 'on_chain_start', 'run_id': '16145558-bbd5-41d0-a81d-5eafa081bece', 'name': 'AgentExecutor', 'tags': [], 'metadata': {}, 'data': {'input': {'input': '你好'}}}\n",
      "{'event': 'on_chain_start', 'name': 'RunnableSequence', 'run_id': '9424c7a8-dfd2-476a-805a-0d2f6527f4bf', 'tags': [], 'metadata': {}, 'data': {}}\n",
      "{'event': 'on_chain_start', 'name': 'RunnableAssign<agent_scratchpad>', 'run_id': '0aa170c3-ad83-487a-8e51-f11e129e9a4f', 'tags': ['seq:step:1'], 'metadata': {}, 'data': {}}\n",
      "{'event': 'on_chain_stream', 'name': 'RunnableAssign<agent_scratchpad>', 'run_id': '0aa170c3-ad83-487a-8e51-f11e129e9a4f', 'tags': ['seq:step:1'], 'metadata': {}, 'data': {'chunk': {'input': '你好', 'intermediate_steps': []}}}\n",
      "{'event': 'on_chain_start', 'name': 'RunnableParallel<agent_scratchpad>', 'run_id': 'd849659f-a959-48da-b08c-a30d5181d801', 'tags': [], 'metadata': {}, 'data': {}}\n",
      "{'event': 'on_chain_start', 'name': 'RunnableLambda', 'run_id': '2344bde5-2b90-4929-a860-de27edff6e41', 'tags': ['map:key:agent_scratchpad'], 'metadata': {}, 'data': {}}\n",
      "{'event': 'on_chain_stream', 'name': 'RunnableLambda', 'run_id': '2344bde5-2b90-4929-a860-de27edff6e41', 'tags': ['map:key:agent_scratchpad'], 'metadata': {}, 'data': {'chunk': []}}\n",
      "{'event': 'on_chain_stream', 'name': 'RunnableParallel<agent_scratchpad>', 'run_id': 'd849659f-a959-48da-b08c-a30d5181d801', 'tags': [], 'metadata': {}, 'data': {'chunk': {'agent_scratchpad': []}}}\n",
      "{'event': 'on_chain_stream', 'name': 'RunnableAssign<agent_scratchpad>', 'run_id': '0aa170c3-ad83-487a-8e51-f11e129e9a4f', 'tags': ['seq:step:1'], 'metadata': {}, 'data': {'chunk': {'agent_scratchpad': []}}}\n",
      "{'event': 'on_chain_end', 'name': 'RunnableLambda', 'run_id': '2344bde5-2b90-4929-a860-de27edff6e41', 'tags': ['map:key:agent_scratchpad'], 'metadata': {}, 'data': {'input': {'input': '你好', 'intermediate_steps': []}, 'output': []}}\n",
      "{'event': 'on_chain_end', 'name': 'RunnableParallel<agent_scratchpad>', 'run_id': 'd849659f-a959-48da-b08c-a30d5181d801', 'tags': [], 'metadata': {}, 'data': {'input': {'input': '你好', 'intermediate_steps': []}, 'output': {'agent_scratchpad': []}}}\n",
      "{'event': 'on_chain_end', 'name': 'RunnableAssign<agent_scratchpad>', 'run_id': '0aa170c3-ad83-487a-8e51-f11e129e9a4f', 'tags': ['seq:step:1'], 'metadata': {}, 'data': {'input': {'input': '你好', 'intermediate_steps': []}, 'output': {'input': '你好', 'intermediate_steps': [], 'agent_scratchpad': []}}}\n",
      "{'event': 'on_prompt_start', 'name': 'ChatPromptTemplate', 'run_id': '0cb1ff77-cf4c-46b0-88ff-6319749d9853', 'tags': ['seq:step:2'], 'metadata': {}, 'data': {'input': {'input': '你好', 'intermediate_steps': [], 'agent_scratchpad': []}}}\n",
      "{'event': 'on_prompt_end', 'name': 'ChatPromptTemplate', 'run_id': '0cb1ff77-cf4c-46b0-88ff-6319749d9853', 'tags': ['seq:step:2'], 'metadata': {}, 'data': {'input': {'input': '你好', 'intermediate_steps': [], 'agent_scratchpad': []}, 'output': ChatPromptValue(messages=[SystemMessage(content='You are a helpful assistant'), HumanMessage(content='你好')])}}\n",
      "{'event': 'on_chat_model_start', 'name': 'ChatZhipuAI', 'run_id': 'f5487175-7fd4-4646-926e-319ba274220a', 'tags': ['seq:step:3'], 'metadata': {}, 'data': {'input': {'messages': [[SystemMessage(content='You are a helpful assistant'), HumanMessage(content='你好')]]}}}\n",
      "{'event': 'on_chat_model_stream', 'name': 'ChatZhipuAI', 'run_id': 'f5487175-7fd4-4646-926e-319ba274220a', 'tags': ['seq:step:3'], 'metadata': {}, 'data': {'chunk': AIMessageChunk(content='你好', id='8554703731291147556')}}\n",
      "{'event': 'on_chat_model_stream', 'name': 'ChatZhipuAI', 'run_id': 'f5487175-7fd4-4646-926e-319ba274220a', 'tags': ['seq:step:3'], 'metadata': {}, 'data': {'chunk': AIMessageChunk(content='👋！', id='8554703731291147556')}}\n",
      "{'event': 'on_chat_model_stream', 'name': 'ChatZhipuAI', 'run_id': 'f5487175-7fd4-4646-926e-319ba274220a', 'tags': ['seq:step:3'], 'metadata': {}, 'data': {'chunk': AIMessageChunk(content='我是', id='8554703731291147556')}}\n",
      "{'event': 'on_chat_model_stream', 'name': 'ChatZhipuAI', 'run_id': 'f5487175-7fd4-4646-926e-319ba274220a', 'tags': ['seq:step:3'], 'metadata': {}, 'data': {'chunk': AIMessageChunk(content='人工智能', id='8554703731291147556')}}\n",
      "{'event': 'on_chat_model_stream', 'name': 'ChatZhipuAI', 'run_id': 'f5487175-7fd4-4646-926e-319ba274220a', 'tags': ['seq:step:3'], 'metadata': {}, 'data': {'chunk': AIMessageChunk(content='助手', id='8554703731291147556')}}\n",
      "{'event': 'on_chat_model_stream', 'name': 'ChatZhipuAI', 'run_id': 'f5487175-7fd4-4646-926e-319ba274220a', 'tags': ['seq:step:3'], 'metadata': {}, 'data': {'chunk': AIMessageChunk(content='智', id='8554703731291147556')}}\n",
      "{'event': 'on_chat_model_stream', 'name': 'ChatZhipuAI', 'run_id': 'f5487175-7fd4-4646-926e-319ba274220a', 'tags': ['seq:step:3'], 'metadata': {}, 'data': {'chunk': AIMessageChunk(content='谱', id='8554703731291147556')}}\n",
      "{'event': 'on_chat_model_stream', 'name': 'ChatZhipuAI', 'run_id': 'f5487175-7fd4-4646-926e-319ba274220a', 'tags': ['seq:step:3'], 'metadata': {}, 'data': {'chunk': AIMessageChunk(content='清', id='8554703731291147556')}}\n",
      "{'event': 'on_chat_model_stream', 'name': 'ChatZhipuAI', 'run_id': 'f5487175-7fd4-4646-926e-319ba274220a', 'tags': ['seq:step:3'], 'metadata': {}, 'data': {'chunk': AIMessageChunk(content='言', id='8554703731291147556')}}\n",
      "{'event': 'on_chat_model_stream', 'name': 'ChatZhipuAI', 'run_id': 'f5487175-7fd4-4646-926e-319ba274220a', 'tags': ['seq:step:3'], 'metadata': {}, 'data': {'chunk': AIMessageChunk(content='（', id='8554703731291147556')}}\n",
      "{'event': 'on_chat_model_stream', 'name': 'ChatZhipuAI', 'run_id': 'f5487175-7fd4-4646-926e-319ba274220a', 'tags': ['seq:step:3'], 'metadata': {}, 'data': {'chunk': AIMessageChunk(content='C', id='8554703731291147556')}}\n",
      "{'event': 'on_chat_model_stream', 'name': 'ChatZhipuAI', 'run_id': 'f5487175-7fd4-4646-926e-319ba274220a', 'tags': ['seq:step:3'], 'metadata': {}, 'data': {'chunk': AIMessageChunk(content='hat', id='8554703731291147556')}}\n",
      "{'event': 'on_chat_model_stream', 'name': 'ChatZhipuAI', 'run_id': 'f5487175-7fd4-4646-926e-319ba274220a', 'tags': ['seq:step:3'], 'metadata': {}, 'data': {'chunk': AIMessageChunk(content='GL', id='8554703731291147556')}}\n",
      "{'event': 'on_chat_model_stream', 'name': 'ChatZhipuAI', 'run_id': 'f5487175-7fd4-4646-926e-319ba274220a', 'tags': ['seq:step:3'], 'metadata': {}, 'data': {'chunk': AIMessageChunk(content='M', id='8554703731291147556')}}\n",
      "{'event': 'on_chat_model_stream', 'name': 'ChatZhipuAI', 'run_id': 'f5487175-7fd4-4646-926e-319ba274220a', 'tags': ['seq:step:3'], 'metadata': {}, 'data': {'chunk': AIMessageChunk(content='），', id='8554703731291147556')}}\n",
      "{'event': 'on_chat_model_stream', 'name': 'ChatZhipuAI', 'run_id': 'f5487175-7fd4-4646-926e-319ba274220a', 'tags': ['seq:step:3'], 'metadata': {}, 'data': {'chunk': AIMessageChunk(content='可以', id='8554703731291147556')}}\n",
      "{'event': 'on_chat_model_stream', 'name': 'ChatZhipuAI', 'run_id': 'f5487175-7fd4-4646-926e-319ba274220a', 'tags': ['seq:step:3'], 'metadata': {}, 'data': {'chunk': AIMessageChunk(content='叫我', id='8554703731291147556')}}\n",
      "{'event': 'on_chat_model_stream', 'name': 'ChatZhipuAI', 'run_id': 'f5487175-7fd4-4646-926e-319ba274220a', 'tags': ['seq:step:3'], 'metadata': {}, 'data': {'chunk': AIMessageChunk(content='小', id='8554703731291147556')}}\n",
      "{'event': 'on_chat_model_stream', 'name': 'ChatZhipuAI', 'run_id': 'f5487175-7fd4-4646-926e-319ba274220a', 'tags': ['seq:step:3'], 'metadata': {}, 'data': {'chunk': AIMessageChunk(content='智', id='8554703731291147556')}}\n",
      "{'event': 'on_chat_model_stream', 'name': 'ChatZhipuAI', 'run_id': 'f5487175-7fd4-4646-926e-319ba274220a', 'tags': ['seq:step:3'], 'metadata': {}, 'data': {'chunk': AIMessageChunk(content='🤖，', id='8554703731291147556')}}\n",
      "{'event': 'on_chat_model_stream', 'name': 'ChatZhipuAI', 'run_id': 'f5487175-7fd4-4646-926e-319ba274220a', 'tags': ['seq:step:3'], 'metadata': {}, 'data': {'chunk': AIMessageChunk(content='很高兴', id='8554703731291147556')}}\n",
      "{'event': 'on_chat_model_stream', 'name': 'ChatZhipuAI', 'run_id': 'f5487175-7fd4-4646-926e-319ba274220a', 'tags': ['seq:step:3'], 'metadata': {}, 'data': {'chunk': AIMessageChunk(content='见到', id='8554703731291147556')}}\n",
      "{'event': 'on_chat_model_stream', 'name': 'ChatZhipuAI', 'run_id': 'f5487175-7fd4-4646-926e-319ba274220a', 'tags': ['seq:step:3'], 'metadata': {}, 'data': {'chunk': AIMessageChunk(content='你', id='8554703731291147556')}}\n",
      "{'event': 'on_chat_model_stream', 'name': 'ChatZhipuAI', 'run_id': 'f5487175-7fd4-4646-926e-319ba274220a', 'tags': ['seq:step:3'], 'metadata': {}, 'data': {'chunk': AIMessageChunk(content='，', id='8554703731291147556')}}\n",
      "{'event': 'on_chat_model_stream', 'name': 'ChatZhipuAI', 'run_id': 'f5487175-7fd4-4646-926e-319ba274220a', 'tags': ['seq:step:3'], 'metadata': {}, 'data': {'chunk': AIMessageChunk(content='欢迎', id='8554703731291147556')}}\n",
      "{'event': 'on_chat_model_stream', 'name': 'ChatZhipuAI', 'run_id': 'f5487175-7fd4-4646-926e-319ba274220a', 'tags': ['seq:step:3'], 'metadata': {}, 'data': {'chunk': AIMessageChunk(content='问我', id='8554703731291147556')}}\n",
      "{'event': 'on_chat_model_stream', 'name': 'ChatZhipuAI', 'run_id': 'f5487175-7fd4-4646-926e-319ba274220a', 'tags': ['seq:step:3'], 'metadata': {}, 'data': {'chunk': AIMessageChunk(content='任何', id='8554703731291147556')}}\n",
      "{'event': 'on_chat_model_stream', 'name': 'ChatZhipuAI', 'run_id': 'f5487175-7fd4-4646-926e-319ba274220a', 'tags': ['seq:step:3'], 'metadata': {}, 'data': {'chunk': AIMessageChunk(content='问题', id='8554703731291147556')}}\n",
      "{'event': 'on_chat_model_stream', 'name': 'ChatZhipuAI', 'run_id': 'f5487175-7fd4-4646-926e-319ba274220a', 'tags': ['seq:step:3'], 'metadata': {}, 'data': {'chunk': AIMessageChunk(content='。', id='8554703731291147556')}}\n",
      "{'event': 'on_chat_model_stream', 'name': 'ChatZhipuAI', 'run_id': 'f5487175-7fd4-4646-926e-319ba274220a', 'tags': ['seq:step:3'], 'metadata': {}, 'data': {'chunk': AIMessageChunk(content='', id='8554703731291147556')}}\n",
      "-------------------- Token统计 --------------------\n",
      "generations=[[ChatGenerationChunk(text='你好👋！我是人工智能助手智谱清言（ChatGLM），可以叫我小智🤖，很高兴见到你，欢迎问我任何问题。', generation_info={'finish_reason': 'stop'}, message=AIMessageChunk(content='你好👋！我是人工智能助手智谱清言（ChatGLM），可以叫我小智🤖，很高兴见到你，欢迎问我任何问题。'))]] llm_output=None run=None\n",
      "-------------------- -------- --------------------\n",
      "{'event': 'on_chat_model_end', 'name': 'ChatZhipuAI', 'run_id': 'f5487175-7fd4-4646-926e-319ba274220a', 'tags': ['seq:step:3'], 'metadata': {}, 'data': {'input': {'messages': [[SystemMessage(content='You are a helpful assistant'), HumanMessage(content='你好')]]}, 'output': {'generations': [[{'text': '你好👋！我是人工智能助手智谱清言（ChatGLM），可以叫我小智🤖，很高兴见到你，欢迎问我任何问题。', 'generation_info': {'finish_reason': 'stop'}, 'type': 'ChatGenerationChunk', 'message': AIMessageChunk(content='你好👋！我是人工智能助手智谱清言（ChatGLM），可以叫我小智🤖，很高兴见到你，欢迎问我任何问题。')}]], 'llm_output': None, 'run': None}}}\n",
      "{'event': 'on_parser_start', 'name': 'OpenAIToolsAgentOutputParser', 'run_id': 'eeeef7ef-e28d-4260-89e5-780165518a53', 'tags': ['seq:step:4'], 'metadata': {}, 'data': {'input': AIMessageChunk(content='你好👋！我是人工智能助手智谱清言（ChatGLM），可以叫我小智🤖，很高兴见到你，欢迎问我任何问题。')}}\n",
      "{'event': 'on_parser_end', 'name': 'OpenAIToolsAgentOutputParser', 'run_id': 'eeeef7ef-e28d-4260-89e5-780165518a53', 'tags': ['seq:step:4'], 'metadata': {}, 'data': {'input': AIMessageChunk(content='你好👋！我是人工智能助手智谱清言（ChatGLM），可以叫我小智🤖，很高兴见到你，欢迎问我任何问题。'), 'output': AgentFinish(return_values={'output': '你好👋！我是人工智能助手智谱清言（ChatGLM），可以叫我小智🤖，很高兴见到你，欢迎问我任何问题。'}, log='你好👋！我是人工智能助手智谱清言（ChatGLM），可以叫我小智🤖，很高兴见到你，欢迎问我任何问题。')}}\n",
      "{'event': 'on_chain_stream', 'name': 'RunnableSequence', 'run_id': '9424c7a8-dfd2-476a-805a-0d2f6527f4bf', 'tags': [], 'metadata': {}, 'data': {'chunk': AgentFinish(return_values={'output': '你好👋！我是人工智能助手智谱清言（ChatGLM），可以叫我小智🤖，很高兴见到你，欢迎问我任何问题。'}, log='你好👋！我是人工智能助手智谱清言（ChatGLM），可以叫我小智🤖，很高兴见到你，欢迎问我任何问题。')}}\n",
      "{'event': 'on_chain_end', 'name': 'RunnableSequence', 'run_id': '9424c7a8-dfd2-476a-805a-0d2f6527f4bf', 'tags': [], 'metadata': {}, 'data': {'input': {'input': '你好', 'intermediate_steps': []}, 'output': AgentFinish(return_values={'output': '你好👋！我是人工智能助手智谱清言（ChatGLM），可以叫我小智🤖，很高兴见到你，欢迎问我任何问题。'}, log='你好👋！我是人工智能助手智谱清言（ChatGLM），可以叫我小智🤖，很高兴见到你，欢迎问我任何问题。')}}\n",
      "\u001b[32;1m\u001b[1;3m你好👋！我是人工智能助手智谱清言（ChatGLM），可以叫我小智🤖，很高兴见到你，欢迎问我任何问题。\u001b[0m\n",
      "\n",
      "\u001b[1m> Finished chain.\u001b[0m\n",
      "{'event': 'on_chain_stream', 'run_id': '16145558-bbd5-41d0-a81d-5eafa081bece', 'tags': [], 'metadata': {}, 'name': 'AgentExecutor', 'data': {'chunk': {'output': '你好👋！我是人工智能助手智谱清言（ChatGLM），可以叫我小智🤖，很高兴见到你，欢迎问我任何问题。', 'messages': [AIMessage(content='你好👋！我是人工智能助手智谱清言（ChatGLM），可以叫我小智🤖，很高兴见到你，欢迎问我任何问题。')]}}}\n",
      "{'event': 'on_chain_end', 'name': 'AgentExecutor', 'run_id': '16145558-bbd5-41d0-a81d-5eafa081bece', 'tags': [], 'metadata': {}, 'data': {'output': {'output': '你好👋！我是人工智能助手智谱清言（ChatGLM），可以叫我小智🤖，很高兴见到你，欢迎问我任何问题。', 'messages': [AIMessage(content='你好👋！我是人工智能助手智谱清言（ChatGLM），可以叫我小智🤖，很高兴见到你，欢迎问我任何问题。')]}}}\n"
     ]
    }
   ],
   "source": [
    "from langchain.agents import AgentExecutor, Tool, create_openai_tools_agent\n",
    "from langchain.agents.agent import RunnableMultiActionAgent\n",
    "from langchain import hub\n",
    "from langchain_zhipu import ChatZhipuAI\n",
    "\n",
    "from langchain_core.callbacks import BaseCallbackHandler\n",
    "\n",
    "class CountTokenCallbackHandler(BaseCallbackHandler):\n",
    "\tdef on_llm_end(self, response, **kwargs):\n",
    "\t\tprint(\"-\"*20, \"Token统计\", \"-\"*20)\n",
    "\t\tprint(response)\n",
    "\t\tprint(\"-\"*20, \"--------\", \"-\"*20)\n",
    "\n",
    "tools = []\n",
    "prompt = hub.pull(\"hwchase17/openai-tools-agent\")\n",
    "llm = ChatZhipuAI(model=\"glm-3-turbo\", temperature=0.1, callbacks=[CountTokenCallbackHandler()])\n",
    "agent = create_openai_tools_agent(llm, tools, prompt)\n",
    "agent_executor = AgentExecutor(agent=RunnableMultiActionAgent(runnable =agent, stream_runnable=False), tools=tools, verbose=True)\n",
    "\n",
    "async for chunk in agent_executor.astream_events({\"input\": \"你好\"}, version=\"v1\"):\n",
    "    print(chunk)"
   ]
  },
  {
   "cell_type": "code",
   "execution_count": null,
   "metadata": {},
   "outputs": [],
   "source": []
  }
 ],
 "metadata": {
  "kernelspec": {
   "display_name": "langchain-zhipu-Ddey8KS3-py3.9",
   "language": "python",
   "name": "python3"
  },
  "language_info": {
   "codemirror_mode": {
    "name": "ipython",
    "version": 3
   },
   "file_extension": ".py",
   "mimetype": "text/x-python",
   "name": "python",
   "nbconvert_exporter": "python",
   "pygments_lexer": "ipython3",
   "version": "3.9.18"
  }
 },
 "nbformat": 4,
 "nbformat_minor": 2
}

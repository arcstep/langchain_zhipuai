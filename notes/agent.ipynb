{
 "cells": [
  {
   "cell_type": "code",
   "execution_count": null,
   "metadata": {},
   "outputs": [],
   "source": [
    "from dotenv import load_dotenv, find_dotenv\n",
    "load_dotenv(find_dotenv(), override=True)\n",
    "import os\n",
    "os.chdir('..')"
   ]
  },
  {
   "cell_type": "markdown",
   "metadata": {},
   "source": [
    "要运行下面的例子，你可能需要安装以下依赖包：\n",
    "```shell\n",
    "pip install python-dotenv\n",
    "pip install langchain-experimental\n",
    "pip install pandas\n",
    "pip install tabulate\n",
    "pip install langchain-openai\n",
    "```"
   ]
  },
  {
   "cell_type": "markdown",
   "metadata": {},
   "source": [
    "# 在langchain中智能体"
   ]
  },
  {
   "cell_type": "markdown",
   "metadata": {},
   "source": [
    "## create_pandas_dataframe_agent"
   ]
  },
  {
   "cell_type": "markdown",
   "metadata": {},
   "source": [
    "### 导入智能体"
   ]
  },
  {
   "cell_type": "code",
   "execution_count": 4,
   "metadata": {},
   "outputs": [],
   "source": [
    "# 今天的主角 pandas 智能体\n",
    "from langchain_experimental.agents.agent_toolkits import create_pandas_dataframe_agent"
   ]
  },
  {
   "cell_type": "markdown",
   "metadata": {},
   "source": [
    "### 准备数据集"
   ]
  },
  {
   "cell_type": "code",
   "execution_count": 5,
   "metadata": {},
   "outputs": [],
   "source": [
    "# 反正是投喂给智能体，你可以随便准备一份 pandas 数据\n",
    "import pandas as pd\n",
    "df = pd.read_csv(\"data/titanic.csv\")"
   ]
  },
  {
   "cell_type": "markdown",
   "metadata": {},
   "source": [
    "### 先试试 OpenAI 的效果"
   ]
  },
  {
   "cell_type": "code",
   "execution_count": 10,
   "metadata": {},
   "outputs": [
    {
     "name": "stdout",
     "output_type": "stream",
     "text": [
      "\n",
      "\n",
      "\u001b[1m> Entering new AgentExecutor chain...\u001b[0m\n",
      "\u001b[32;1m\u001b[1;3m\n",
      "Invoking: `python_repl_ast` with `{'query': 'len(df)'}`\n",
      "\n",
      "\n",
      "\u001b[0m\u001b[36;1m\u001b[1;3m891\u001b[0m\u001b[32;1m\u001b[1;3m船上一共有 891 人。\u001b[0m\n",
      "\n",
      "\u001b[1m> Finished chain.\u001b[0m\n"
     ]
    },
    {
     "data": {
      "text/plain": [
       "{'input': '船上一共有多少人', 'output': '船上一共有 891 人。'}"
      ]
     },
     "execution_count": 10,
     "metadata": {},
     "output_type": "execute_result"
    }
   ],
   "source": [
    "from langchain_openai import ChatOpenAI\n",
    "llm_openai = ChatOpenAI(model_name=\"gpt-4-1106-preview\")\n",
    "agent_executor = create_pandas_dataframe_agent(\n",
    "        llm_openai,\n",
    "        df,\n",
    "        agent_type=\"openai-tools\",\n",
    "        verbose=True\n",
    "    )\n",
    "agent_executor.invoke(\"船上一共有多少人\")"
   ]
  },
  {
   "cell_type": "markdown",
   "metadata": {},
   "source": [
    "### 再试试 ChatZhipuAI 效果"
   ]
  },
  {
   "cell_type": "markdown",
   "metadata": {},
   "source": [
    "**注意：** 智能体应用对智商有要求，必须 `glm-4` 以上；`glm-3-turbo` 无法完成推理。"
   ]
  },
  {
   "cell_type": "code",
   "execution_count": 12,
   "metadata": {},
   "outputs": [
    {
     "name": "stdout",
     "output_type": "stream",
     "text": [
      "\n",
      "\n",
      "\u001b[1m> Entering new AgentExecutor chain...\u001b[0m\n",
      "\u001b[32;1m\u001b[1;3m\n",
      "Invoking: `python_repl_ast` with `{'query': 'len(df)'}`\n",
      "responded: 我们可以通过查看 `df` 的行数来得知船上一共有多少人。在 Python 中，可以使用 `len()` 函数得到 DataFrame 的行数。这里使用 `python_repl_ast` 工具来执行相应的命令。<|assistant|>\n",
      "\n",
      "\u001b[0m\u001b[36;1m\u001b[1;3m891\u001b[0m\u001b[32;1m\u001b[1;3m船上一共有891人。\u001b[0m\n",
      "\n",
      "\u001b[1m> Finished chain.\u001b[0m\n"
     ]
    },
    {
     "data": {
      "text/plain": [
       "{'input': '船上一共有多少人', 'output': '船上一共有891人。'}"
      ]
     },
     "execution_count": 12,
     "metadata": {},
     "output_type": "execute_result"
    }
   ],
   "source": [
    "from langchain_zhipu import ChatZhipuAI\n",
    "llm_zhipuai = ChatZhipuAI(model=\"glm-4\")\n",
    "agent_executor = create_pandas_dataframe_agent(\n",
    "        llm_zhipuai,\n",
    "        df,\n",
    "        agent_type=\"openai-tools\", # ZhipuAI的工具结构与OpenAI兼容，直接借用了\n",
    "        verbose=True\n",
    "    )\n",
    "agent_executor.invoke(\"船上一共有多少人\")"
   ]
  },
  {
   "cell_type": "code",
   "execution_count": 20,
   "metadata": {},
   "outputs": [
    {
     "name": "stdout",
     "output_type": "stream",
     "text": [
      "\n",
      "\n",
      "\u001b[1m> Entering new AgentExecutor chain...\u001b[0m\n",
      "\u001b[32;1m\u001b[1;3m这个数据集看起来是关于泰坦尼克号乘客的信息。根据 `df.head()` 的输出，数据集中包含以下列：\n",
      "\n",
      "1. **PassengerId**：乘客的唯一标识符。\n",
      "2. **Survived**：一个指示乘客是否幸存的标志，1表示幸存，0表示未幸存。\n",
      "3. **Pclass**：乘客的舱位等级，1代表一等舱，2代表二等舱，3代表三等舱。\n",
      "4. **Name**：乘客的全名。\n",
      "5. **Sex**：乘客的性别。\n",
      "6. **Age**：乘客的年龄。\n",
      "7. **SibSp**：乘客在船上的兄弟姐妹和配偶的数量。\n",
      "8. **Parch**：乘客在船上的父母和孩子的数量。\n",
      "9. **Ticket**：乘客的票号。\n",
      "10. **Fare**：乘客支付的票价。\n",
      "11. **Cabin**：乘客的客舱号码，如果数据不存在则是NaN。\n",
      "12. **Embarked**：乘客上船的港口，S代表南安普敦，C代表 Cherbourg，Q代表 Queenstown。\n",
      "\n",
      "这些信息可以用来分析乘客的生存率与各种因素（如性别、舱位等级、年龄等）之间的关系。\u001b[0m\n",
      "\n",
      "\u001b[1m> Finished chain.\u001b[0m\n"
     ]
    },
    {
     "data": {
      "text/plain": [
       "{'input': '这个数据集中包含哪些信息？',\n",
       " 'output': '这个数据集看起来是关于泰坦尼克号乘客的信息。根据 `df.head()` 的输出，数据集中包含以下列：\\n\\n1. **PassengerId**：乘客的唯一标识符。\\n2. **Survived**：一个指示乘客是否幸存的标志，1表示幸存，0表示未幸存。\\n3. **Pclass**：乘客的舱位等级，1代表一等舱，2代表二等舱，3代表三等舱。\\n4. **Name**：乘客的全名。\\n5. **Sex**：乘客的性别。\\n6. **Age**：乘客的年龄。\\n7. **SibSp**：乘客在船上的兄弟姐妹和配偶的数量。\\n8. **Parch**：乘客在船上的父母和孩子的数量。\\n9. **Ticket**：乘客的票号。\\n10. **Fare**：乘客支付的票价。\\n11. **Cabin**：乘客的客舱号码，如果数据不存在则是NaN。\\n12. **Embarked**：乘客上船的港口，S代表南安普敦，C代表 Cherbourg，Q代表 Queenstown。\\n\\n这些信息可以用来分析乘客的生存率与各种因素（如性别、舱位等级、年龄等）之间的关系。'}"
      ]
     },
     "execution_count": 20,
     "metadata": {},
     "output_type": "execute_result"
    }
   ],
   "source": [
    "from langchain_zhipu import ChatZhipuAI\n",
    "from langchain.agents import AgentType\n",
    "llm_zhipuai = ChatZhipuAI(model=\"glm-4\")\n",
    "agent_executor = create_pandas_dataframe_agent(\n",
    "        llm_zhipuai,\n",
    "        df,\n",
    "        agent_type=\"openai-tools\",\n",
    "        verbose=True\n",
    "    )\n",
    "agent_executor.invoke(\"这个数据集中包含哪些信息？\")"
   ]
  },
  {
   "cell_type": "code",
   "execution_count": null,
   "metadata": {},
   "outputs": [],
   "source": []
  }
 ],
 "metadata": {
  "kernelspec": {
   "display_name": "langchain-zhipu-Ddey8KS3-py3.9",
   "language": "python",
   "name": "python3"
  },
  "language_info": {
   "codemirror_mode": {
    "name": "ipython",
    "version": 3
   },
   "file_extension": ".py",
   "mimetype": "text/x-python",
   "name": "python",
   "nbconvert_exporter": "python",
   "pygments_lexer": "ipython3",
   "version": "3.9.18"
  }
 },
 "nbformat": 4,
 "nbformat_minor": 2
}
